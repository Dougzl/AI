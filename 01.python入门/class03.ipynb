{
 "cells": [
  {
   "metadata": {},
   "cell_type": "markdown",
   "source": [
    "## 进制转换\n",
    "### 十进制转二进制  bin\n",
    "### 十进制转八进制  oct\n",
    "### 十进制转二进制  hex"
   ],
   "id": "54e45da622ac9316"
  },
  {
   "metadata": {
    "ExecuteTime": {
     "end_time": "2024-07-14T06:36:27.345699Z",
     "start_time": "2024-07-14T06:36:27.336698Z"
    }
   },
   "cell_type": "code",
   "source": [
    "num = 129\n",
    "bin(num)"
   ],
   "id": "a68775033746f50",
   "outputs": [
    {
     "data": {
      "text/plain": [
       "'0b10000001'"
      ]
     },
     "execution_count": 5,
     "metadata": {},
     "output_type": "execute_result"
    }
   ],
   "execution_count": 5
  },
  {
   "metadata": {
    "ExecuteTime": {
     "end_time": "2024-07-14T06:36:56.860709Z",
     "start_time": "2024-07-14T06:36:56.848640Z"
    }
   },
   "cell_type": "code",
   "source": "oct(num)",
   "id": "1fce23098e45575f",
   "outputs": [
    {
     "data": {
      "text/plain": [
       "'0o201'"
      ]
     },
     "execution_count": 6,
     "metadata": {},
     "output_type": "execute_result"
    }
   ],
   "execution_count": 6
  },
  {
   "metadata": {
    "ExecuteTime": {
     "end_time": "2024-07-14T06:36:58.045661Z",
     "start_time": "2024-07-14T06:36:58.029281Z"
    }
   },
   "cell_type": "code",
   "source": "hex(num)",
   "id": "edfdac892bdb8711",
   "outputs": [
    {
     "data": {
      "text/plain": [
       "'0x81'"
      ]
     },
     "execution_count": 7,
     "metadata": {},
     "output_type": "execute_result"
    }
   ],
   "execution_count": 7
  },
  {
   "metadata": {
    "ExecuteTime": {
     "end_time": "2024-07-14T06:42:49.122877Z",
     "start_time": "2024-07-14T06:42:49.113097Z"
    }
   },
   "cell_type": "code",
   "source": "0.1 + 0.2",
   "id": "c044c9df61caf3a6",
   "outputs": [
    {
     "data": {
      "text/plain": [
       "0.30000000000000004"
      ]
     },
     "execution_count": 8,
     "metadata": {},
     "output_type": "execute_result"
    }
   ],
   "execution_count": 8
  },
  {
   "metadata": {
    "ExecuteTime": {
     "end_time": "2024-07-14T06:43:01.608461Z",
     "start_time": "2024-07-14T06:43:01.593726Z"
    }
   },
   "cell_type": "code",
   "source": "0.1 + 0.3",
   "id": "e50fe956c2968e90",
   "outputs": [
    {
     "data": {
      "text/plain": [
       "0.4"
      ]
     },
     "execution_count": 9,
     "metadata": {},
     "output_type": "execute_result"
    }
   ],
   "execution_count": 9
  },
  {
   "metadata": {
    "ExecuteTime": {
     "end_time": "2024-07-14T06:47:54.028646Z",
     "start_time": "2024-07-14T06:47:54.023966Z"
    }
   },
   "cell_type": "code",
   "source": "round(0.1 + 0.2, 2)",
   "id": "de4aeb667e95f457",
   "outputs": [
    {
     "data": {
      "text/plain": [
       "0.3"
      ]
     },
     "execution_count": 12,
     "metadata": {},
     "output_type": "execute_result"
    }
   ],
   "execution_count": 12
  },
  {
   "metadata": {
    "ExecuteTime": {
     "end_time": "2024-07-14T07:03:32.615635Z",
     "start_time": "2024-07-14T07:03:32.601230Z"
    }
   },
   "cell_type": "code",
   "source": [
    "dayup = pow(1.001, 365)\n",
    "daydown = pow(0.999, 365)\n",
    "print(\"dayup:{:.2f}, daydown:{:.2f}\".format(dayup, daydown))"
   ],
   "id": "2f72f07e75237cfb",
   "outputs": [
    {
     "name": "stdout",
     "output_type": "stream",
     "text": [
      "dayup:1.44, daydown:0.69\n"
     ]
    }
   ],
   "execution_count": 17
  },
  {
   "metadata": {
    "ExecuteTime": {
     "end_time": "2024-07-14T07:17:13.681018Z",
     "start_time": "2024-07-14T07:17:13.672567Z"
    }
   },
   "cell_type": "code",
   "source": [
    "dayfactor = 0.01\n",
    "dayup = pow(1+dayfactor, 365)\n",
    "daydown = pow(1-dayfactor, 365)\n",
    "print(\"dayup:{:.2f}, daydown:{:.2f}\".format(dayup, daydown))"
   ],
   "id": "243390ef31cc4691",
   "outputs": [
    {
     "name": "stdout",
     "output_type": "stream",
     "text": [
      "dayup:37.78, daydown:0.03\n"
     ]
    }
   ],
   "execution_count": 20
  },
  {
   "metadata": {
    "ExecuteTime": {
     "end_time": "2024-07-14T07:54:30.779278Z",
     "start_time": "2024-07-14T07:54:30.763916Z"
    }
   },
   "cell_type": "code",
   "source": [
    "dayup = 1.00\n",
    "dayfactor = 0.01\n",
    "\n",
    "for i in range(365):\n",
    "    if i % 7 in [6, 0]:\n",
    "        dayup *= 1 - dayfactor\n",
    "    else:\n",
    "        dayup *= 1 + dayfactor\n",
    "\n",
    "print(\"工作日的力量: {:.2f}\".format(dayup))"
   ],
   "id": "eafbeef41cb69b72",
   "outputs": [
    {
     "name": "stdout",
     "output_type": "stream",
     "text": [
      "工作日的力量: 4.63\n"
     ]
    }
   ],
   "execution_count": 25
  },
  {
   "metadata": {
    "ExecuteTime": {
     "end_time": "2024-07-14T08:26:40.161985Z",
     "start_time": "2024-07-14T08:26:40.148956Z"
    }
   },
   "cell_type": "code",
   "source": [
    "def dayUP(df):\n",
    "    dayup = 1\n",
    "    for i in range(365):\n",
    "        if i % 7 in [6, 0]:\n",
    "            dayup *= 0.99\n",
    "        else:\n",
    "            dayup *= 1 + df\n",
    "    return dayup\n",
    "            \n",
    "dayfactor = 0.01\n",
    "while dayUP(dayfactor) < 37.78:\n",
    "    dayfactor+=0.001\n",
    "\n",
    "print(\"工作日的努力的参数是：{:.3f}\".format(dayfactor)) "
   ],
   "id": "83e1a5988f1e80f",
   "outputs": [
    {
     "name": "stdout",
     "output_type": "stream",
     "text": [
      "工作日的努力的参数是：0.019\n"
     ]
    }
   ],
   "execution_count": 40
  },
  {
   "metadata": {
    "ExecuteTime": {
     "end_time": "2024-07-20T00:50:16.401016Z",
     "start_time": "2024-07-20T00:50:16.396017Z"
    }
   },
   "cell_type": "code",
   "source": [
    "import time\n",
    "time.time()"
   ],
   "id": "f532e5c237f5b8da",
   "outputs": [
    {
     "data": {
      "text/plain": [
       "1721436616.3970163"
      ]
     },
     "execution_count": 3,
     "metadata": {},
     "output_type": "execute_result"
    }
   ],
   "execution_count": 3
  },
  {
   "metadata": {
    "ExecuteTime": {
     "end_time": "2024-07-14T08:32:44.129890Z",
     "start_time": "2024-07-14T08:32:44.117462Z"
    }
   },
   "cell_type": "code",
   "source": "time.ctime()",
   "id": "4718186181266843",
   "outputs": [
    {
     "data": {
      "text/plain": [
       "'Sun Jul 14 16:32:44 2024'"
      ]
     },
     "execution_count": 45,
     "metadata": {},
     "output_type": "execute_result"
    }
   ],
   "execution_count": 45
  },
  {
   "metadata": {
    "ExecuteTime": {
     "end_time": "2024-07-14T08:36:45.414369Z",
     "start_time": "2024-07-14T08:36:45.401950Z"
    }
   },
   "cell_type": "code",
   "source": "time.gmtime()",
   "id": "5556e99979d877f6",
   "outputs": [
    {
     "data": {
      "text/plain": [
       "time.struct_time(tm_year=2024, tm_mon=7, tm_mday=14, tm_hour=8, tm_min=36, tm_sec=45, tm_wday=6, tm_yday=196, tm_isdst=0)"
      ]
     },
     "execution_count": 48,
     "metadata": {},
     "output_type": "execute_result"
    }
   ],
   "execution_count": 48
  },
  {
   "metadata": {
    "ExecuteTime": {
     "end_time": "2024-07-14T08:50:23.064204Z",
     "start_time": "2024-07-14T08:50:23.052700Z"
    }
   },
   "cell_type": "code",
   "source": "time.strftime(\"%Y-%m-%d %H:%M:%S\", time.localtime())",
   "id": "e64eb505708658e8",
   "outputs": [
    {
     "data": {
      "text/plain": [
       "'2024-07-14 16:50:23'"
      ]
     },
     "execution_count": 53,
     "metadata": {},
     "output_type": "execute_result"
    }
   ],
   "execution_count": 53
  },
  {
   "metadata": {
    "ExecuteTime": {
     "end_time": "2024-07-20T00:50:36.920796Z",
     "start_time": "2024-07-20T00:50:35.710709Z"
    }
   },
   "cell_type": "code",
   "source": [
    "scale = 10\n",
    "print('--------执行开始----------')\n",
    "for i in range(scale + 1):\n",
    "    a = '*' * i\n",
    "    b = '.' * (scale - i)\n",
    "    c = (i/scale) * 100\n",
    "    print(\"\\r{:^3.0f}%[{}->{}]\".format(c, a, b), end='')\n",
    "    time.sleep(.1)\n",
    "print('--------执行结束----------')"
   ],
   "id": "1a68b5efb88dbe73",
   "outputs": [
    {
     "name": "stdout",
     "output_type": "stream",
     "text": [
      "--------执行开始----------\n",
      "100%[**********->]--------执行结束----------\n"
     ]
    }
   ],
   "execution_count": 5
  },
  {
   "metadata": {
    "ExecuteTime": {
     "end_time": "2024-07-14T09:04:52.709728Z",
     "start_time": "2024-07-14T09:04:41.637825Z"
    }
   },
   "cell_type": "code",
   "source": [
    "for i in range(101):\n",
    "    print(\"\\r{:6}%\".format(i), end=\"\")\n",
    "    time.sleep(0.1)"
   ],
   "id": "3f174a6e93838ebd",
   "outputs": [
    {
     "name": "stdout",
     "output_type": "stream",
     "text": [
      "   100%"
     ]
    }
   ],
   "execution_count": 74
  },
  {
   "metadata": {
    "ExecuteTime": {
     "end_time": "2024-07-14T09:21:15.787974Z",
     "start_time": "2024-07-14T09:21:10.224680Z"
    }
   },
   "cell_type": "code",
   "source": [
    "scale = 50\n",
    "print('执行开始'.center(scale//2, \"-\"))\n",
    "start = time.perf_counter()\n",
    "for i in range(scale + 1):\n",
    "    a = '*' * i\n",
    "    b = '.' * (scale - i)\n",
    "    c = (i/scale) * 100\n",
    "    dur = time.perf_counter() - start\n",
    "    print(\"\\r{:^3.0f}%[{}->{}]{:.2f}s\".format(c, a, b, dur), end=\"\")\n",
    "    time.sleep(.1)\n",
    "print('\\n'+ '执行结束'.center(scale//2, \"-\"))"
   ],
   "id": "a967aa47573b0861",
   "outputs": [
    {
     "name": "stdout",
     "output_type": "stream",
     "text": [
      "-----------执行开始----------\n",
      "100%[**************************************************->]5.44s\n",
      "-----------执行结束----------\n"
     ]
    }
   ],
   "execution_count": 87
  }
 ],
 "metadata": {
  "kernelspec": {
   "display_name": "Python 3",
   "language": "python",
   "name": "python3"
  },
  "language_info": {
   "codemirror_mode": {
    "name": "ipython",
    "version": 2
   },
   "file_extension": ".py",
   "mimetype": "text/x-python",
   "name": "python",
   "nbconvert_exporter": "python",
   "pygments_lexer": "ipython2",
   "version": "2.7.6"
  }
 },
 "nbformat": 4,
 "nbformat_minor": 5
}
