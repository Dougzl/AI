{
 "cells": [
  {
   "cell_type": "markdown",
   "id": "14a0856e-299b-4c70-be7f-6f5afadb31fa",
   "metadata": {},
   "source": "### 斐波那契"
  },
  {
   "cell_type": "code",
   "id": "8368dd3a-b463-4b77-a045-3eff44ae51ef",
   "metadata": {
    "ExecuteTime": {
     "end_time": "2024-12-08T02:37:03.349163Z",
     "start_time": "2024-12-08T02:37:03.323919Z"
    }
   },
   "source": [
    "def fibonacci(num):\n",
    " if num <= 2:\n",
    "    return num\n",
    " else :\n",
    "    return fibonacci(num - 1) + fibonacci(num - 2)\n",
    "\n",
    "print(fibonacci(6))"
   ],
   "outputs": [
    {
     "name": "stdout",
     "output_type": "stream",
     "text": [
      "13\n"
     ]
    }
   ],
   "execution_count": 1
  },
  {
   "metadata": {},
   "cell_type": "markdown",
   "source": "### turtle",
   "id": "b05c79ada5c50c98"
  },
  {
   "metadata": {
    "ExecuteTime": {
     "end_time": "2024-12-08T02:41:55.997483Z",
     "start_time": "2024-12-08T02:41:50.266890Z"
    }
   },
   "cell_type": "code",
   "source": [
    "import turtle\n",
    "\n",
    "t = turtle.Turtle()\n",
    "\n",
    "for _ in range(4):\n",
    "    t.forward(200)\n",
    "    t.left(90)\n",
    "    print(_)\n",
    "\n",
    "turtle.done()\n"
   ],
   "id": "c0da2fb6ca8ee257",
   "outputs": [
    {
     "name": "stdout",
     "output_type": "stream",
     "text": [
      "0\n",
      "1\n",
      "2\n",
      "3\n"
     ]
    }
   ],
   "execution_count": 1
  },
  {
   "metadata": {},
   "cell_type": "markdown",
   "source": "### 作业",
   "id": "ad23b652b6e66ebb"
  },
  {
   "metadata": {},
   "cell_type": "markdown",
   "source": "##### 1， 绘制三角形",
   "id": "9b518384decc9930"
  },
  {
   "metadata": {
    "ExecuteTime": {
     "end_time": "2024-12-08T03:38:25.995535Z",
     "start_time": "2024-12-08T03:37:34.110211Z"
    }
   },
   "cell_type": "code",
   "source": [
    "import turtle\n",
    "import numpy as np\n",
    "\n",
    "t = turtle.Turtle()\n",
    "t.shape('turtle')\n",
    "t.color('purple')\n",
    "\n",
    "num = 5\n",
    "\n",
    "for i in range(num):\n",
    "    t.color(tuple(np.random.rand(3)))\n",
    "    t.forward(100 / np.sin(np.pi / 4))\n",
    "    t.left(135)\n",
    "    t.forward(100)\n",
    "    t.left(90)\n",
    "    t.forward(100)\n",
    "    t.left(360 / num + 135)\n",
    "    print(i)\n",
    "\n",
    "turtle.done()"
   ],
   "id": "2326b0fa18abb79b",
   "outputs": [
    {
     "name": "stdout",
     "output_type": "stream",
     "text": [
      "0\n",
      "1\n",
      "2\n",
      "3\n",
      "4\n"
     ]
    }
   ],
   "execution_count": 1
  },
  {
   "metadata": {},
   "cell_type": "markdown",
   "source": "#### 机器学习",
   "id": "5250b8624d02b303"
  },
  {
   "metadata": {
    "ExecuteTime": {
     "end_time": "2024-12-08T07:24:23.394670Z",
     "start_time": "2024-12-08T07:24:23.229701Z"
    }
   },
   "cell_type": "code",
   "source": [
    "import matplotlib.pyplot as plt\n",
    "\n",
    "# 数据\n",
    "x = [1, 2, 3, 4, 5]\n",
    "y = [2, 3, 5, 7 ,11]\n",
    "\n",
    "# 绘制散点图\n",
    "plt.scatter(x, y, color ='blue', marker='o', label='Prime Numbers')\n",
    "\n",
    "# 添加标题和便标签\n",
    "plt.title('Scatter Plot Example', fontsize=16)\n",
    "plt.xlabel('X-Axis Label', fontsize=12)\n",
    "plt.ylabel('Y-Axis Label', fontsize=12)\n",
    "\n",
    "# 显示网格线和图例\n",
    "plt.grid(True, linestyle= '--', alpha= 0.6)\n",
    "plt.legend()\n",
    "\n",
    "# 显示\n",
    "plt.show()\n"
   ],
   "id": "f7a9d02b49c8a020",
   "outputs": [
    {
     "data": {
      "text/plain": [
       "<Figure size 640x480 with 1 Axes>"
      ],
      "image/png": "[encoded data removed]"
     },
     "metadata": {},
     "output_type": "display_data"
    }
   ],
   "execution_count": 3
  },
  {
   "metadata": {},
   "cell_type": "markdown",
   "source": "### 机器学习\n",
   "id": "75ea45bb695d754d"
  },
  {
   "metadata": {
    "ExecuteTime": {
     "end_time": "2024-12-08T07:43:02.154346Z",
     "start_time": "2024-12-08T07:43:02.132410Z"
    }
   },
   "cell_type": "code",
   "source": [
    "import numpy as np\n",
    "from collections import Counter\n",
    "\n",
    "lines = open('Iris/Iris-train.csv', 'r').readlines()\n",
    "\n",
    "x = []\n",
    "y = []\n",
    "\n",
    "for line in lines:\n",
    "    ll = line.strip().split(',')\n",
    "    x.append([float(ll[3]), float(ll[4])])\n",
    "    y_string = ll[5]\n",
    "    if y_string == 'Iris-setosa':\n",
    "        y.append(0)\n",
    "    elif y_string == 'Iris-versicolor':\n",
    "        y.append(1)\n",
    "    elif y_string == 'Iris-virginica':\n",
    "        y.append(2)\n",
    "\n",
    "x_predict = [1.4, 0.3]\n",
    "vec2 = np.array(x_predict)\n",
    "\n",
    "d_d = {}\n",
    "for index, i in enumerate(x):\n",
    "    vec1 = np.array(i)\n",
    "    dist = np.linalg.norm(vec1 - vec2)\n",
    "    d_d[index] = dist\n",
    "\n",
    "d_d_s = sorted(d_d.items(), key=lambda x: x[1])\n",
    "nn = d_d_s[0:5:1]\n",
    "predict_l = []\n",
    "\n",
    "for i in nn:\n",
    "    predict_l.append(y[i[0]])\n",
    "\n",
    "predict_l_max = Counter(predict_l).most_common(1)\n",
    "y_predict = predict_l_max[0][0]\n",
    "\n",
    "if y_predict == 0:\n",
    "    print('Iris-setosa')\n",
    "elif y_predict == 1:\n",
    "    print('Iris-veresicolor')\n",
    "elif y_predict == 2:\n",
    "    print('Iris-virginica')\n",
    "\n"
   ],
   "id": "7042b289b78a9524",
   "outputs": [
    {
     "name": "stdout",
     "output_type": "stream",
     "text": [
      "Iris-setosa\n"
     ]
    }
   ],
   "execution_count": 13
  },
  {
   "metadata": {},
   "cell_type": "code",
   "outputs": [],
   "execution_count": null,
   "source": "",
   "id": "5d6712d56be1e7f"
  }
 ],
 "metadata": {
  "kernelspec": {
   "display_name": "Python 3 (ipykernel)",
   "language": "python",
   "name": "python3"
  },
  "language_info": {
   "codemirror_mode": {
    "name": "ipython",
    "version": 3
   },
   "file_extension": ".py",
   "mimetype": "text/x-python",
   "name": "python",
   "nbconvert_exporter": "python",
   "pygments_lexer": "ipython3",
   "version": "3.9.5"
  }
 },
 "nbformat": 4,
 "nbformat_minor": 5
}
