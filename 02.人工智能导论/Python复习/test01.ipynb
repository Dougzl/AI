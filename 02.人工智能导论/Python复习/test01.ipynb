{
 "cells": [
  {
   "cell_type": "markdown",
   "id": "14a0856e-299b-4c70-be7f-6f5afadb31fa",
   "metadata": {},
   "source": "### 斐波那契"
  },
  {
   "cell_type": "code",
   "id": "8368dd3a-b463-4b77-a045-3eff44ae51ef",
   "metadata": {
    "ExecuteTime": {
     "end_time": "2024-12-08T02:37:03.349163Z",
     "start_time": "2024-12-08T02:37:03.323919Z"
    }
   },
   "source": [
    "def fibonacci(num):\n",
    " if num <= 2:\n",
    "    return num\n",
    " else :\n",
    "    return fibonacci(num - 1) + fibonacci(num - 2)\n",
    "\n",
    "print(fibonacci(6))"
   ],
   "outputs": [
    {
     "name": "stdout",
     "output_type": "stream",
     "text": [
      "13\n"
     ]
    }
   ],
   "execution_count": 1
  },
  {
   "metadata": {},
   "cell_type": "markdown",
   "source": "### turtle",
   "id": "b05c79ada5c50c98"
  },
  {
   "metadata": {
    "ExecuteTime": {
     "end_time": "2024-12-08T02:41:55.997483Z",
     "start_time": "2024-12-08T02:41:50.266890Z"
    }
   },
   "cell_type": "code",
   "source": [
    "import turtle\n",
    "\n",
    "t = turtle.Turtle()\n",
    "\n",
    "for _ in range(4):\n",
    "    t.forward(200)\n",
    "    t.left(90)\n",
    "    print(_)\n",
    "\n",
    "turtle.done()\n"
   ],
   "id": "c0da2fb6ca8ee257",
   "outputs": [
    {
     "name": "stdout",
     "output_type": "stream",
     "text": [
      "0\n",
      "1\n",
      "2\n",
      "3\n"
     ]
    }
   ],
   "execution_count": 1
  },
  {
   "metadata": {},
   "cell_type": "markdown",
   "source": "### 作业",
   "id": "ad23b652b6e66ebb"
  },
  {
   "metadata": {},
   "cell_type": "markdown",
   "source": "##### 1， 绘制三角形",
   "id": "9b518384decc9930"
  },
  {
   "metadata": {
    "ExecuteTime": {
     "end_time": "2024-12-08T03:38:25.995535Z",
     "start_time": "2024-12-08T03:37:34.110211Z"
    }
   },
   "cell_type": "code",
   "source": [
    "import turtle\n",
    "import numpy as np\n",
    "\n",
    "t = turtle.Turtle()\n",
    "t.shape('turtle')\n",
    "t.color('purple')\n",
    "\n",
    "num = 5\n",
    "\n",
    "for i in range(num):\n",
    "    t.color(tuple(np.random.rand(3)))\n",
    "    t.forward(100 / np.sin(np.pi / 4))\n",
    "    t.left(135)\n",
    "    t.forward(100)\n",
    "    t.left(90)\n",
    "    t.forward(100)\n",
    "    t.left(360 / num + 135)\n",
    "    print(i)\n",
    "\n",
    "turtle.done()"
   ],
   "id": "2326b0fa18abb79b",
   "outputs": [
    {
     "name": "stdout",
     "output_type": "stream",
     "text": [
      "0\n",
      "1\n",
      "2\n",
      "3\n",
      "4\n"
     ]
    }
   ],
   "execution_count": 1
  }
 ],
 "metadata": {
  "kernelspec": {
   "display_name": "Python 3 (ipykernel)",
   "language": "python",
   "name": "python3"
  },
  "language_info": {
   "codemirror_mode": {
    "name": "ipython",
    "version": 3
   },
   "file_extension": ".py",
   "mimetype": "text/x-python",
   "name": "python",
   "nbconvert_exporter": "python",
   "pygments_lexer": "ipython3",
   "version": "3.9.5"
  }
 },
 "nbformat": 4,
 "nbformat_minor": 5
}
