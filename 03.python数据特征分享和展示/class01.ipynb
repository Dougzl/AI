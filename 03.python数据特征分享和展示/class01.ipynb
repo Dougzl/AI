{
 "cells": [
  {
   "cell_type": "code",
   "id": "initial_id",
   "metadata": {
    "collapsed": true,
    "ExecuteTime": {
     "end_time": "2024-12-14T01:29:05.634576Z",
     "start_time": "2024-12-14T01:29:05.234046Z"
    }
   },
   "source": [
    "from os import times_result\n",
    "\n",
    "import numpy as np\n",
    "import pandas as pd\n",
    "from pandas import DataFrame"
   ],
   "outputs": [],
   "execution_count": 1
  },
  {
   "metadata": {},
   "cell_type": "markdown",
   "source": [
    "### 替换操作\n",
    "##### 替换操作可以同步作用于Series和DataFrame中\n",
    "##### 单值替换\n",
    "#####"
   ],
   "id": "2e81f01a967f7847"
  },
  {
   "metadata": {
    "ExecuteTime": {
     "end_time": "2024-12-14T01:29:05.651682Z",
     "start_time": "2024-12-14T01:29:05.645501Z"
    }
   },
   "cell_type": "code",
   "source": "df = DataFrame(data = np.random.randint(0, 100, size=(5,6)))",
   "id": "5d8d222c237d255c",
   "outputs": [],
   "execution_count": 2
  },
  {
   "metadata": {
    "ExecuteTime": {
     "end_time": "2024-12-14T01:29:05.670068Z",
     "start_time": "2024-12-14T01:29:05.658081Z"
    }
   },
   "cell_type": "code",
   "source": "df.replace(to_replace= 77, value = 'Nine') # 普通替换",
   "id": "9cd9dd527f30b834",
   "outputs": [
    {
     "data": {
      "text/plain": [
       "    0   1   2   3   4   5\n",
       "0  15  13  28  17  19  57\n",
       "1  79  83  74   2  15  71\n",
       "2  39  64  32  83  17  18\n",
       "3  81  78  62  89  39  30\n",
       "4  36  80  37  32  48  42"
      ],
      "text/html": [
       "<div>\n",
       "<style scoped>\n",
       "    .dataframe tbody tr th:only-of-type {\n",
       "        vertical-align: middle;\n",
       "    }\n",
       "\n",
       "    .dataframe tbody tr th {\n",
       "        vertical-align: top;\n",
       "    }\n",
       "\n",
       "    .dataframe thead th {\n",
       "        text-align: right;\n",
       "    }\n",
       "</style>\n",
       "<table border=\"1\" class=\"dataframe\">\n",
       "  <thead>\n",
       "    <tr style=\"text-align: right;\">\n",
       "      <th></th>\n",
       "      <th>0</th>\n",
       "      <th>1</th>\n",
       "      <th>2</th>\n",
       "      <th>3</th>\n",
       "      <th>4</th>\n",
       "      <th>5</th>\n",
       "    </tr>\n",
       "  </thead>\n",
       "  <tbody>\n",
       "    <tr>\n",
       "      <th>0</th>\n",
       "      <td>15</td>\n",
       "      <td>13</td>\n",
       "      <td>28</td>\n",
       "      <td>17</td>\n",
       "      <td>19</td>\n",
       "      <td>57</td>\n",
       "    </tr>\n",
       "    <tr>\n",
       "      <th>1</th>\n",
       "      <td>79</td>\n",
       "      <td>83</td>\n",
       "      <td>74</td>\n",
       "      <td>2</td>\n",
       "      <td>15</td>\n",
       "      <td>71</td>\n",
       "    </tr>\n",
       "    <tr>\n",
       "      <th>2</th>\n",
       "      <td>39</td>\n",
       "      <td>64</td>\n",
       "      <td>32</td>\n",
       "      <td>83</td>\n",
       "      <td>17</td>\n",
       "      <td>18</td>\n",
       "    </tr>\n",
       "    <tr>\n",
       "      <th>3</th>\n",
       "      <td>81</td>\n",
       "      <td>78</td>\n",
       "      <td>62</td>\n",
       "      <td>89</td>\n",
       "      <td>39</td>\n",
       "      <td>30</td>\n",
       "    </tr>\n",
       "    <tr>\n",
       "      <th>4</th>\n",
       "      <td>36</td>\n",
       "      <td>80</td>\n",
       "      <td>37</td>\n",
       "      <td>32</td>\n",
       "      <td>48</td>\n",
       "      <td>42</td>\n",
       "    </tr>\n",
       "  </tbody>\n",
       "</table>\n",
       "</div>"
      ]
     },
     "execution_count": 3,
     "metadata": {},
     "output_type": "execute_result"
    }
   ],
   "execution_count": 3
  },
  {
   "metadata": {
    "ExecuteTime": {
     "end_time": "2024-12-14T01:29:05.864648Z",
     "start_time": "2024-12-14T01:29:05.856897Z"
    }
   },
   "cell_type": "code",
   "source": "df.replace(to_replace={0: 'eight'}) #字典替换",
   "id": "5021f5ed31af9e33",
   "outputs": [
    {
     "data": {
      "text/plain": [
       "    0   1   2   3   4   5\n",
       "0  15  13  28  17  19  57\n",
       "1  79  83  74   2  15  71\n",
       "2  39  64  32  83  17  18\n",
       "3  81  78  62  89  39  30\n",
       "4  36  80  37  32  48  42"
      ],
      "text/html": [
       "<div>\n",
       "<style scoped>\n",
       "    .dataframe tbody tr th:only-of-type {\n",
       "        vertical-align: middle;\n",
       "    }\n",
       "\n",
       "    .dataframe tbody tr th {\n",
       "        vertical-align: top;\n",
       "    }\n",
       "\n",
       "    .dataframe thead th {\n",
       "        text-align: right;\n",
       "    }\n",
       "</style>\n",
       "<table border=\"1\" class=\"dataframe\">\n",
       "  <thead>\n",
       "    <tr style=\"text-align: right;\">\n",
       "      <th></th>\n",
       "      <th>0</th>\n",
       "      <th>1</th>\n",
       "      <th>2</th>\n",
       "      <th>3</th>\n",
       "      <th>4</th>\n",
       "      <th>5</th>\n",
       "    </tr>\n",
       "  </thead>\n",
       "  <tbody>\n",
       "    <tr>\n",
       "      <th>0</th>\n",
       "      <td>15</td>\n",
       "      <td>13</td>\n",
       "      <td>28</td>\n",
       "      <td>17</td>\n",
       "      <td>19</td>\n",
       "      <td>57</td>\n",
       "    </tr>\n",
       "    <tr>\n",
       "      <th>1</th>\n",
       "      <td>79</td>\n",
       "      <td>83</td>\n",
       "      <td>74</td>\n",
       "      <td>2</td>\n",
       "      <td>15</td>\n",
       "      <td>71</td>\n",
       "    </tr>\n",
       "    <tr>\n",
       "      <th>2</th>\n",
       "      <td>39</td>\n",
       "      <td>64</td>\n",
       "      <td>32</td>\n",
       "      <td>83</td>\n",
       "      <td>17</td>\n",
       "      <td>18</td>\n",
       "    </tr>\n",
       "    <tr>\n",
       "      <th>3</th>\n",
       "      <td>81</td>\n",
       "      <td>78</td>\n",
       "      <td>62</td>\n",
       "      <td>89</td>\n",
       "      <td>39</td>\n",
       "      <td>30</td>\n",
       "    </tr>\n",
       "    <tr>\n",
       "      <th>4</th>\n",
       "      <td>36</td>\n",
       "      <td>80</td>\n",
       "      <td>37</td>\n",
       "      <td>32</td>\n",
       "      <td>48</td>\n",
       "      <td>42</td>\n",
       "    </tr>\n",
       "  </tbody>\n",
       "</table>\n",
       "</div>"
      ]
     },
     "execution_count": 4,
     "metadata": {},
     "output_type": "execute_result"
    }
   ],
   "execution_count": 4
  },
  {
   "metadata": {
    "ExecuteTime": {
     "end_time": "2024-12-14T01:29:05.965231Z",
     "start_time": "2024-12-14T01:29:05.956760Z"
    }
   },
   "cell_type": "code",
   "source": "df.replace(to_replace={3:5}, value= 'Nine')",
   "id": "5360183fbd95e67e",
   "outputs": [
    {
     "data": {
      "text/plain": [
       "    0   1   2   3   4   5\n",
       "0  15  13  28  17  19  57\n",
       "1  79  83  74   2  15  71\n",
       "2  39  64  32  83  17  18\n",
       "3  81  78  62  89  39  30\n",
       "4  36  80  37  32  48  42"
      ],
      "text/html": [
       "<div>\n",
       "<style scoped>\n",
       "    .dataframe tbody tr th:only-of-type {\n",
       "        vertical-align: middle;\n",
       "    }\n",
       "\n",
       "    .dataframe tbody tr th {\n",
       "        vertical-align: top;\n",
       "    }\n",
       "\n",
       "    .dataframe thead th {\n",
       "        text-align: right;\n",
       "    }\n",
       "</style>\n",
       "<table border=\"1\" class=\"dataframe\">\n",
       "  <thead>\n",
       "    <tr style=\"text-align: right;\">\n",
       "      <th></th>\n",
       "      <th>0</th>\n",
       "      <th>1</th>\n",
       "      <th>2</th>\n",
       "      <th>3</th>\n",
       "      <th>4</th>\n",
       "      <th>5</th>\n",
       "    </tr>\n",
       "  </thead>\n",
       "  <tbody>\n",
       "    <tr>\n",
       "      <th>0</th>\n",
       "      <td>15</td>\n",
       "      <td>13</td>\n",
       "      <td>28</td>\n",
       "      <td>17</td>\n",
       "      <td>19</td>\n",
       "      <td>57</td>\n",
       "    </tr>\n",
       "    <tr>\n",
       "      <th>1</th>\n",
       "      <td>79</td>\n",
       "      <td>83</td>\n",
       "      <td>74</td>\n",
       "      <td>2</td>\n",
       "      <td>15</td>\n",
       "      <td>71</td>\n",
       "    </tr>\n",
       "    <tr>\n",
       "      <th>2</th>\n",
       "      <td>39</td>\n",
       "      <td>64</td>\n",
       "      <td>32</td>\n",
       "      <td>83</td>\n",
       "      <td>17</td>\n",
       "      <td>18</td>\n",
       "    </tr>\n",
       "    <tr>\n",
       "      <th>3</th>\n",
       "      <td>81</td>\n",
       "      <td>78</td>\n",
       "      <td>62</td>\n",
       "      <td>89</td>\n",
       "      <td>39</td>\n",
       "      <td>30</td>\n",
       "    </tr>\n",
       "    <tr>\n",
       "      <th>4</th>\n",
       "      <td>36</td>\n",
       "      <td>80</td>\n",
       "      <td>37</td>\n",
       "      <td>32</td>\n",
       "      <td>48</td>\n",
       "      <td>42</td>\n",
       "    </tr>\n",
       "  </tbody>\n",
       "</table>\n",
       "</div>"
      ]
     },
     "execution_count": 5,
     "metadata": {},
     "output_type": "execute_result"
    }
   ],
   "execution_count": 5
  },
  {
   "metadata": {
    "ExecuteTime": {
     "end_time": "2024-12-14T01:29:06.370915Z",
     "start_time": "2024-12-14T01:29:06.364533Z"
    }
   },
   "cell_type": "code",
   "source": "df.replace(to_replace={4:77}, value= 'nine') # 将指定列中具体的某一个元素进行替换， to_replace={列索引: 被替换的值}, value = ‘要替换的值’",
   "id": "a21cfadbb7819d9d",
   "outputs": [
    {
     "data": {
      "text/plain": [
       "    0   1   2   3   4   5\n",
       "0  15  13  28  17  19  57\n",
       "1  79  83  74   2  15  71\n",
       "2  39  64  32  83  17  18\n",
       "3  81  78  62  89  39  30\n",
       "4  36  80  37  32  48  42"
      ],
      "text/html": [
       "<div>\n",
       "<style scoped>\n",
       "    .dataframe tbody tr th:only-of-type {\n",
       "        vertical-align: middle;\n",
       "    }\n",
       "\n",
       "    .dataframe tbody tr th {\n",
       "        vertical-align: top;\n",
       "    }\n",
       "\n",
       "    .dataframe thead th {\n",
       "        text-align: right;\n",
       "    }\n",
       "</style>\n",
       "<table border=\"1\" class=\"dataframe\">\n",
       "  <thead>\n",
       "    <tr style=\"text-align: right;\">\n",
       "      <th></th>\n",
       "      <th>0</th>\n",
       "      <th>1</th>\n",
       "      <th>2</th>\n",
       "      <th>3</th>\n",
       "      <th>4</th>\n",
       "      <th>5</th>\n",
       "    </tr>\n",
       "  </thead>\n",
       "  <tbody>\n",
       "    <tr>\n",
       "      <th>0</th>\n",
       "      <td>15</td>\n",
       "      <td>13</td>\n",
       "      <td>28</td>\n",
       "      <td>17</td>\n",
       "      <td>19</td>\n",
       "      <td>57</td>\n",
       "    </tr>\n",
       "    <tr>\n",
       "      <th>1</th>\n",
       "      <td>79</td>\n",
       "      <td>83</td>\n",
       "      <td>74</td>\n",
       "      <td>2</td>\n",
       "      <td>15</td>\n",
       "      <td>71</td>\n",
       "    </tr>\n",
       "    <tr>\n",
       "      <th>2</th>\n",
       "      <td>39</td>\n",
       "      <td>64</td>\n",
       "      <td>32</td>\n",
       "      <td>83</td>\n",
       "      <td>17</td>\n",
       "      <td>18</td>\n",
       "    </tr>\n",
       "    <tr>\n",
       "      <th>3</th>\n",
       "      <td>81</td>\n",
       "      <td>78</td>\n",
       "      <td>62</td>\n",
       "      <td>89</td>\n",
       "      <td>39</td>\n",
       "      <td>30</td>\n",
       "    </tr>\n",
       "    <tr>\n",
       "      <th>4</th>\n",
       "      <td>36</td>\n",
       "      <td>80</td>\n",
       "      <td>37</td>\n",
       "      <td>32</td>\n",
       "      <td>48</td>\n",
       "      <td>42</td>\n",
       "    </tr>\n",
       "  </tbody>\n",
       "</table>\n",
       "</div>"
      ]
     },
     "execution_count": 6,
     "metadata": {},
     "output_type": "execute_result"
    }
   ],
   "execution_count": 6
  },
  {
   "metadata": {
    "ExecuteTime": {
     "end_time": "2024-12-14T01:29:07.078075Z",
     "start_time": "2024-12-14T01:29:07.070244Z"
    }
   },
   "cell_type": "code",
   "source": "df.replace(to_replace={77: 'seven', 88: 'eight', 0:8})",
   "id": "ce7c52364d221710",
   "outputs": [
    {
     "data": {
      "text/plain": [
       "    0   1   2   3   4   5\n",
       "0  15  13  28  17  19  57\n",
       "1  79  83  74   2  15  71\n",
       "2  39  64  32  83  17  18\n",
       "3  81  78  62  89  39  30\n",
       "4  36  80  37  32  48  42"
      ],
      "text/html": [
       "<div>\n",
       "<style scoped>\n",
       "    .dataframe tbody tr th:only-of-type {\n",
       "        vertical-align: middle;\n",
       "    }\n",
       "\n",
       "    .dataframe tbody tr th {\n",
       "        vertical-align: top;\n",
       "    }\n",
       "\n",
       "    .dataframe thead th {\n",
       "        text-align: right;\n",
       "    }\n",
       "</style>\n",
       "<table border=\"1\" class=\"dataframe\">\n",
       "  <thead>\n",
       "    <tr style=\"text-align: right;\">\n",
       "      <th></th>\n",
       "      <th>0</th>\n",
       "      <th>1</th>\n",
       "      <th>2</th>\n",
       "      <th>3</th>\n",
       "      <th>4</th>\n",
       "      <th>5</th>\n",
       "    </tr>\n",
       "  </thead>\n",
       "  <tbody>\n",
       "    <tr>\n",
       "      <th>0</th>\n",
       "      <td>15</td>\n",
       "      <td>13</td>\n",
       "      <td>28</td>\n",
       "      <td>17</td>\n",
       "      <td>19</td>\n",
       "      <td>57</td>\n",
       "    </tr>\n",
       "    <tr>\n",
       "      <th>1</th>\n",
       "      <td>79</td>\n",
       "      <td>83</td>\n",
       "      <td>74</td>\n",
       "      <td>2</td>\n",
       "      <td>15</td>\n",
       "      <td>71</td>\n",
       "    </tr>\n",
       "    <tr>\n",
       "      <th>2</th>\n",
       "      <td>39</td>\n",
       "      <td>64</td>\n",
       "      <td>32</td>\n",
       "      <td>83</td>\n",
       "      <td>17</td>\n",
       "      <td>18</td>\n",
       "    </tr>\n",
       "    <tr>\n",
       "      <th>3</th>\n",
       "      <td>81</td>\n",
       "      <td>78</td>\n",
       "      <td>62</td>\n",
       "      <td>89</td>\n",
       "      <td>39</td>\n",
       "      <td>30</td>\n",
       "    </tr>\n",
       "    <tr>\n",
       "      <th>4</th>\n",
       "      <td>36</td>\n",
       "      <td>80</td>\n",
       "      <td>37</td>\n",
       "      <td>32</td>\n",
       "      <td>48</td>\n",
       "      <td>42</td>\n",
       "    </tr>\n",
       "  </tbody>\n",
       "</table>\n",
       "</div>"
      ]
     },
     "execution_count": 7,
     "metadata": {},
     "output_type": "execute_result"
    }
   ],
   "execution_count": 7
  },
  {
   "metadata": {},
   "cell_type": "markdown",
   "source": [
    "### 映射操作\n",
    "#### - 概念： 创建一个映射关系列表，把values元素和一个特定的标签或者字符串绑定（给一个元素值不同的表现形式）\n",
    "#### - 创建df, 两列分别是姓名和薪资， 然后给起名字取对应的英文名"
   ],
   "id": "422406a2b923fc32"
  },
  {
   "metadata": {
    "ExecuteTime": {
     "end_time": "2024-12-14T01:29:07.717851Z",
     "start_time": "2024-12-14T01:29:07.709141Z"
    }
   },
   "cell_type": "code",
   "source": [
    "dic = {\n",
    "    'name': ['张三', '李四', '王五'],\n",
    "    'Salary': [15000, 20000, 18000]\n",
    "}\n",
    "df = DataFrame(data = dic)\n",
    "df"
   ],
   "id": "2f66fac00e9d9799",
   "outputs": [
    {
     "data": {
      "text/plain": [
       "  name  Salary\n",
       "0   张三   15000\n",
       "1   李四   20000\n",
       "2   王五   18000"
      ],
      "text/html": [
       "<div>\n",
       "<style scoped>\n",
       "    .dataframe tbody tr th:only-of-type {\n",
       "        vertical-align: middle;\n",
       "    }\n",
       "\n",
       "    .dataframe tbody tr th {\n",
       "        vertical-align: top;\n",
       "    }\n",
       "\n",
       "    .dataframe thead th {\n",
       "        text-align: right;\n",
       "    }\n",
       "</style>\n",
       "<table border=\"1\" class=\"dataframe\">\n",
       "  <thead>\n",
       "    <tr style=\"text-align: right;\">\n",
       "      <th></th>\n",
       "      <th>name</th>\n",
       "      <th>Salary</th>\n",
       "    </tr>\n",
       "  </thead>\n",
       "  <tbody>\n",
       "    <tr>\n",
       "      <th>0</th>\n",
       "      <td>张三</td>\n",
       "      <td>15000</td>\n",
       "    </tr>\n",
       "    <tr>\n",
       "      <th>1</th>\n",
       "      <td>李四</td>\n",
       "      <td>20000</td>\n",
       "    </tr>\n",
       "    <tr>\n",
       "      <th>2</th>\n",
       "      <td>王五</td>\n",
       "      <td>18000</td>\n",
       "    </tr>\n",
       "  </tbody>\n",
       "</table>\n",
       "</div>"
      ]
     },
     "execution_count": 8,
     "metadata": {},
     "output_type": "execute_result"
    }
   ],
   "execution_count": 8
  },
  {
   "metadata": {
    "ExecuteTime": {
     "end_time": "2024-12-14T01:34:09.616882Z",
     "start_time": "2024-12-14T01:34:09.609232Z"
    }
   },
   "cell_type": "code",
   "source": [
    "#映射表\n",
    "dic = {\n",
    "    '张三': 'tom',\n",
    "    '李四': 'jack',\n",
    "    '王五': 'rouse'\n",
    "}\n",
    "df['e_name'] = df['name'].map(dic) # 这里的map是Series里的函数,是映射需要的函数\n",
    "df"
   ],
   "id": "b70e6bdc75d83f08",
   "outputs": [
    {
     "data": {
      "text/plain": [
       "  name  Salary e_name\n",
       "0   张三   15000    tom\n",
       "1   李四   20000   jack\n",
       "2   王五   18000  rouse"
      ],
      "text/html": [
       "<div>\n",
       "<style scoped>\n",
       "    .dataframe tbody tr th:only-of-type {\n",
       "        vertical-align: middle;\n",
       "    }\n",
       "\n",
       "    .dataframe tbody tr th {\n",
       "        vertical-align: top;\n",
       "    }\n",
       "\n",
       "    .dataframe thead th {\n",
       "        text-align: right;\n",
       "    }\n",
       "</style>\n",
       "<table border=\"1\" class=\"dataframe\">\n",
       "  <thead>\n",
       "    <tr style=\"text-align: right;\">\n",
       "      <th></th>\n",
       "      <th>name</th>\n",
       "      <th>Salary</th>\n",
       "      <th>e_name</th>\n",
       "    </tr>\n",
       "  </thead>\n",
       "  <tbody>\n",
       "    <tr>\n",
       "      <th>0</th>\n",
       "      <td>张三</td>\n",
       "      <td>15000</td>\n",
       "      <td>tom</td>\n",
       "    </tr>\n",
       "    <tr>\n",
       "      <th>1</th>\n",
       "      <td>李四</td>\n",
       "      <td>20000</td>\n",
       "      <td>jack</td>\n",
       "    </tr>\n",
       "    <tr>\n",
       "      <th>2</th>\n",
       "      <td>王五</td>\n",
       "      <td>18000</td>\n",
       "      <td>rouse</td>\n",
       "    </tr>\n",
       "  </tbody>\n",
       "</table>\n",
       "</div>"
      ]
     },
     "execution_count": 9,
     "metadata": {},
     "output_type": "execute_result"
    }
   ],
   "execution_count": 9
  },
  {
   "metadata": {},
   "cell_type": "markdown",
   "source": "#### map 除了可以做映射工具,也可以做运算工具",
   "id": "68bf6cb73b3e8fce"
  },
  {
   "metadata": {
    "ExecuteTime": {
     "end_time": "2024-12-14T01:43:56.602737Z",
     "start_time": "2024-12-14T01:43:56.594439Z"
    }
   },
   "cell_type": "code",
   "source": [
    "#薪资超过5000的部分, 收取20%的个人所得税, 计算每个人的税后薪资\n",
    "def after_sal(s):\n",
    "  return  (s - (s-5000) * 0.2) if s > 5000 else s\n",
    "\n",
    "df['after_sal'] = df['Salary'].map(after_sal) # 可以将['salary'] 这个Series中的每个元素(薪资)作为参数传递给s\n",
    "df"
   ],
   "id": "78a0bc1a31c45a00",
   "outputs": [
    {
     "data": {
      "text/plain": [
       "  name  Salary e_name  after_sal\n",
       "0   张三   15000    tom    13000.0\n",
       "1   李四   20000   jack    17000.0\n",
       "2   王五   18000  rouse    15400.0"
      ],
      "text/html": [
       "<div>\n",
       "<style scoped>\n",
       "    .dataframe tbody tr th:only-of-type {\n",
       "        vertical-align: middle;\n",
       "    }\n",
       "\n",
       "    .dataframe tbody tr th {\n",
       "        vertical-align: top;\n",
       "    }\n",
       "\n",
       "    .dataframe thead th {\n",
       "        text-align: right;\n",
       "    }\n",
       "</style>\n",
       "<table border=\"1\" class=\"dataframe\">\n",
       "  <thead>\n",
       "    <tr style=\"text-align: right;\">\n",
       "      <th></th>\n",
       "      <th>name</th>\n",
       "      <th>Salary</th>\n",
       "      <th>e_name</th>\n",
       "      <th>after_sal</th>\n",
       "    </tr>\n",
       "  </thead>\n",
       "  <tbody>\n",
       "    <tr>\n",
       "      <th>0</th>\n",
       "      <td>张三</td>\n",
       "      <td>15000</td>\n",
       "      <td>tom</td>\n",
       "      <td>13000.0</td>\n",
       "    </tr>\n",
       "    <tr>\n",
       "      <th>1</th>\n",
       "      <td>李四</td>\n",
       "      <td>20000</td>\n",
       "      <td>jack</td>\n",
       "      <td>17000.0</td>\n",
       "    </tr>\n",
       "    <tr>\n",
       "      <th>2</th>\n",
       "      <td>王五</td>\n",
       "      <td>18000</td>\n",
       "      <td>rouse</td>\n",
       "      <td>15400.0</td>\n",
       "    </tr>\n",
       "  </tbody>\n",
       "</table>\n",
       "</div>"
      ]
     },
     "execution_count": 10,
     "metadata": {},
     "output_type": "execute_result"
    }
   ],
   "execution_count": 10
  },
  {
   "metadata": {},
   "cell_type": "markdown",
   "source": [
    "#### 数据的分类处理\n",
    "##### - 数据分类处理的两个部分\n",
    "##### - groupby()函数\n",
    "##### - group 属性查看分组情况"
   ],
   "id": "7545d4777bef320d"
  },
  {
   "metadata": {
    "ExecuteTime": {
     "end_time": "2024-12-14T01:49:49.881252Z",
     "start_time": "2024-12-14T01:49:49.874284Z"
    }
   },
   "cell_type": "code",
   "source": [
    "df = DataFrame({'item': ['Apple', 'Orange', 'Banana', 'Orange', 'Banana', 'Apple'],\n",
    "               'price': [1, 2, 3, 4, 5, 6],\n",
    "               'color': ['red', 'yellow', 'yellow', 'green', 'green', 'green'],\n",
    "               'weight': [12, 20, 50, 30, 23, 12]})\n",
    "df"
   ],
   "id": "83d0f297c4697c06",
   "outputs": [
    {
     "data": {
      "text/plain": [
       "     item  price   color  weight\n",
       "0   Apple      1     red      12\n",
       "1  Orange      2  yellow      20\n",
       "2  Banana      3  yellow      50\n",
       "3  Orange      4   green      30\n",
       "4  Banana      5   green      23\n",
       "5   Apple      6   green      12"
      ],
      "text/html": [
       "<div>\n",
       "<style scoped>\n",
       "    .dataframe tbody tr th:only-of-type {\n",
       "        vertical-align: middle;\n",
       "    }\n",
       "\n",
       "    .dataframe tbody tr th {\n",
       "        vertical-align: top;\n",
       "    }\n",
       "\n",
       "    .dataframe thead th {\n",
       "        text-align: right;\n",
       "    }\n",
       "</style>\n",
       "<table border=\"1\" class=\"dataframe\">\n",
       "  <thead>\n",
       "    <tr style=\"text-align: right;\">\n",
       "      <th></th>\n",
       "      <th>item</th>\n",
       "      <th>price</th>\n",
       "      <th>color</th>\n",
       "      <th>weight</th>\n",
       "    </tr>\n",
       "  </thead>\n",
       "  <tbody>\n",
       "    <tr>\n",
       "      <th>0</th>\n",
       "      <td>Apple</td>\n",
       "      <td>1</td>\n",
       "      <td>red</td>\n",
       "      <td>12</td>\n",
       "    </tr>\n",
       "    <tr>\n",
       "      <th>1</th>\n",
       "      <td>Orange</td>\n",
       "      <td>2</td>\n",
       "      <td>yellow</td>\n",
       "      <td>20</td>\n",
       "    </tr>\n",
       "    <tr>\n",
       "      <th>2</th>\n",
       "      <td>Banana</td>\n",
       "      <td>3</td>\n",
       "      <td>yellow</td>\n",
       "      <td>50</td>\n",
       "    </tr>\n",
       "    <tr>\n",
       "      <th>3</th>\n",
       "      <td>Orange</td>\n",
       "      <td>4</td>\n",
       "      <td>green</td>\n",
       "      <td>30</td>\n",
       "    </tr>\n",
       "    <tr>\n",
       "      <th>4</th>\n",
       "      <td>Banana</td>\n",
       "      <td>5</td>\n",
       "      <td>green</td>\n",
       "      <td>23</td>\n",
       "    </tr>\n",
       "    <tr>\n",
       "      <th>5</th>\n",
       "      <td>Apple</td>\n",
       "      <td>6</td>\n",
       "      <td>green</td>\n",
       "      <td>12</td>\n",
       "    </tr>\n",
       "  </tbody>\n",
       "</table>\n",
       "</div>"
      ]
     },
     "execution_count": 11,
     "metadata": {},
     "output_type": "execute_result"
    }
   ],
   "execution_count": 11
  },
  {
   "metadata": {},
   "cell_type": "markdown",
   "source": "### 分类需要有一个分组的条件",
   "id": "5e2d70334f58637d"
  },
  {
   "metadata": {
    "ExecuteTime": {
     "end_time": "2024-12-14T01:54:04.418592Z",
     "start_time": "2024-12-14T01:54:04.411569Z"
    }
   },
   "cell_type": "code",
   "source": "df.groupby(by='item').groups",
   "id": "4dc4e3c2f677b744",
   "outputs": [
    {
     "data": {
      "text/plain": [
       "{'Apple': [0, 5], 'Banana': [2, 4], 'Orange': [1, 3]}"
      ]
     },
     "execution_count": 12,
     "metadata": {},
     "output_type": "execute_result"
    }
   ],
   "execution_count": 12
  },
  {
   "metadata": {
    "ExecuteTime": {
     "end_time": "2024-12-14T01:55:43.825432Z",
     "start_time": "2024-12-14T01:55:43.818109Z"
    }
   },
   "cell_type": "code",
   "source": [
    "# 计算每一种水果的评价价格\n",
    "df.groupby(by='item')['price'].mean()"
   ],
   "id": "25fe7578650ddc61",
   "outputs": [
    {
     "data": {
      "text/plain": [
       "item\n",
       "Apple     3.5\n",
       "Banana    4.0\n",
       "Orange    3.0\n",
       "Name: price, dtype: float64"
      ]
     },
     "execution_count": 13,
     "metadata": {},
     "output_type": "execute_result"
    }
   ],
   "execution_count": 13
  },
  {
   "metadata": {
    "ExecuteTime": {
     "end_time": "2024-12-14T02:07:08.198660Z",
     "start_time": "2024-12-14T02:07:08.194366Z"
    }
   },
   "cell_type": "code",
   "source": "dic = df.groupby(by='color')['weight'].sum()",
   "id": "42f48400ed60a2cf",
   "outputs": [],
   "execution_count": 20
  },
  {
   "metadata": {
    "ExecuteTime": {
     "end_time": "2024-12-14T02:07:10.152923Z",
     "start_time": "2024-12-14T02:07:10.146026Z"
    }
   },
   "cell_type": "code",
   "source": [
    "df['mean_w']=df['color'].map(dic)\n",
    "df"
   ],
   "id": "e01445950fb3ffff",
   "outputs": [
    {
     "data": {
      "text/plain": [
       "     item  price   color  weight  mean_w\n",
       "0   Apple      1     red      12      12\n",
       "1  Orange      2  yellow      20      70\n",
       "2  Banana      3  yellow      50      70\n",
       "3  Orange      4   green      30      65\n",
       "4  Banana      5   green      23      65\n",
       "5   Apple      6   green      12      65"
      ],
      "text/html": [
       "<div>\n",
       "<style scoped>\n",
       "    .dataframe tbody tr th:only-of-type {\n",
       "        vertical-align: middle;\n",
       "    }\n",
       "\n",
       "    .dataframe tbody tr th {\n",
       "        vertical-align: top;\n",
       "    }\n",
       "\n",
       "    .dataframe thead th {\n",
       "        text-align: right;\n",
       "    }\n",
       "</style>\n",
       "<table border=\"1\" class=\"dataframe\">\n",
       "  <thead>\n",
       "    <tr style=\"text-align: right;\">\n",
       "      <th></th>\n",
       "      <th>item</th>\n",
       "      <th>price</th>\n",
       "      <th>color</th>\n",
       "      <th>weight</th>\n",
       "      <th>mean_w</th>\n",
       "    </tr>\n",
       "  </thead>\n",
       "  <tbody>\n",
       "    <tr>\n",
       "      <th>0</th>\n",
       "      <td>Apple</td>\n",
       "      <td>1</td>\n",
       "      <td>red</td>\n",
       "      <td>12</td>\n",
       "      <td>12</td>\n",
       "    </tr>\n",
       "    <tr>\n",
       "      <th>1</th>\n",
       "      <td>Orange</td>\n",
       "      <td>2</td>\n",
       "      <td>yellow</td>\n",
       "      <td>20</td>\n",
       "      <td>70</td>\n",
       "    </tr>\n",
       "    <tr>\n",
       "      <th>2</th>\n",
       "      <td>Banana</td>\n",
       "      <td>3</td>\n",
       "      <td>yellow</td>\n",
       "      <td>50</td>\n",
       "      <td>70</td>\n",
       "    </tr>\n",
       "    <tr>\n",
       "      <th>3</th>\n",
       "      <td>Orange</td>\n",
       "      <td>4</td>\n",
       "      <td>green</td>\n",
       "      <td>30</td>\n",
       "      <td>65</td>\n",
       "    </tr>\n",
       "    <tr>\n",
       "      <th>4</th>\n",
       "      <td>Banana</td>\n",
       "      <td>5</td>\n",
       "      <td>green</td>\n",
       "      <td>23</td>\n",
       "      <td>65</td>\n",
       "    </tr>\n",
       "    <tr>\n",
       "      <th>5</th>\n",
       "      <td>Apple</td>\n",
       "      <td>6</td>\n",
       "      <td>green</td>\n",
       "      <td>12</td>\n",
       "      <td>65</td>\n",
       "    </tr>\n",
       "  </tbody>\n",
       "</table>\n",
       "</div>"
      ]
     },
     "execution_count": 21,
     "metadata": {},
     "output_type": "execute_result"
    }
   ],
   "execution_count": 21
  },
  {
   "metadata": {},
   "cell_type": "markdown",
   "source": [
    "### 高级数据的聚合\n",
    "- 使用groupby分组后, 也可以使用transform和apply提供自定义函数来实现更多计算\n",
    "- transform和apply都可以进行远算"
   ],
   "id": "816844d8d686b079"
  },
  {
   "metadata": {
    "ExecuteTime": {
     "end_time": "2024-12-14T02:10:10.277942Z",
     "start_time": "2024-12-14T02:10:10.270854Z"
    }
   },
   "cell_type": "code",
   "source": [
    "# 自己封装一个函数\n",
    "def my_mean(s):\n",
    "    m_sum = 0\n",
    "    for i in s:\n",
    "        m_sum += i\n",
    "    return m_sum/len(s)\n",
    "\n",
    "df.groupby('item')['price'].transform(my_mean)"
   ],
   "id": "dd22ed032a9195fb",
   "outputs": [
    {
     "data": {
      "text/plain": [
       "0    3.5\n",
       "1    3.0\n",
       "2    4.0\n",
       "3    3.0\n",
       "4    4.0\n",
       "5    3.5\n",
       "Name: price, dtype: float64"
      ]
     },
     "execution_count": 24,
     "metadata": {},
     "output_type": "execute_result"
    }
   ],
   "execution_count": 24
  },
  {
   "metadata": {
    "ExecuteTime": {
     "end_time": "2024-12-14T02:10:14.351647Z",
     "start_time": "2024-12-14T02:10:14.345797Z"
    }
   },
   "cell_type": "code",
   "source": "df.groupby('item')['price'].apply(my_mean)",
   "id": "7966e21ace51221f",
   "outputs": [
    {
     "data": {
      "text/plain": [
       "item\n",
       "Apple     3.5\n",
       "Banana    4.0\n",
       "Orange    3.0\n",
       "Name: price, dtype: float64"
      ]
     },
     "execution_count": 25,
     "metadata": {},
     "output_type": "execute_result"
    }
   ],
   "execution_count": 25
  },
  {
   "metadata": {},
   "cell_type": "markdown",
   "source": [
    "### 数据的加载\n",
    "- 读取文件的数据"
   ],
   "id": "bc50c0df0bc931f6"
  },
  {
   "metadata": {
    "ExecuteTime": {
     "end_time": "2024-12-14T02:18:04.850629Z",
     "start_time": "2024-12-14T02:18:04.840503Z"
    }
   },
   "cell_type": "code",
   "source": [
    "df = pd.read_csv(\"./file/f.txt\")\n",
    "df"
   ],
   "id": "db7309ad67b5af95",
   "outputs": [
    {
     "data": {
      "text/plain": [
       "   0               hello\n",
       "0  1         who are you\n",
       "1  2               oh no\n",
       "2  3  you are fuck a gay\n",
       "3  4             get out"
      ],
      "text/html": [
       "<div>\n",
       "<style scoped>\n",
       "    .dataframe tbody tr th:only-of-type {\n",
       "        vertical-align: middle;\n",
       "    }\n",
       "\n",
       "    .dataframe tbody tr th {\n",
       "        vertical-align: top;\n",
       "    }\n",
       "\n",
       "    .dataframe thead th {\n",
       "        text-align: right;\n",
       "    }\n",
       "</style>\n",
       "<table border=\"1\" class=\"dataframe\">\n",
       "  <thead>\n",
       "    <tr style=\"text-align: right;\">\n",
       "      <th></th>\n",
       "      <th>0</th>\n",
       "      <th>hello</th>\n",
       "    </tr>\n",
       "  </thead>\n",
       "  <tbody>\n",
       "    <tr>\n",
       "      <th>0</th>\n",
       "      <td>1</td>\n",
       "      <td>who are you</td>\n",
       "    </tr>\n",
       "    <tr>\n",
       "      <th>1</th>\n",
       "      <td>2</td>\n",
       "      <td>oh no</td>\n",
       "    </tr>\n",
       "    <tr>\n",
       "      <th>2</th>\n",
       "      <td>3</td>\n",
       "      <td>you are fuck a gay</td>\n",
       "    </tr>\n",
       "    <tr>\n",
       "      <th>3</th>\n",
       "      <td>4</td>\n",
       "      <td>get out</td>\n",
       "    </tr>\n",
       "  </tbody>\n",
       "</table>\n",
       "</div>"
      ]
     },
     "execution_count": 26,
     "metadata": {},
     "output_type": "execute_result"
    }
   ],
   "execution_count": 26
  },
  {
   "metadata": {
    "ExecuteTime": {
     "end_time": "2024-12-14T02:18:15.385816Z",
     "start_time": "2024-12-14T02:18:15.381250Z"
    }
   },
   "cell_type": "code",
   "source": "df.shape",
   "id": "82feca4bc452e12e",
   "outputs": [
    {
     "data": {
      "text/plain": [
       "(4, 2)"
      ]
     },
     "execution_count": 27,
     "metadata": {},
     "output_type": "execute_result"
    }
   ],
   "execution_count": 27
  },
  {
   "metadata": {},
   "cell_type": "markdown",
   "source": [
    "- 将文件中每一个词作为一个元素放到dataFrame中\n",
    "- 用header = None 去掉头, 用sep 去掉分隔符"
   ],
   "id": "790bb50c102ba197"
  },
  {
   "metadata": {
    "ExecuteTime": {
     "end_time": "2024-12-14T02:19:37.929181Z",
     "start_time": "2024-12-14T02:19:37.920727Z"
    }
   },
   "cell_type": "code",
   "source": "pd.read_csv('./file/f.txt', header=None, sep=',')",
   "id": "f51d5fdb026dcf87",
   "outputs": [
    {
     "data": {
      "text/plain": [
       "   0                   1\n",
       "0  0               hello\n",
       "1  1         who are you\n",
       "2  2               oh no\n",
       "3  3  you are fuck a gay\n",
       "4  4             get out"
      ],
      "text/html": [
       "<div>\n",
       "<style scoped>\n",
       "    .dataframe tbody tr th:only-of-type {\n",
       "        vertical-align: middle;\n",
       "    }\n",
       "\n",
       "    .dataframe tbody tr th {\n",
       "        vertical-align: top;\n",
       "    }\n",
       "\n",
       "    .dataframe thead th {\n",
       "        text-align: right;\n",
       "    }\n",
       "</style>\n",
       "<table border=\"1\" class=\"dataframe\">\n",
       "  <thead>\n",
       "    <tr style=\"text-align: right;\">\n",
       "      <th></th>\n",
       "      <th>0</th>\n",
       "      <th>1</th>\n",
       "    </tr>\n",
       "  </thead>\n",
       "  <tbody>\n",
       "    <tr>\n",
       "      <th>0</th>\n",
       "      <td>0</td>\n",
       "      <td>hello</td>\n",
       "    </tr>\n",
       "    <tr>\n",
       "      <th>1</th>\n",
       "      <td>1</td>\n",
       "      <td>who are you</td>\n",
       "    </tr>\n",
       "    <tr>\n",
       "      <th>2</th>\n",
       "      <td>2</td>\n",
       "      <td>oh no</td>\n",
       "    </tr>\n",
       "    <tr>\n",
       "      <th>3</th>\n",
       "      <td>3</td>\n",
       "      <td>you are fuck a gay</td>\n",
       "    </tr>\n",
       "    <tr>\n",
       "      <th>4</th>\n",
       "      <td>4</td>\n",
       "      <td>get out</td>\n",
       "    </tr>\n",
       "  </tbody>\n",
       "</table>\n",
       "</div>"
      ]
     },
     "execution_count": 28,
     "metadata": {},
     "output_type": "execute_result"
    }
   ],
   "execution_count": 28
  }
 ],
 "metadata": {
  "kernelspec": {
   "display_name": "Python 3",
   "language": "python",
   "name": "python3"
  },
  "language_info": {
   "codemirror_mode": {
    "name": "ipython",
    "version": 2
   },
   "file_extension": ".py",
   "mimetype": "text/x-python",
   "name": "python",
   "nbconvert_exporter": "python",
   "pygments_lexer": "ipython2",
   "version": "2.7.6"
  }
 },
 "nbformat": 4,
 "nbformat_minor": 5
}
