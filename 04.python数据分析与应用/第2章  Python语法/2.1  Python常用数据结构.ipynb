{
 "cells": [
  {
   "cell_type": "markdown",
   "id": "a66935b78753b0ce",
   "metadata": {},
   "source": [
    "## 2.1.1 列表\n",
    "### 列表是Python中最基本的数据结构, 是一个有序, 可变序列, 所有元素放在一对中括号\"[]\"里面."
   ]
  },
  {
   "cell_type": "markdown",
   "id": "12dc4ca2fa8e7a0e",
   "metadata": {},
   "source": [
    "#### 1. 创建列表"
   ]
  },
  {
   "cell_type": "code",
   "execution_count": 1,
   "id": "98d57792b4b45b0b",
   "metadata": {
    "ExecuteTime": {
     "end_time": "2025-03-29T10:51:25.890517Z",
     "start_time": "2025-03-29T10:51:25.882911Z"
    }
   },
   "outputs": [
    {
     "data": {
      "text/plain": [
       "[1, 2, 3, 4, 5]"
      ]
     },
     "execution_count": 1,
     "metadata": {},
     "output_type": "execute_result"
    }
   ],
   "source": [
    "list1 = [1, 2, 3, 4, 5]\n",
    "list1"
   ]
  },
  {
   "cell_type": "markdown",
   "id": "4e1c71f926047143",
   "metadata": {},
   "source": [
    "#### 2. 更新列表中的元素\n",
    "##### 2.1 append() 将一个对象附加到列表的末尾"
   ]
  },
  {
   "cell_type": "code",
   "execution_count": 2,
   "id": "9d9081e39b2fc55c",
   "metadata": {
    "ExecuteTime": {
     "end_time": "2025-03-29T10:51:26.029794Z",
     "start_time": "2025-03-29T10:51:26.024449Z"
    }
   },
   "outputs": [
    {
     "data": {
      "text/plain": [
       "[1, 2, 3, 4, 5, 6]"
      ]
     },
     "execution_count": 2,
     "metadata": {},
     "output_type": "execute_result"
    }
   ],
   "source": [
    "list1.append(6)\n",
    "list1"
   ]
  },
  {
   "cell_type": "markdown",
   "id": "603b65ddad686cbb",
   "metadata": {},
   "source": [
    "##### 2.2 insert() 将一个对象插入到列表的指定下标前"
   ]
  },
  {
   "cell_type": "code",
   "execution_count": 3,
   "id": "e22049cf0a30e7fb",
   "metadata": {
    "ExecuteTime": {
     "end_time": "2025-03-29T10:51:26.516738Z",
     "start_time": "2025-03-29T10:51:26.511606Z"
    }
   },
   "outputs": [
    {
     "data": {
      "text/plain": [
       "[1, 2.2, 2, 3, 4, 5, 6]"
      ]
     },
     "execution_count": 3,
     "metadata": {},
     "output_type": "execute_result"
    }
   ],
   "source": [
    "list1.insert(1, 2.2)\n",
    "list1"
   ]
  },
  {
   "cell_type": "markdown",
   "id": "2f2a1cdf9bcfe422",
   "metadata": {},
   "source": [
    "##### 2.3 extend() 将一个列表附加到另一个列表的末尾"
   ]
  },
  {
   "cell_type": "code",
   "execution_count": 4,
   "id": "211e6c9c0cf48c2b",
   "metadata": {
    "ExecuteTime": {
     "end_time": "2025-03-29T10:51:26.533901Z",
     "start_time": "2025-03-29T10:51:26.528923Z"
    }
   },
   "outputs": [
    {
     "data": {
      "text/plain": [
       "[1, 2.2, 2, 3, 4, 5, 6, '1', '2', '3', '4', '5']"
      ]
     },
     "execution_count": 4,
     "metadata": {},
     "output_type": "execute_result"
    }
   ],
   "source": [
    "list2 = ['1', '2', '3', '4', '5']\n",
    "list1.extend(list2)\n",
    "list1"
   ]
  },
  {
   "cell_type": "markdown",
   "id": "1e20687e4e8435dc",
   "metadata": {},
   "source": [
    "#### 3. 删除列表中的元素\n",
    "##### 3.1 clear() 清空列表的内容"
   ]
  },
  {
   "cell_type": "code",
   "execution_count": 5,
   "id": "e5fc62c829e902b7",
   "metadata": {
    "ExecuteTime": {
     "end_time": "2025-03-29T10:51:26.742468Z",
     "start_time": "2025-03-29T10:51:26.738237Z"
    }
   },
   "outputs": [
    {
     "data": {
      "text/plain": [
       "[]"
      ]
     },
     "execution_count": 5,
     "metadata": {},
     "output_type": "execute_result"
    }
   ],
   "source": [
    "list1.clear()\n",
    "list1"
   ]
  },
  {
   "cell_type": "markdown",
   "id": "8a58ab8a62372e33",
   "metadata": {},
   "source": [
    "##### 3.2 remove() 删除列表中指定的元素, 不会返回值"
   ]
  },
  {
   "cell_type": "code",
   "execution_count": 6,
   "id": "6c12a850ac5c2ca7",
   "metadata": {
    "ExecuteTime": {
     "end_time": "2025-03-29T10:51:26.875198Z",
     "start_time": "2025-03-29T10:51:26.871198Z"
    }
   },
   "outputs": [
    {
     "data": {
      "text/plain": [
       "[1, 2, 4, 5]"
      ]
     },
     "execution_count": 6,
     "metadata": {},
     "output_type": "execute_result"
    }
   ],
   "source": [
    "list1 = [1, 2, 3, 4, 5]\n",
    "list1.remove(3)\n",
    "list1"
   ]
  },
  {
   "cell_type": "markdown",
   "id": "684ba7e5a5452240",
   "metadata": {},
   "source": [
    "##### 3.3 pop() 删除列表中最后一个元素并返回值"
   ]
  },
  {
   "cell_type": "code",
   "execution_count": 7,
   "id": "afdfcfb930cd757a",
   "metadata": {
    "ExecuteTime": {
     "end_time": "2025-03-29T10:51:27.010500Z",
     "start_time": "2025-03-29T10:51:27.006167Z"
    }
   },
   "outputs": [
    {
     "name": "stdout",
     "output_type": "stream",
     "text": [
      "5 [1, 2, 4]\n"
     ]
    }
   ],
   "source": [
    "a = list1.pop()\n",
    "print(a, list1)"
   ]
  },
  {
   "cell_type": "markdown",
   "id": "c2bba550c2c0b3a9",
   "metadata": {},
   "source": [
    "#### 4. 修改列表中的元素\n",
    "##### 4.1 通过下表修改"
   ]
  },
  {
   "cell_type": "code",
   "execution_count": 8,
   "id": "ee82017feea101d9",
   "metadata": {
    "ExecuteTime": {
     "end_time": "2025-03-29T10:51:27.171898Z",
     "start_time": "2025-03-29T10:51:27.167704Z"
    }
   },
   "outputs": [
    {
     "data": {
      "text/plain": [
       "[1, 'test', 4]"
      ]
     },
     "execution_count": 8,
     "metadata": {},
     "output_type": "execute_result"
    }
   ],
   "source": [
    "list1[1] = 'test'\n",
    "list1"
   ]
  },
  {
   "cell_type": "markdown",
   "id": "8d51594526e2b6f6",
   "metadata": {},
   "source": [
    "##### 4.2 reverse() 将列表中的元素逆向"
   ]
  },
  {
   "cell_type": "code",
   "execution_count": 9,
   "id": "b0e7cf93c6c358ba",
   "metadata": {
    "ExecuteTime": {
     "end_time": "2025-03-29T10:51:27.287996Z",
     "start_time": "2025-03-29T10:51:27.283958Z"
    }
   },
   "outputs": [
    {
     "data": {
      "text/plain": [
       "[4, 'test', 1]"
      ]
     },
     "execution_count": 9,
     "metadata": {},
     "output_type": "execute_result"
    }
   ],
   "source": [
    "list1.reverse()\n",
    "list1"
   ]
  },
  {
   "cell_type": "markdown",
   "id": "f664c3c80844c2d5",
   "metadata": {},
   "source": [
    "##### 4.3 sort() 对列表进行排序"
   ]
  },
  {
   "cell_type": "code",
   "execution_count": 10,
   "id": "cfd761fe391d72d9",
   "metadata": {
    "ExecuteTime": {
     "end_time": "2025-03-29T10:51:27.403886Z",
     "start_time": "2025-03-29T10:51:27.399814Z"
    }
   },
   "outputs": [
    {
     "data": {
      "text/plain": [
       "[1, 2, 3, 5, 9]"
      ]
     },
     "execution_count": 10,
     "metadata": {},
     "output_type": "execute_result"
    }
   ],
   "source": [
    "list1 = [1, 9, 3, 2, 5]\n",
    "list1.sort()\n",
    "list1"
   ]
  },
  {
   "cell_type": "markdown",
   "id": "bf220830806561aa",
   "metadata": {},
   "source": [
    "#### 5. 查找列表中的元素\n",
    "##### 5.1 index() 查找指定元素第一次出现的下标"
   ]
  },
  {
   "cell_type": "code",
   "execution_count": 11,
   "id": "be05db2030519683",
   "metadata": {
    "ExecuteTime": {
     "end_time": "2025-03-29T10:51:27.521831Z",
     "start_time": "2025-03-29T10:51:27.517175Z"
    }
   },
   "outputs": [
    {
     "data": {
      "text/plain": [
       "1"
      ]
     },
     "execution_count": 11,
     "metadata": {},
     "output_type": "execute_result"
    }
   ],
   "source": [
    "list1 = [1, 9, 3, 2, 5, 9, 3]\n",
    "list1.index(9)"
   ]
  },
  {
   "cell_type": "markdown",
   "id": "98e4c080fde43077",
   "metadata": {},
   "source": [
    "##### 5.2 count() 计算指定元素在列表中出现的次数"
   ]
  },
  {
   "cell_type": "code",
   "execution_count": 12,
   "id": "21e0b548c4f0ff18",
   "metadata": {
    "ExecuteTime": {
     "end_time": "2025-03-29T10:51:27.606259Z",
     "start_time": "2025-03-29T10:51:27.602512Z"
    }
   },
   "outputs": [
    {
     "data": {
      "text/plain": [
       "2"
      ]
     },
     "execution_count": 12,
     "metadata": {},
     "output_type": "execute_result"
    }
   ],
   "source": [
    "list1.count(9)"
   ]
  },
  {
   "cell_type": "markdown",
   "id": "6c004d8aebfbce",
   "metadata": {},
   "source": [
    "#### 6. 分片操作\n",
    "##### 6.1 直接复制原列表"
   ]
  },
  {
   "cell_type": "code",
   "execution_count": 13,
   "id": "9874b3a36d70eca4",
   "metadata": {
    "ExecuteTime": {
     "end_time": "2025-03-29T10:51:27.714209Z",
     "start_time": "2025-03-29T10:51:27.709130Z"
    }
   },
   "outputs": [
    {
     "data": {
      "text/plain": [
       "[1, 9, 3, 2, 5, 9, 3]"
      ]
     },
     "execution_count": 13,
     "metadata": {},
     "output_type": "execute_result"
    }
   ],
   "source": [
    "list1[::]"
   ]
  },
  {
   "cell_type": "markdown",
   "id": "da57a2a3917d916a",
   "metadata": {},
   "source": [
    "###### 两个分号可以省略为1个"
   ]
  },
  {
   "cell_type": "code",
   "execution_count": 14,
   "id": "b38548324e5dcd9",
   "metadata": {
    "ExecuteTime": {
     "end_time": "2025-03-29T10:51:27.788667Z",
     "start_time": "2025-03-29T10:51:27.784324Z"
    }
   },
   "outputs": [
    {
     "data": {
      "text/plain": [
       "[1, 9, 3, 2, 5, 9, 3]"
      ]
     },
     "execution_count": 14,
     "metadata": {},
     "output_type": "execute_result"
    }
   ],
   "source": [
    "list1[:]"
   ]
  },
  {
   "cell_type": "markdown",
   "id": "6dcb5b84cfcfc4d6",
   "metadata": {},
   "source": [
    "###### 利用分片获取1到5下标的所有元素"
   ]
  },
  {
   "cell_type": "code",
   "execution_count": 15,
   "id": "c3303df7aaf1dd9f",
   "metadata": {
    "ExecuteTime": {
     "end_time": "2025-03-29T10:51:27.857706Z",
     "start_time": "2025-03-29T10:51:27.853439Z"
    }
   },
   "outputs": [
    {
     "data": {
      "text/plain": [
       "[9, 3, 2, 5]"
      ]
     },
     "execution_count": 15,
     "metadata": {},
     "output_type": "execute_result"
    }
   ],
   "source": [
    "list1[1:5]"
   ]
  },
  {
   "cell_type": "markdown",
   "id": "ddac8a5c2b5ab9",
   "metadata": {},
   "source": [
    "###### 利用下标获取1后面的所有元素"
   ]
  },
  {
   "cell_type": "code",
   "execution_count": 16,
   "id": "77688d9cf0fe9fdf",
   "metadata": {
    "ExecuteTime": {
     "end_time": "2025-03-29T10:51:27.959160Z",
     "start_time": "2025-03-29T10:51:27.954216Z"
    }
   },
   "outputs": [
    {
     "data": {
      "text/plain": [
       "[9, 3, 2, 5, 9, 3]"
      ]
     },
     "execution_count": 16,
     "metadata": {},
     "output_type": "execute_result"
    }
   ],
   "source": [
    "list1[1:]"
   ]
  },
  {
   "cell_type": "markdown",
   "id": "e5cd140e328088b1",
   "metadata": {},
   "source": [
    "###### 利用下标获取5之前的所有元素"
   ]
  },
  {
   "cell_type": "code",
   "execution_count": 17,
   "id": "2145e4ef64700c37",
   "metadata": {
    "ExecuteTime": {
     "end_time": "2025-03-29T10:51:28.067583Z",
     "start_time": "2025-03-29T10:51:28.063370Z"
    }
   },
   "outputs": [
    {
     "data": {
      "text/plain": [
       "[1, 9, 3, 2, 5]"
      ]
     },
     "execution_count": 17,
     "metadata": {},
     "output_type": "execute_result"
    }
   ],
   "source": [
    "list1[:5]"
   ]
  },
  {
   "cell_type": "markdown",
   "id": "49537a4c92bf830f",
   "metadata": {},
   "source": [
    "###### 利用分片操作获取下标1到5之间不长为2的所有元素"
   ]
  },
  {
   "cell_type": "code",
   "execution_count": 18,
   "id": "ed2c4ac49fb3b827",
   "metadata": {
    "ExecuteTime": {
     "end_time": "2025-03-29T10:51:28.170463Z",
     "start_time": "2025-03-29T10:51:28.165467Z"
    }
   },
   "outputs": [
    {
     "data": {
      "text/plain": [
       "[9, 2]"
      ]
     },
     "execution_count": 18,
     "metadata": {},
     "output_type": "execute_result"
    }
   ],
   "source": [
    "list1[1:5:2]"
   ]
  },
  {
   "cell_type": "markdown",
   "id": "f0280bbd7db35484",
   "metadata": {},
   "source": [
    "###### 利用分片获取数组的逆序"
   ]
  },
  {
   "cell_type": "code",
   "execution_count": 19,
   "id": "f18602c1bfbb8e08",
   "metadata": {
    "ExecuteTime": {
     "end_time": "2025-03-29T10:51:28.268041Z",
     "start_time": "2025-03-29T10:51:28.263699Z"
    }
   },
   "outputs": [
    {
     "data": {
      "text/plain": [
       "[3, 9, 5, 2, 3, 9, 1]"
      ]
     },
     "execution_count": 19,
     "metadata": {},
     "output_type": "execute_result"
    }
   ],
   "source": [
    "list1[::-1]"
   ]
  },
  {
   "cell_type": "markdown",
   "id": "8c6f5d709726397e",
   "metadata": {},
   "source": [
    "###### 利用分片获取下标5到1之间不长为2到所有元素"
   ]
  },
  {
   "cell_type": "code",
   "execution_count": 20,
   "id": "861733badfbee935",
   "metadata": {
    "ExecuteTime": {
     "end_time": "2025-03-29T10:51:28.372393Z",
     "start_time": "2025-03-29T10:51:28.367781Z"
    }
   },
   "outputs": [
    {
     "data": {
      "text/plain": [
       "[9, 2]"
      ]
     },
     "execution_count": 20,
     "metadata": {},
     "output_type": "execute_result"
    }
   ],
   "source": [
    "list1[5:1:-2]"
   ]
  },
  {
   "cell_type": "markdown",
   "id": "c74dd4c83d25cf3b",
   "metadata": {},
   "source": [
    "## 2.2.2 元组\n",
    "### 元组是一个用圆括号括起来的, 使用逗号分隔元素的Python对象\n",
    "### 元组与列表:\n",
    "#### 元组不能修改内容, 列表可以修改, 所以元组作为字典的键(key), 列表不能\n",
    "#### 元组操作速度快"
   ]
  },
  {
   "cell_type": "markdown",
   "id": "84f376fd6f81f958",
   "metadata": {},
   "source": [
    "#### 1. 创建元组"
   ]
  },
  {
   "cell_type": "code",
   "execution_count": 21,
   "id": "9fc120a8be8c0581",
   "metadata": {
    "ExecuteTime": {
     "end_time": "2025-03-29T10:51:28.487174Z",
     "start_time": "2025-03-29T10:51:28.482532Z"
    }
   },
   "outputs": [
    {
     "data": {
      "text/plain": [
       "('physics', 'chemistry', 1992, 2002)"
      ]
     },
     "execution_count": 21,
     "metadata": {},
     "output_type": "execute_result"
    }
   ],
   "source": [
    "tuple1 = ('physics', 'chemistry', 1992, 2002)\n",
    "tuple1"
   ]
  },
  {
   "cell_type": "code",
   "execution_count": 22,
   "id": "a855fabf68af084d",
   "metadata": {
    "ExecuteTime": {
     "end_time": "2025-03-29T10:51:28.580427Z",
     "start_time": "2025-03-29T10:51:28.576463Z"
    }
   },
   "outputs": [
    {
     "data": {
      "text/plain": [
       "(1, 2, 3)"
      ]
     },
     "execution_count": 22,
     "metadata": {},
     "output_type": "execute_result"
    }
   ],
   "source": [
    "tuple2 = (1, 2, 3)\n",
    "tuple2"
   ]
  },
  {
   "cell_type": "code",
   "execution_count": 23,
   "id": "82cf714e7ac98d36",
   "metadata": {
    "ExecuteTime": {
     "end_time": "2025-03-29T10:51:28.657708Z",
     "start_time": "2025-03-29T10:51:28.653057Z"
    }
   },
   "outputs": [
    {
     "data": {
      "text/plain": [
       "('a', 'b', 'c')"
      ]
     },
     "execution_count": 23,
     "metadata": {},
     "output_type": "execute_result"
    }
   ],
   "source": [
    "tuple3 = 'a', 'b', 'c'\n",
    "tuple3"
   ]
  },
  {
   "cell_type": "markdown",
   "id": "21f5d705f511b4cd",
   "metadata": {},
   "source": [
    "##### 若只想创建包含一个元素的元组, 则必须在元素后面添加逗号, 否则就不是元组"
   ]
  },
  {
   "cell_type": "code",
   "execution_count": 24,
   "id": "d2f7a1e02ec96d4c",
   "metadata": {
    "ExecuteTime": {
     "end_time": "2025-03-29T10:51:28.762351Z",
     "start_time": "2025-03-29T10:51:28.758126Z"
    }
   },
   "outputs": [
    {
     "data": {
      "text/plain": [
       "1"
      ]
     },
     "execution_count": 24,
     "metadata": {},
     "output_type": "execute_result"
    }
   ],
   "source": [
    "tuple1 = (1)\n",
    "tuple1"
   ]
  },
  {
   "cell_type": "code",
   "execution_count": 25,
   "id": "82b548961e2bc73a",
   "metadata": {
    "ExecuteTime": {
     "end_time": "2025-03-29T10:51:28.870634Z",
     "start_time": "2025-03-29T10:51:28.866384Z"
    }
   },
   "outputs": [
    {
     "data": {
      "text/plain": [
       "(1,)"
      ]
     },
     "execution_count": 25,
     "metadata": {},
     "output_type": "execute_result"
    }
   ],
   "source": [
    "tuple2 = (1,)\n",
    "tuple2"
   ]
  },
  {
   "cell_type": "code",
   "execution_count": 26,
   "id": "1843679bc303bacd",
   "metadata": {
    "ExecuteTime": {
     "end_time": "2025-03-29T10:51:28.983293Z",
     "start_time": "2025-03-29T10:51:28.978315Z"
    }
   },
   "outputs": [
    {
     "data": {
      "text/plain": [
       "[1, 2, 3]"
      ]
     },
     "execution_count": 26,
     "metadata": {},
     "output_type": "execute_result"
    }
   ],
   "source": [
    "tuple3 = ([1,2,3])\n",
    "tuple3"
   ]
  },
  {
   "cell_type": "markdown",
   "id": "a351542367cd2c8d",
   "metadata": {},
   "source": [
    "#### 2. 访问元组"
   ]
  },
  {
   "cell_type": "code",
   "execution_count": 27,
   "id": "76a8ce99b890d8fd",
   "metadata": {
    "ExecuteTime": {
     "end_time": "2025-03-29T10:51:29.085297Z",
     "start_time": "2025-03-29T10:51:29.080882Z"
    }
   },
   "outputs": [
    {
     "data": {
      "text/plain": [
       "1992"
      ]
     },
     "execution_count": 27,
     "metadata": {},
     "output_type": "execute_result"
    }
   ],
   "source": [
    "tuple1 = ('physics', 'chemistry', 1992, 2002)\n",
    "tuple1[2]"
   ]
  },
  {
   "cell_type": "code",
   "execution_count": 28,
   "id": "223681bffcda02f8",
   "metadata": {
    "ExecuteTime": {
     "end_time": "2025-03-29T10:51:29.190564Z",
     "start_time": "2025-03-29T10:51:29.185633Z"
    }
   },
   "outputs": [
    {
     "data": {
      "text/plain": [
       "(2, 3, 4)"
      ]
     },
     "execution_count": 28,
     "metadata": {},
     "output_type": "execute_result"
    }
   ],
   "source": [
    "tuple2 = (1, 2, 3, 4, 5)\n",
    "tuple2[1:4]"
   ]
  },
  {
   "cell_type": "markdown",
   "id": "ec6df7f66452732c",
   "metadata": {},
   "source": [
    "#### 3. 删除元组\n",
    "##### 如果该元组在之后的程序中不会再使用, 为了节约内存, 可以使用 del进行删除"
   ]
  },
  {
   "cell_type": "code",
   "execution_count": 29,
   "id": "f0f8a8ee7ac2ed96",
   "metadata": {
    "ExecuteTime": {
     "end_time": "2025-03-29T10:51:29.470441Z",
     "start_time": "2025-03-29T10:51:29.262997Z"
    }
   },
   "outputs": [
    {
     "ename": "NameError",
     "evalue": "name 'tuple2' is not defined",
     "output_type": "error",
     "traceback": [
      "\u001b[1;31m---------------------------------------------------------------------------\u001b[0m",
      "\u001b[1;31mNameError\u001b[0m                                 Traceback (most recent call last)",
      "Cell \u001b[1;32mIn[29], line 3\u001b[0m\n\u001b[0;32m      1\u001b[0m tuple2 \u001b[38;5;241m=\u001b[39m (\u001b[38;5;241m1\u001b[39m, \u001b[38;5;241m2\u001b[39m, \u001b[38;5;241m3\u001b[39m, \u001b[38;5;241m4\u001b[39m, \u001b[38;5;241m5\u001b[39m)\n\u001b[0;32m      2\u001b[0m \u001b[38;5;28;01mdel\u001b[39;00m tuple2\n\u001b[1;32m----> 3\u001b[0m \u001b[43mtuple2\u001b[49m\n",
      "\u001b[1;31mNameError\u001b[0m: name 'tuple2' is not defined"
     ]
    }
   ],
   "source": [
    "tuple2 = (1, 2, 3, 4, 5)\n",
    "del tuple2\n",
    "tuple2"
   ]
  },
  {
   "cell_type": "markdown",
   "id": "e4c9f519e0f3dbea",
   "metadata": {},
   "source": [
    "#### 4. 查找元组中的元素\n",
    "##### index() 和 count() 同列表一样"
   ]
  },
  {
   "cell_type": "code",
   "execution_count": 14,
   "id": "3778a01e311433a0",
   "metadata": {
    "ExecuteTime": {
     "end_time": "2025-03-29T10:51:29.485333300Z",
     "start_time": "2025-03-27T14:19:56.996437Z"
    }
   },
   "outputs": [
    {
     "data": {
      "text/plain": [
       "2"
      ]
     },
     "execution_count": 14,
     "metadata": {},
     "output_type": "execute_result"
    }
   ],
   "source": [
    "tuple1 = ('physics', 'chemistry', 1992, 2002, 'physics')\n",
    "tuple1.index(1992)"
   ]
  },
  {
   "cell_type": "code",
   "execution_count": 15,
   "id": "11865c6159785a18",
   "metadata": {
    "ExecuteTime": {
     "end_time": "2025-03-29T10:51:29.538775400Z",
     "start_time": "2025-03-27T14:19:59.139905Z"
    }
   },
   "outputs": [
    {
     "data": {
      "text/plain": [
       "2"
      ]
     },
     "execution_count": 15,
     "metadata": {},
     "output_type": "execute_result"
    }
   ],
   "source": [
    "tuple1.count('physics')"
   ]
  },
  {
   "cell_type": "markdown",
   "id": "5c0893f48561564b",
   "metadata": {},
   "source": [
    "#### 5. 修改元组\n",
    "##### 元组不允许修改"
   ]
  },
  {
   "cell_type": "code",
   "execution_count": 16,
   "id": "602ed66f79a63721",
   "metadata": {
    "ExecuteTime": {
     "end_time": "2025-03-29T10:51:29.540773600Z",
     "start_time": "2025-03-27T14:20:51.995701Z"
    }
   },
   "outputs": [
    {
     "ename": "TypeError",
     "evalue": "'tuple' object does not support item assignment",
     "output_type": "error",
     "traceback": [
      "\u001b[1;31m---------------------------------------------------------------------------\u001b[0m",
      "\u001b[1;31mTypeError\u001b[0m                                 Traceback (most recent call last)",
      "Cell \u001b[1;32mIn[16], line 1\u001b[0m\n\u001b[1;32m----> 1\u001b[0m \u001b[43mtuple1\u001b[49m\u001b[43m[\u001b[49m\u001b[38;5;241;43m1\u001b[39;49m\u001b[43m]\u001b[49m \u001b[38;5;241m=\u001b[39m \u001b[38;5;241m1992\u001b[39m\n",
      "\u001b[1;31mTypeError\u001b[0m: 'tuple' object does not support item assignment"
     ]
    }
   ],
   "source": [
    "tuple1[1] = 1992"
   ]
  },
  {
   "cell_type": "markdown",
   "id": "d2e8f8994f425955",
   "metadata": {},
   "source": [
    "##### 如果想修改元组内的元素, 可以通过切片操作获取元组内一部分元素, 然后重新赋值给同名元组就可以间接修改元组"
   ]
  },
  {
   "cell_type": "code",
   "execution_count": 17,
   "id": "d61eb615d5df2805",
   "metadata": {
    "ExecuteTime": {
     "end_time": "2025-03-29T10:51:29.555683700Z",
     "start_time": "2025-03-27T14:22:17.133084Z"
    }
   },
   "outputs": [
    {
     "data": {
      "text/plain": [
       "('chemistry', 1992)"
      ]
     },
     "execution_count": 17,
     "metadata": {},
     "output_type": "execute_result"
    }
   ],
   "source": [
    "tuple1 = tuple1[1:3]\n",
    "tuple1"
   ]
  },
  {
   "cell_type": "markdown",
   "id": "a6f918aea0ec44b7",
   "metadata": {},
   "source": [
    "#### 6. 内置函数\n",
    "##### Python元组包含了以下内置函数\n",
    "##### len(tuple) 计算元素个个数\n",
    "##### max(tuple) 计算元组中元素最大值\n",
    "##### min(tuple) 计算元组中元素最小值\n",
    "##### tuple(seq) 将列表转换为元组"
   ]
  },
  {
   "cell_type": "code",
   "execution_count": 18,
   "id": "27054d9a468834b2",
   "metadata": {
    "ExecuteTime": {
     "end_time": "2025-03-29T10:51:29.560686200Z",
     "start_time": "2025-03-27T14:27:36.367604Z"
    }
   },
   "outputs": [
    {
     "data": {
      "text/plain": [
       "5"
      ]
     },
     "execution_count": 18,
     "metadata": {},
     "output_type": "execute_result"
    }
   ],
   "source": [
    "tuple2 = (1, 2, 3, 4, 5)\n",
    "len(tuple2)"
   ]
  },
  {
   "cell_type": "code",
   "execution_count": 19,
   "id": "a014212e3e914c1e",
   "metadata": {
    "ExecuteTime": {
     "end_time": "2025-03-29T10:51:29.565698300Z",
     "start_time": "2025-03-27T14:27:50.013686Z"
    }
   },
   "outputs": [
    {
     "data": {
      "text/plain": [
       "(1, 2, 3, 4, 5)"
      ]
     },
     "execution_count": 19,
     "metadata": {},
     "output_type": "execute_result"
    }
   ],
   "source": [
    "tuple([1, 2, 3, 4, 5])"
   ]
  },
  {
   "cell_type": "markdown",
   "id": "7b07a949cb1338a4",
   "metadata": {},
   "source": [
    "## 2.1.4 集合\n",
    "### 集合是一个无序不重复的元素序列"
   ]
  },
  {
   "cell_type": "markdown",
   "id": "757007527ef6276f",
   "metadata": {},
   "source": [
    "#### 1. 创建集合\n",
    "##### 使用 {} 或者用 set() 函数"
   ]
  },
  {
   "cell_type": "code",
   "execution_count": 20,
   "id": "ffd5b5f4624387ef",
   "metadata": {
    "ExecuteTime": {
     "end_time": "2025-03-29T10:51:29.570686200Z",
     "start_time": "2025-03-27T14:44:42.425297Z"
    }
   },
   "outputs": [
    {
     "data": {
      "text/plain": [
       "{1, 2, 3, 4, 5}"
      ]
     },
     "execution_count": 20,
     "metadata": {},
     "output_type": "execute_result"
    }
   ],
   "source": [
    "set1 = {1, 2, 3, 4, 5}\n",
    "set1"
   ]
  },
  {
   "cell_type": "code",
   "execution_count": 23,
   "id": "4db3a0d5f8f805b9",
   "metadata": {
    "ExecuteTime": {
     "end_time": "2025-03-29T10:51:29.574687100Z",
     "start_time": "2025-03-27T14:45:05.369880Z"
    }
   },
   "outputs": [
    {
     "data": {
      "text/plain": [
       "{1, 2, 3, 4, 5}"
      ]
     },
     "execution_count": 23,
     "metadata": {},
     "output_type": "execute_result"
    }
   ],
   "source": [
    "set2 = set([1, 2, 3, 4, 4, 5])\n",
    "set2"
   ]
  },
  {
   "cell_type": "markdown",
   "id": "28f1aef867bd0d8b",
   "metadata": {},
   "source": [
    "#### 2. 添加元素\n",
    "##### 使用add() 添加单个, 使用update()添加多个"
   ]
  },
  {
   "cell_type": "code",
   "execution_count": 24,
   "id": "6718d93f0964ac58",
   "metadata": {
    "ExecuteTime": {
     "end_time": "2025-03-29T10:51:29.579105500Z",
     "start_time": "2025-03-27T14:46:04.281863Z"
    }
   },
   "outputs": [
    {
     "data": {
      "text/plain": [
       "{1, 2, 3, 4, 5, 6}"
      ]
     },
     "execution_count": 24,
     "metadata": {},
     "output_type": "execute_result"
    }
   ],
   "source": [
    "set1.add(6)\n",
    "set1"
   ]
  },
  {
   "cell_type": "code",
   "execution_count": 25,
   "id": "ac87a754bbfa160b",
   "metadata": {
    "ExecuteTime": {
     "end_time": "2025-03-29T10:51:29.579105500Z",
     "start_time": "2025-03-27T14:53:42.723843Z"
    }
   },
   "outputs": [
    {
     "data": {
      "text/plain": [
       "{0, 1, 2, 3, 4, 5, 6, 8, 10, 12, 33}"
      ]
     },
     "execution_count": 25,
     "metadata": {},
     "output_type": "execute_result"
    }
   ],
   "source": [
    "set1.update([33, 12], [8, 0, 10])\n",
    "set1"
   ]
  },
  {
   "cell_type": "markdown",
   "id": "1af38eabcdef6bf6",
   "metadata": {},
   "source": [
    "#### 3. 删除元素\n",
    "##### remove() 可以删除指定元素, 如果元素不存在会发生错误\n",
    "##### discard() 可以删除指定元素, 如果元素不存在不会发生错误\n",
    "##### pop() 随机删除集合中的一个元素\n",
    "##### clear() 清空集合"
   ]
  },
  {
   "cell_type": "code",
   "execution_count": 27,
   "id": "8cf3341d014990e9",
   "metadata": {
    "ExecuteTime": {
     "end_time": "2025-03-29T10:51:29.583105800Z",
     "start_time": "2025-03-27T14:59:58.461751Z"
    }
   },
   "outputs": [
    {
     "ename": "KeyError",
     "evalue": "1",
     "output_type": "error",
     "traceback": [
      "\u001b[1;31m---------------------------------------------------------------------------\u001b[0m",
      "\u001b[1;31mKeyError\u001b[0m                                  Traceback (most recent call last)",
      "Cell \u001b[1;32mIn[27], line 1\u001b[0m\n\u001b[1;32m----> 1\u001b[0m \u001b[43mset1\u001b[49m\u001b[38;5;241;43m.\u001b[39;49m\u001b[43mremove\u001b[49m\u001b[43m(\u001b[49m\u001b[38;5;241;43m1\u001b[39;49m\u001b[43m)\u001b[49m\n\u001b[0;32m      2\u001b[0m set1\n",
      "\u001b[1;31mKeyError\u001b[0m: 1"
     ]
    }
   ],
   "source": [
    "set1.remove(1)\n",
    "set1"
   ]
  },
  {
   "cell_type": "code",
   "execution_count": 28,
   "id": "27d1189aef532463",
   "metadata": {
    "ExecuteTime": {
     "end_time": "2025-03-29T10:51:29.587105500Z",
     "start_time": "2025-03-27T15:00:15.568935Z"
    }
   },
   "outputs": [],
   "source": [
    "set1.discard(1)"
   ]
  },
  {
   "cell_type": "code",
   "execution_count": 30,
   "id": "ac4b749331aa3724",
   "metadata": {
    "ExecuteTime": {
     "end_time": "2025-03-29T10:51:29.592105600Z",
     "start_time": "2025-03-27T15:00:30.042553Z"
    }
   },
   "outputs": [
    {
     "data": {
      "text/plain": [
       "{3, 4, 5, 6, 8, 10, 12, 33}"
      ]
     },
     "execution_count": 30,
     "metadata": {},
     "output_type": "execute_result"
    }
   ],
   "source": [
    "set1.pop()\n",
    "set1"
   ]
  },
  {
   "cell_type": "code",
   "execution_count": 32,
   "id": "fd7906acde8a1e83",
   "metadata": {
    "ExecuteTime": {
     "end_time": "2025-03-29T10:51:29.596105500Z",
     "start_time": "2025-03-27T15:00:45.858841Z"
    }
   },
   "outputs": [
    {
     "data": {
      "text/plain": [
       "set()"
      ]
     },
     "execution_count": 32,
     "metadata": {},
     "output_type": "execute_result"
    }
   ],
   "source": [
    "set1.clear()\n",
    "set1"
   ]
  },
  {
   "cell_type": "markdown",
   "id": "18e986a063f67aed",
   "metadata": {},
   "source": [
    "#### 4. 查找集合中的元素\n",
    "##### 判断元素是否在集合中, 可以使用in操作符"
   ]
  },
  {
   "cell_type": "code",
   "execution_count": 33,
   "id": "3da3d6be8427a5c7",
   "metadata": {
    "ExecuteTime": {
     "end_time": "2025-03-29T10:51:29.600105900Z",
     "start_time": "2025-03-27T15:03:52.873540Z"
    }
   },
   "outputs": [
    {
     "data": {
      "text/plain": [
       "True"
      ]
     },
     "execution_count": 33,
     "metadata": {},
     "output_type": "execute_result"
    }
   ],
   "source": [
    "set1 = {1, 2, 3, 4, 5}\n",
    "1 in set1"
   ]
  },
  {
   "cell_type": "markdown",
   "id": "8b1153670fed5478",
   "metadata": {},
   "source": [
    "#### 5. 集合的差, 并, 交集"
   ]
  },
  {
   "cell_type": "markdown",
   "id": "3dc47749356922af",
   "metadata": {},
   "source": [
    "##### 差集, 使用 difference() 或者 减号"
   ]
  },
  {
   "cell_type": "code",
   "execution_count": 34,
   "id": "456c1b757d667969",
   "metadata": {
    "ExecuteTime": {
     "end_time": "2025-03-29T10:51:29.604105900Z",
     "start_time": "2025-03-27T15:08:08.072673Z"
    }
   },
   "outputs": [
    {
     "data": {
      "text/plain": [
       "{1, 3, 4}"
      ]
     },
     "execution_count": 34,
     "metadata": {},
     "output_type": "execute_result"
    }
   ],
   "source": [
    "set1 = {1, 2, 3, 4, 5}\n",
    "set2 = {2, 5, 8, 10}\n",
    "\n",
    "set1.difference(set2)"
   ]
  },
  {
   "cell_type": "code",
   "execution_count": 35,
   "id": "7b7b3ddacacee125",
   "metadata": {
    "ExecuteTime": {
     "end_time": "2025-03-29T10:51:29.609106400Z",
     "start_time": "2025-03-27T15:08:13.438157Z"
    }
   },
   "outputs": [
    {
     "data": {
      "text/plain": [
       "{1, 3, 4}"
      ]
     },
     "execution_count": 35,
     "metadata": {},
     "output_type": "execute_result"
    }
   ],
   "source": [
    "set1 - set2"
   ]
  },
  {
   "cell_type": "markdown",
   "id": "9878e83a37913e1b",
   "metadata": {},
   "source": [
    "##### 并集, 使用 union() 不能使用 加号"
   ]
  },
  {
   "cell_type": "code",
   "execution_count": 36,
   "id": "ac26ed315ab9f55b",
   "metadata": {
    "ExecuteTime": {
     "end_time": "2025-03-29T10:51:29.612716100Z",
     "start_time": "2025-03-27T15:09:15.536885Z"
    }
   },
   "outputs": [
    {
     "data": {
      "text/plain": [
       "{1, 2, 3, 4, 5, 8, 10}"
      ]
     },
     "execution_count": 36,
     "metadata": {},
     "output_type": "execute_result"
    }
   ],
   "source": [
    "set1.union(set2)"
   ]
  },
  {
   "cell_type": "markdown",
   "id": "ade12e6169e04293",
   "metadata": {},
   "source": [
    "##### 交集, 使用intersection()"
   ]
  },
  {
   "cell_type": "code",
   "execution_count": 37,
   "id": "9a28a6143922f70d",
   "metadata": {
    "ExecuteTime": {
     "end_time": "2025-03-29T10:51:29.618347600Z",
     "start_time": "2025-03-27T15:09:56.609913Z"
    }
   },
   "outputs": [
    {
     "data": {
      "text/plain": [
       "{2, 5}"
      ]
     },
     "execution_count": 37,
     "metadata": {},
     "output_type": "execute_result"
    }
   ],
   "source": [
    "set1.intersection(set2)"
   ]
  },
  {
   "cell_type": "markdown",
   "id": "3ac4cc3c9fc3df5c",
   "metadata": {},
   "source": [
    "## 2.1.4 字典\n",
    "### 字典常用于存放具有映射关系的数据"
   ]
  },
  {
   "cell_type": "markdown",
   "id": "342f0212eaccab7",
   "metadata": {},
   "source": [
    "#### 1. 创建字典\n",
    "##### 字典的一个标志为 {}"
   ]
  },
  {
   "cell_type": "code",
   "execution_count": 38,
   "id": "7d8c7948f6248e2f",
   "metadata": {
    "ExecuteTime": {
     "end_time": "2025-03-29T10:51:29.623095200Z",
     "start_time": "2025-03-27T15:20:44.271628Z"
    }
   },
   "outputs": [
    {
     "data": {
      "text/plain": [
       "{}"
      ]
     },
     "execution_count": 38,
     "metadata": {},
     "output_type": "execute_result"
    }
   ],
   "source": [
    "dict1 = {}\n",
    "dict1"
   ]
  },
  {
   "cell_type": "code",
   "execution_count": 39,
   "id": "3c77b9a4cc267b21",
   "metadata": {
    "ExecuteTime": {
     "end_time": "2025-03-29T10:51:29.627146400Z",
     "start_time": "2025-03-27T15:21:29.409178Z"
    }
   },
   "outputs": [
    {
     "data": {
      "text/plain": [
       "{'001': '张三', '002': '李四'}"
      ]
     },
     "execution_count": 39,
     "metadata": {},
     "output_type": "execute_result"
    }
   ],
   "source": [
    "dict2 = {'001': '张三', '002': '李四'}\n",
    "dict2"
   ]
  },
  {
   "cell_type": "markdown",
   "id": "e12422e3819a014c",
   "metadata": {},
   "source": [
    "#### 2. 增加元素\n",
    "##### 想要增加元素时, 只需将键放在方括号\"[]\"中"
   ]
  },
  {
   "cell_type": "code",
   "execution_count": 43,
   "id": "24177b853808f2e8",
   "metadata": {
    "ExecuteTime": {
     "end_time": "2025-03-29T10:51:29.633147200Z",
     "start_time": "2025-03-27T15:23:59.573714Z"
    }
   },
   "outputs": [
    {
     "data": {
      "text/plain": [
       "{'001': '张三', '002': '李四', '003': '王五'}"
      ]
     },
     "execution_count": 43,
     "metadata": {},
     "output_type": "execute_result"
    }
   ],
   "source": [
    "dict2['003'] = '王五'\n",
    "dict2"
   ]
  },
  {
   "cell_type": "markdown",
   "id": "62014ab108601e7a",
   "metadata": {},
   "source": [
    "#### 3. 删除元素\n",
    "##### 使用del删除"
   ]
  },
  {
   "cell_type": "code",
   "execution_count": 44,
   "id": "e7a02e53d97ce683",
   "metadata": {
    "ExecuteTime": {
     "end_time": "2025-03-29T10:51:29.637667400Z",
     "start_time": "2025-03-27T15:24:01.671582Z"
    }
   },
   "outputs": [
    {
     "data": {
      "text/plain": [
       "{'001': '张三', '002': '李四'}"
      ]
     },
     "execution_count": 44,
     "metadata": {},
     "output_type": "execute_result"
    }
   ],
   "source": [
    "del dict2['003']\n",
    "dict2"
   ]
  },
  {
   "cell_type": "markdown",
   "id": "22a0531348efb868",
   "metadata": {},
   "source": [
    "#### 4. 修改元素"
   ]
  },
  {
   "cell_type": "code",
   "execution_count": 46,
   "id": "5c4c90c170d163b4",
   "metadata": {
    "ExecuteTime": {
     "end_time": "2025-03-29T10:51:29.655670100Z",
     "start_time": "2025-03-27T15:30:53.376855Z"
    }
   },
   "outputs": [
    {
     "data": {
      "text/plain": [
       "{'001': '张三', '002': '王五'}"
      ]
     },
     "execution_count": 46,
     "metadata": {},
     "output_type": "execute_result"
    }
   ],
   "source": [
    "dict2['002'] = '王五'\n",
    "dict2"
   ]
  },
  {
   "cell_type": "markdown",
   "id": "fa15d6cc2ac1f63",
   "metadata": {},
   "source": [
    "#### 5. 查找元素\n",
    "##### 查找字典时, 在字典名后的方括号\"[]\"中输入\"键值\", 没有的键值会报错"
   ]
  },
  {
   "cell_type": "code",
   "execution_count": 47,
   "id": "46697feaadab2d9",
   "metadata": {
    "ExecuteTime": {
     "end_time": "2025-03-29T10:51:29.661663700Z",
     "start_time": "2025-03-27T15:33:21.616753Z"
    }
   },
   "outputs": [
    {
     "data": {
      "text/plain": [
       "'张三'"
      ]
     },
     "execution_count": 47,
     "metadata": {},
     "output_type": "execute_result"
    }
   ],
   "source": [
    "dict2['001']"
   ]
  },
  {
   "cell_type": "code",
   "execution_count": 48,
   "id": "8ef5a87099fbd226",
   "metadata": {
    "ExecuteTime": {
     "end_time": "2025-03-29T10:51:29.662664100Z",
     "start_time": "2025-03-27T15:33:26.461750Z"
    }
   },
   "outputs": [
    {
     "ename": "KeyError",
     "evalue": "'004'",
     "output_type": "error",
     "traceback": [
      "\u001b[1;31m---------------------------------------------------------------------------\u001b[0m",
      "\u001b[1;31mKeyError\u001b[0m                                  Traceback (most recent call last)",
      "Cell \u001b[1;32mIn[48], line 1\u001b[0m\n\u001b[1;32m----> 1\u001b[0m \u001b[43mdict2\u001b[49m\u001b[43m[\u001b[49m\u001b[38;5;124;43m'\u001b[39;49m\u001b[38;5;124;43m004\u001b[39;49m\u001b[38;5;124;43m'\u001b[39;49m\u001b[43m]\u001b[49m\n",
      "\u001b[1;31mKeyError\u001b[0m: '004'"
     ]
    }
   ],
   "source": [
    "dict2['004']"
   ]
  },
  {
   "cell_type": "markdown",
   "id": "103c03667276ce38",
   "metadata": {},
   "source": [
    "#### 6. 遍历字典\n",
    "##### 使用 for"
   ]
  },
  {
   "cell_type": "code",
   "execution_count": 49,
   "id": "70dde8076882e75d",
   "metadata": {
    "ExecuteTime": {
     "end_time": "2025-03-29T10:51:29.664071500Z",
     "start_time": "2025-03-27T15:34:34.650040Z"
    }
   },
   "outputs": [
    {
     "name": "stdout",
     "output_type": "stream",
     "text": [
      "001 张三\n",
      "002 王五\n"
     ]
    }
   ],
   "source": [
    "for key in dict2:\n",
    "    print(key, dict2[key])"
   ]
  },
  {
   "cell_type": "code",
   "execution_count": null,
   "id": "e66d209990e5f1b",
   "metadata": {},
   "outputs": [],
   "source": []
  }
 ],
 "metadata": {
  "kernelspec": {
   "display_name": "Python 3 (ipykernel)",
   "language": "python",
   "name": "python3"
  },
  "language_info": {
   "codemirror_mode": {
    "name": "ipython",
    "version": 3
   },
   "file_extension": ".py",
   "mimetype": "text/x-python",
   "name": "python",
   "nbconvert_exporter": "python",
   "pygments_lexer": "ipython3",
   "version": "3.12.7"
  }
 },
 "nbformat": 4,
 "nbformat_minor": 5
}
