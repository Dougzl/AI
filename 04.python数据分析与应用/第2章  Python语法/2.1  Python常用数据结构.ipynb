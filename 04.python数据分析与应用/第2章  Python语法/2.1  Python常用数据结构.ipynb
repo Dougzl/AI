{
 "cells": [
  {
   "metadata": {},
   "cell_type": "markdown",
   "source": [
    "## 2.1.1 列表\n",
    "### 列表是Python中最基本的数据结构, 是一个有序, 可变序列, 所有元素放在一对中括号\"[]\"里面."
   ],
   "id": "a66935b78753b0ce"
  },
  {
   "metadata": {},
   "cell_type": "markdown",
   "source": "#### 1. 创建列表",
   "id": "12dc4ca2fa8e7a0e"
  },
  {
   "metadata": {
    "ExecuteTime": {
     "end_time": "2025-03-26T14:48:10.058949Z",
     "start_time": "2025-03-26T14:48:10.052359Z"
    }
   },
   "cell_type": "code",
   "outputs": [
    {
     "data": {
      "text/plain": [
       "[1, 2, 3, 4, 5]"
      ]
     },
     "execution_count": 2,
     "metadata": {},
     "output_type": "execute_result"
    }
   ],
   "execution_count": 2,
   "source": [
    "list1 = [1, 2, 3, 4, 5]\n",
    "list1"
   ],
   "id": "98d57792b4b45b0b"
  },
  {
   "metadata": {},
   "cell_type": "markdown",
   "source": [
    "#### 2. 更新列表中的元素\n",
    "##### 2.1 append() 将一个对象附加到列表的末尾"
   ],
   "id": "4e1c71f926047143"
  },
  {
   "metadata": {
    "ExecuteTime": {
     "end_time": "2025-03-26T14:48:48.050693Z",
     "start_time": "2025-03-26T14:48:48.046324Z"
    }
   },
   "cell_type": "code",
   "outputs": [
    {
     "data": {
      "text/plain": [
       "[1, 2, 3, 4, 5, 6, 6]"
      ]
     },
     "execution_count": 4,
     "metadata": {},
     "output_type": "execute_result"
    }
   ],
   "execution_count": 4,
   "source": [
    "list1.append(6)\n",
    "list1"
   ],
   "id": "9d9081e39b2fc55c"
  },
  {
   "metadata": {},
   "cell_type": "markdown",
   "source": "##### 2.2 insert() 将一个对象插入到列表的指定下表前",
   "id": "603b65ddad686cbb"
  },
  {
   "metadata": {
    "ExecuteTime": {
     "end_time": "2025-03-26T14:50:31.889147Z",
     "start_time": "2025-03-26T14:50:31.884039Z"
    }
   },
   "cell_type": "code",
   "outputs": [
    {
     "data": {
      "text/plain": [
       "[1, 2.2, 2.2, 2, 3, 4, 5, 6, 6]"
      ]
     },
     "execution_count": 6,
     "metadata": {},
     "output_type": "execute_result"
    }
   ],
   "execution_count": 6,
   "source": [
    "list1.insert(1, 2.2)\n",
    "list1"
   ],
   "id": "e22049cf0a30e7fb"
  },
  {
   "metadata": {},
   "cell_type": "markdown",
   "source": "##### 2.3 extend() 将一个列表附加到另一个列表的末尾",
   "id": "2f2a1cdf9bcfe422"
  },
  {
   "metadata": {
    "ExecuteTime": {
     "end_time": "2025-03-26T14:51:55.748957Z",
     "start_time": "2025-03-26T14:51:55.742491Z"
    }
   },
   "cell_type": "code",
   "outputs": [
    {
     "data": {
      "text/plain": [
       "[1,\n",
       " 2.2,\n",
       " 2.2,\n",
       " 2,\n",
       " 3,\n",
       " 4,\n",
       " 5,\n",
       " 6,\n",
       " 6,\n",
       " '1',\n",
       " '2',\n",
       " '3',\n",
       " '4',\n",
       " '5',\n",
       " '1',\n",
       " '2',\n",
       " '3',\n",
       " '4',\n",
       " '5']"
      ]
     },
     "execution_count": 8,
     "metadata": {},
     "output_type": "execute_result"
    }
   ],
   "execution_count": 8,
   "source": [
    "list2 = ['1', '2', '3', '4', '5']\n",
    "list1.extend(list2)\n",
    "list1"
   ],
   "id": "211e6c9c0cf48c2b"
  },
  {
   "metadata": {},
   "cell_type": "markdown",
   "source": [
    "#### 3. 删除列表中的元素\n",
    "##### 3.1 clear() 清空列表的内容"
   ],
   "id": "1e20687e4e8435dc"
  },
  {
   "metadata": {
    "ExecuteTime": {
     "end_time": "2025-03-26T14:54:48.195363Z",
     "start_time": "2025-03-26T14:54:48.190202Z"
    }
   },
   "cell_type": "code",
   "outputs": [
    {
     "data": {
      "text/plain": [
       "[]"
      ]
     },
     "execution_count": 9,
     "metadata": {},
     "output_type": "execute_result"
    }
   ],
   "execution_count": 9,
   "source": [
    "list1.clear()\n",
    "list1"
   ],
   "id": "e5fc62c829e902b7"
  },
  {
   "metadata": {},
   "cell_type": "markdown",
   "source": "##### 3.2 remove() 删除列表中指定的元素, 不会返回值",
   "id": "8a58ab8a62372e33"
  },
  {
   "metadata": {
    "ExecuteTime": {
     "end_time": "2025-03-26T14:55:38.328895Z",
     "start_time": "2025-03-26T14:55:38.322752Z"
    }
   },
   "cell_type": "code",
   "outputs": [
    {
     "data": {
      "text/plain": [
       "[1, 2, 4, 5]"
      ]
     },
     "execution_count": 10,
     "metadata": {},
     "output_type": "execute_result"
    }
   ],
   "execution_count": 10,
   "source": [
    "list1 = [1, 2, 3, 4, 5]\n",
    "list1.remove(3)\n",
    "list1"
   ],
   "id": "6c12a850ac5c2ca7"
  },
  {
   "metadata": {},
   "cell_type": "markdown",
   "source": "##### 3.3 pop() 删除列表中最后一个元素并返回值",
   "id": "684ba7e5a5452240"
  },
  {
   "metadata": {
    "ExecuteTime": {
     "end_time": "2025-03-26T14:58:42.094084Z",
     "start_time": "2025-03-26T14:58:42.090083Z"
    }
   },
   "cell_type": "code",
   "outputs": [
    {
     "name": "stdout",
     "output_type": "stream",
     "text": [
      "4 [1, 2]\n"
     ]
    }
   ],
   "execution_count": 12,
   "source": [
    "a = list1.pop()\n",
    "print(a, list1)"
   ],
   "id": "afdfcfb930cd757a"
  },
  {
   "metadata": {},
   "cell_type": "markdown",
   "source": [
    "#### 4. 修改列表中的元素\n",
    "##### 4.1 通过下表修改"
   ],
   "id": "c2bba550c2c0b3a9"
  },
  {
   "metadata": {
    "ExecuteTime": {
     "end_time": "2025-03-26T14:59:58.514513Z",
     "start_time": "2025-03-26T14:59:58.508204Z"
    }
   },
   "cell_type": "code",
   "outputs": [
    {
     "data": {
      "text/plain": [
       "[1, 'test']"
      ]
     },
     "execution_count": 14,
     "metadata": {},
     "output_type": "execute_result"
    }
   ],
   "execution_count": 14,
   "source": [
    "list1[1] = 'test'\n",
    "list1"
   ],
   "id": "ee82017feea101d9"
  },
  {
   "metadata": {},
   "cell_type": "markdown",
   "source": "##### 4.2 reverse() 将列表中的元素逆向",
   "id": "8d51594526e2b6f6"
  },
  {
   "metadata": {
    "ExecuteTime": {
     "end_time": "2025-03-26T15:01:12.809989Z",
     "start_time": "2025-03-26T15:01:12.805474Z"
    }
   },
   "cell_type": "code",
   "outputs": [
    {
     "data": {
      "text/plain": [
       "[1, 'test']"
      ]
     },
     "execution_count": 16,
     "metadata": {},
     "output_type": "execute_result"
    }
   ],
   "execution_count": 16,
   "source": [
    "list1.reverse()\n",
    "list1"
   ],
   "id": "b0e7cf93c6c358ba"
  },
  {
   "metadata": {},
   "cell_type": "markdown",
   "source": "##### 4.3 sort() 对列表进行排序",
   "id": "f664c3c80844c2d5"
  },
  {
   "metadata": {
    "ExecuteTime": {
     "end_time": "2025-03-26T15:06:46.101899Z",
     "start_time": "2025-03-26T15:06:46.097418Z"
    }
   },
   "cell_type": "code",
   "outputs": [
    {
     "data": {
      "text/plain": [
       "[1, 2, 3, 5, 9]"
      ]
     },
     "execution_count": 18,
     "metadata": {},
     "output_type": "execute_result"
    }
   ],
   "execution_count": 18,
   "source": [
    "list1 = [1, 9, 3, 2, 5]\n",
    "list1.sort()\n",
    "list1"
   ],
   "id": "cfd761fe391d72d9"
  },
  {
   "metadata": {},
   "cell_type": "markdown",
   "source": [
    "#### 5. 查找列表中的元素\n",
    "##### 5.1 index() 查找指定元素第一次出现的下标"
   ],
   "id": "bf220830806561aa"
  },
  {
   "metadata": {},
   "cell_type": "code",
   "outputs": [],
   "execution_count": null,
   "source": [
    "list1 = [1, 9, 3, 2, 5, 9, 3]\n",
    "list1.index(9)"
   ],
   "id": "be05db2030519683"
  },
  {
   "metadata": {},
   "cell_type": "markdown",
   "source": "##### 5.2 count() 计算指定元素在列表中出现的次数",
   "id": "98e4c080fde43077"
  },
  {
   "metadata": {
    "ExecuteTime": {
     "end_time": "2025-03-26T15:14:27.124713Z",
     "start_time": "2025-03-26T15:14:27.119934Z"
    }
   },
   "cell_type": "code",
   "source": "list1.count(9)",
   "id": "21e0b548c4f0ff18",
   "outputs": [
    {
     "data": {
      "text/plain": [
       "2"
      ]
     },
     "execution_count": 21,
     "metadata": {},
     "output_type": "execute_result"
    }
   ],
   "execution_count": 21
  },
  {
   "metadata": {},
   "cell_type": "markdown",
   "source": [
    "#### 6. 分片操作\n",
    "##### 6.1 直接复制原列表"
   ],
   "id": "6c004d8aebfbce"
  },
  {
   "metadata": {
    "ExecuteTime": {
     "end_time": "2025-03-26T15:27:19.378050Z",
     "start_time": "2025-03-26T15:27:19.373597Z"
    }
   },
   "cell_type": "code",
   "source": "list1[::]",
   "id": "9874b3a36d70eca4",
   "outputs": [
    {
     "data": {
      "text/plain": [
       "[1, 9, 3, 2, 5, 9, 3]"
      ]
     },
     "execution_count": 22,
     "metadata": {},
     "output_type": "execute_result"
    }
   ],
   "execution_count": 22
  },
  {
   "metadata": {},
   "cell_type": "markdown",
   "source": "###### 两个分号可以省略为1个",
   "id": "da57a2a3917d916a"
  },
  {
   "metadata": {
    "ExecuteTime": {
     "end_time": "2025-03-26T15:28:09.514617Z",
     "start_time": "2025-03-26T15:28:09.510200Z"
    }
   },
   "cell_type": "code",
   "source": "list1[:]",
   "id": "b38548324e5dcd9",
   "outputs": [
    {
     "data": {
      "text/plain": [
       "[1, 9, 3, 2, 5, 9, 3]"
      ]
     },
     "execution_count": 23,
     "metadata": {},
     "output_type": "execute_result"
    }
   ],
   "execution_count": 23
  },
  {
   "metadata": {},
   "cell_type": "markdown",
   "source": "###### 利用分片获取1到5下标的所有元素",
   "id": "6dcb5b84cfcfc4d6"
  },
  {
   "metadata": {
    "ExecuteTime": {
     "end_time": "2025-03-26T15:28:57.942548Z",
     "start_time": "2025-03-26T15:28:57.936087Z"
    }
   },
   "cell_type": "code",
   "source": "list1[1:5]",
   "id": "c3303df7aaf1dd9f",
   "outputs": [
    {
     "data": {
      "text/plain": [
       "[9, 3, 2, 5]"
      ]
     },
     "execution_count": 25,
     "metadata": {},
     "output_type": "execute_result"
    }
   ],
   "execution_count": 25
  },
  {
   "metadata": {},
   "cell_type": "markdown",
   "source": "###### 利用下标获取1后面的所有元素",
   "id": "ddac8a5c2b5ab9"
  },
  {
   "metadata": {
    "ExecuteTime": {
     "end_time": "2025-03-26T15:29:50.340334Z",
     "start_time": "2025-03-26T15:29:50.335001Z"
    }
   },
   "cell_type": "code",
   "source": "list1[1:]",
   "id": "77688d9cf0fe9fdf",
   "outputs": [
    {
     "data": {
      "text/plain": [
       "[9, 3, 2, 5, 9, 3]"
      ]
     },
     "execution_count": 26,
     "metadata": {},
     "output_type": "execute_result"
    }
   ],
   "execution_count": 26
  },
  {
   "metadata": {},
   "cell_type": "markdown",
   "source": "###### 利用下标获取5之前的所有元素",
   "id": "e5cd140e328088b1"
  },
  {
   "metadata": {
    "ExecuteTime": {
     "end_time": "2025-03-26T15:30:41.034079Z",
     "start_time": "2025-03-26T15:30:41.029286Z"
    }
   },
   "cell_type": "code",
   "source": "list1[:5]",
   "id": "2145e4ef64700c37",
   "outputs": [
    {
     "data": {
      "text/plain": [
       "[1, 9, 3, 2, 5]"
      ]
     },
     "execution_count": 27,
     "metadata": {},
     "output_type": "execute_result"
    }
   ],
   "execution_count": 27
  },
  {
   "metadata": {},
   "cell_type": "markdown",
   "source": "###### 利用分片操作获取下标1到5之间不长为2的所有元素",
   "id": "49537a4c92bf830f"
  },
  {
   "metadata": {
    "ExecuteTime": {
     "end_time": "2025-03-26T15:32:29.313343Z",
     "start_time": "2025-03-26T15:32:29.309605Z"
    }
   },
   "cell_type": "code",
   "source": "list1[1:5:2]",
   "id": "ed2c4ac49fb3b827",
   "outputs": [
    {
     "data": {
      "text/plain": [
       "[9, 2]"
      ]
     },
     "execution_count": 28,
     "metadata": {},
     "output_type": "execute_result"
    }
   ],
   "execution_count": 28
  },
  {
   "metadata": {},
   "cell_type": "markdown",
   "source": "###### 利用分片获取数组的逆序",
   "id": "f0280bbd7db35484"
  },
  {
   "metadata": {
    "ExecuteTime": {
     "end_time": "2025-03-26T15:33:58.336048Z",
     "start_time": "2025-03-26T15:33:58.330804Z"
    }
   },
   "cell_type": "code",
   "source": "list1[::-1]",
   "id": "f18602c1bfbb8e08",
   "outputs": [
    {
     "data": {
      "text/plain": [
       "[3, 9, 5, 2, 3, 9, 1]"
      ]
     },
     "execution_count": 29,
     "metadata": {},
     "output_type": "execute_result"
    }
   ],
   "execution_count": 29
  },
  {
   "metadata": {},
   "cell_type": "markdown",
   "source": "###### 利用分片获取下标5到1之间不长为2到所有元素",
   "id": "8c6f5d709726397e"
  },
  {
   "metadata": {
    "ExecuteTime": {
     "end_time": "2025-03-26T15:35:17.920636Z",
     "start_time": "2025-03-26T15:35:17.916113Z"
    }
   },
   "cell_type": "code",
   "source": "list1[5:1:-2]",
   "id": "861733badfbee935",
   "outputs": [
    {
     "data": {
      "text/plain": [
       "[9, 2]"
      ]
     },
     "execution_count": 31,
     "metadata": {},
     "output_type": "execute_result"
    }
   ],
   "execution_count": 31
  },
  {
   "metadata": {},
   "cell_type": "markdown",
   "source": [
    "## 2.2.2 元组\n",
    "### 元组是一个用圆括号括起来的, 使用逗号分隔元素的Python对象\n",
    "### 元组与列表:\n",
    "#### 元组不能修改内容, 列表可以修改, 所以元组作为字典的键(key), 列表不能\n",
    "#### 元组操作速度快"
   ],
   "id": "c74dd4c83d25cf3b"
  },
  {
   "metadata": {},
   "cell_type": "markdown",
   "source": "#### 1. 创建元组",
   "id": "84f376fd6f81f958"
  },
  {
   "metadata": {
    "ExecuteTime": {
     "end_time": "2025-03-27T13:45:22.004608Z",
     "start_time": "2025-03-27T13:45:21.992166Z"
    }
   },
   "cell_type": "code",
   "source": [
    "tuple1 = ('physics', 'chemistry', 1992, 2002)\n",
    "tuple1"
   ],
   "id": "9fc120a8be8c0581",
   "outputs": [
    {
     "data": {
      "text/plain": [
       "('physics', 'chemistry', 1992, 2002)"
      ]
     },
     "execution_count": 1,
     "metadata": {},
     "output_type": "execute_result"
    }
   ],
   "execution_count": 1
  },
  {
   "metadata": {
    "ExecuteTime": {
     "end_time": "2025-03-27T13:49:45.475651Z",
     "start_time": "2025-03-27T13:49:45.469078Z"
    }
   },
   "cell_type": "code",
   "source": [
    "tuple2 = (1, 2, 3)\n",
    "tuple2"
   ],
   "id": "a855fabf68af084d",
   "outputs": [
    {
     "data": {
      "text/plain": [
       "(1, 2, 3)"
      ]
     },
     "execution_count": 2,
     "metadata": {},
     "output_type": "execute_result"
    }
   ],
   "execution_count": 2
  },
  {
   "metadata": {
    "ExecuteTime": {
     "end_time": "2025-03-27T13:50:11.631563Z",
     "start_time": "2025-03-27T13:50:11.624752Z"
    }
   },
   "cell_type": "code",
   "source": [
    "tuple3 = 'a', 'b', 'c'\n",
    "tuple3"
   ],
   "id": "82cf714e7ac98d36",
   "outputs": [
    {
     "data": {
      "text/plain": [
       "('a', 'b', 'c')"
      ]
     },
     "execution_count": 3,
     "metadata": {},
     "output_type": "execute_result"
    }
   ],
   "execution_count": 3
  },
  {
   "metadata": {},
   "cell_type": "markdown",
   "source": "##### 若只想创建包含一个元素的元组, 则必须在元素后面添加逗号, 否则就不是元组",
   "id": "21f5d705f511b4cd"
  },
  {
   "metadata": {
    "ExecuteTime": {
     "end_time": "2025-03-27T13:54:25.503923Z",
     "start_time": "2025-03-27T13:54:25.497666Z"
    }
   },
   "cell_type": "code",
   "source": [
    "tuple1 = (1)\n",
    "tuple1"
   ],
   "id": "d2f7a1e02ec96d4c",
   "outputs": [
    {
     "data": {
      "text/plain": [
       "1"
      ]
     },
     "execution_count": 4,
     "metadata": {},
     "output_type": "execute_result"
    }
   ],
   "execution_count": 4
  },
  {
   "metadata": {
    "ExecuteTime": {
     "end_time": "2025-03-27T13:54:37.139713Z",
     "start_time": "2025-03-27T13:54:37.134400Z"
    }
   },
   "cell_type": "code",
   "source": [
    "tuple2 = (1,)\n",
    "tuple2"
   ],
   "id": "82b548961e2bc73a",
   "outputs": [
    {
     "data": {
      "text/plain": [
       "(1,)"
      ]
     },
     "execution_count": 5,
     "metadata": {},
     "output_type": "execute_result"
    }
   ],
   "execution_count": 5
  },
  {
   "metadata": {
    "ExecuteTime": {
     "end_time": "2025-03-27T13:54:59.466110Z",
     "start_time": "2025-03-27T13:54:59.461301Z"
    }
   },
   "cell_type": "code",
   "source": [
    "tuple3 = ([1,2,3])\n",
    "tuple3"
   ],
   "id": "1843679bc303bacd",
   "outputs": [
    {
     "data": {
      "text/plain": [
       "[1, 2, 3]"
      ]
     },
     "execution_count": 6,
     "metadata": {},
     "output_type": "execute_result"
    }
   ],
   "execution_count": 6
  },
  {
   "metadata": {},
   "cell_type": "markdown",
   "source": "#### 2. 访问元组",
   "id": "a351542367cd2c8d"
  },
  {
   "metadata": {
    "ExecuteTime": {
     "end_time": "2025-03-27T14:10:07.294113Z",
     "start_time": "2025-03-27T14:10:07.286372Z"
    }
   },
   "cell_type": "code",
   "source": [
    "tuple1 = ('physics', 'chemistry', 1992, 2002)\n",
    "tuple1[2]"
   ],
   "id": "76a8ce99b890d8fd",
   "outputs": [
    {
     "data": {
      "text/plain": [
       "1992"
      ]
     },
     "execution_count": 8,
     "metadata": {},
     "output_type": "execute_result"
    }
   ],
   "execution_count": 8
  },
  {
   "metadata": {
    "ExecuteTime": {
     "end_time": "2025-03-27T14:10:27.938748Z",
     "start_time": "2025-03-27T14:10:27.932818Z"
    }
   },
   "cell_type": "code",
   "source": [
    "tuple2 = (1, 2, 3, 4, 5)\n",
    "tuple2[1:4]"
   ],
   "id": "223681bffcda02f8",
   "outputs": [
    {
     "data": {
      "text/plain": [
       "(2, 3, 4)"
      ]
     },
     "execution_count": 9,
     "metadata": {},
     "output_type": "execute_result"
    }
   ],
   "execution_count": 9
  },
  {
   "metadata": {},
   "cell_type": "markdown",
   "source": [
    "#### 3. 删除元组\n",
    "##### 如果该元组在之后的程序中不会再使用, 为了节约内存, 可以使用 del进行删除"
   ],
   "id": "ec6df7f66452732c"
  },
  {
   "metadata": {
    "ExecuteTime": {
     "end_time": "2025-03-27T14:12:10.144148Z",
     "start_time": "2025-03-27T14:12:09.810395Z"
    }
   },
   "cell_type": "code",
   "source": [
    "tuple2 = (1, 2, 3, 4, 5)\n",
    "del tuple2\n",
    "tuple2"
   ],
   "id": "f0f8a8ee7ac2ed96",
   "outputs": [
    {
     "ename": "NameError",
     "evalue": "name 'tuple2' is not defined",
     "output_type": "error",
     "traceback": [
      "\u001B[1;31m---------------------------------------------------------------------------\u001B[0m",
      "\u001B[1;31mNameError\u001B[0m                                 Traceback (most recent call last)",
      "Cell \u001B[1;32mIn[11], line 3\u001B[0m\n\u001B[0;32m      1\u001B[0m tuple2 \u001B[38;5;241m=\u001B[39m (\u001B[38;5;241m1\u001B[39m, \u001B[38;5;241m2\u001B[39m, \u001B[38;5;241m3\u001B[39m, \u001B[38;5;241m4\u001B[39m, \u001B[38;5;241m5\u001B[39m)\n\u001B[0;32m      2\u001B[0m \u001B[38;5;28;01mdel\u001B[39;00m tuple2\n\u001B[1;32m----> 3\u001B[0m \u001B[43mtuple2\u001B[49m\n",
      "\u001B[1;31mNameError\u001B[0m: name 'tuple2' is not defined"
     ]
    }
   ],
   "execution_count": 11
  },
  {
   "metadata": {},
   "cell_type": "markdown",
   "source": [
    "#### 4. 查找元组中的元素\n",
    "##### index() 和 count() 同列表一样"
   ],
   "id": "e4c9f519e0f3dbea"
  },
  {
   "metadata": {
    "ExecuteTime": {
     "end_time": "2025-03-27T14:19:57.001765Z",
     "start_time": "2025-03-27T14:19:56.996437Z"
    }
   },
   "cell_type": "code",
   "source": [
    "tuple1 = ('physics', 'chemistry', 1992, 2002, 'physics')\n",
    "tuple1.index(1992)"
   ],
   "id": "3778a01e311433a0",
   "outputs": [
    {
     "data": {
      "text/plain": [
       "2"
      ]
     },
     "execution_count": 14,
     "metadata": {},
     "output_type": "execute_result"
    }
   ],
   "execution_count": 14
  },
  {
   "metadata": {
    "ExecuteTime": {
     "end_time": "2025-03-27T14:19:59.147464Z",
     "start_time": "2025-03-27T14:19:59.139905Z"
    }
   },
   "cell_type": "code",
   "source": "tuple1.count('physics')",
   "id": "11865c6159785a18",
   "outputs": [
    {
     "data": {
      "text/plain": [
       "2"
      ]
     },
     "execution_count": 15,
     "metadata": {},
     "output_type": "execute_result"
    }
   ],
   "execution_count": 15
  },
  {
   "metadata": {},
   "cell_type": "markdown",
   "source": [
    "#### 5. 修改元组\n",
    "##### 元组不允许修改"
   ],
   "id": "5c0893f48561564b"
  },
  {
   "metadata": {
    "ExecuteTime": {
     "end_time": "2025-03-27T14:20:52.011145Z",
     "start_time": "2025-03-27T14:20:51.995701Z"
    }
   },
   "cell_type": "code",
   "source": "tuple1[1] = 1992",
   "id": "602ed66f79a63721",
   "outputs": [
    {
     "ename": "TypeError",
     "evalue": "'tuple' object does not support item assignment",
     "output_type": "error",
     "traceback": [
      "\u001B[1;31m---------------------------------------------------------------------------\u001B[0m",
      "\u001B[1;31mTypeError\u001B[0m                                 Traceback (most recent call last)",
      "Cell \u001B[1;32mIn[16], line 1\u001B[0m\n\u001B[1;32m----> 1\u001B[0m \u001B[43mtuple1\u001B[49m\u001B[43m[\u001B[49m\u001B[38;5;241;43m1\u001B[39;49m\u001B[43m]\u001B[49m \u001B[38;5;241m=\u001B[39m \u001B[38;5;241m1992\u001B[39m\n",
      "\u001B[1;31mTypeError\u001B[0m: 'tuple' object does not support item assignment"
     ]
    }
   ],
   "execution_count": 16
  },
  {
   "metadata": {},
   "cell_type": "markdown",
   "source": "##### 如果想修改元组内的元素, 可以通过切片操作获取元组内一部分元素, 然后重新赋值给同名元组就可以间接修改元组",
   "id": "d2e8f8994f425955"
  },
  {
   "metadata": {
    "ExecuteTime": {
     "end_time": "2025-03-27T14:22:17.141467Z",
     "start_time": "2025-03-27T14:22:17.133084Z"
    }
   },
   "cell_type": "code",
   "source": [
    "tuple1 = tuple1[1:3]\n",
    "tuple1"
   ],
   "id": "d61eb615d5df2805",
   "outputs": [
    {
     "data": {
      "text/plain": [
       "('chemistry', 1992)"
      ]
     },
     "execution_count": 17,
     "metadata": {},
     "output_type": "execute_result"
    }
   ],
   "execution_count": 17
  },
  {
   "metadata": {},
   "cell_type": "markdown",
   "source": [
    "#### 6. 内置函数\n",
    "##### Python元组包含了以下内置函数\n",
    "##### len(tuple) 计算元素个个数\n",
    "##### max(tuple) 计算元组中元素最大值\n",
    "##### min(tuple) 计算元组中元素最小值\n",
    "##### tuple(seq) 将列表转换为元组"
   ],
   "id": "a6f918aea0ec44b7"
  },
  {
   "metadata": {
    "ExecuteTime": {
     "end_time": "2025-03-27T14:27:36.372863Z",
     "start_time": "2025-03-27T14:27:36.367604Z"
    }
   },
   "cell_type": "code",
   "source": [
    "tuple2 = (1, 2, 3, 4, 5)\n",
    "len(tuple2)"
   ],
   "id": "27054d9a468834b2",
   "outputs": [
    {
     "data": {
      "text/plain": [
       "5"
      ]
     },
     "execution_count": 18,
     "metadata": {},
     "output_type": "execute_result"
    }
   ],
   "execution_count": 18
  },
  {
   "metadata": {
    "ExecuteTime": {
     "end_time": "2025-03-27T14:27:50.019783Z",
     "start_time": "2025-03-27T14:27:50.013686Z"
    }
   },
   "cell_type": "code",
   "source": "tuple([1, 2, 3, 4, 5])",
   "id": "a014212e3e914c1e",
   "outputs": [
    {
     "data": {
      "text/plain": [
       "(1, 2, 3, 4, 5)"
      ]
     },
     "execution_count": 19,
     "metadata": {},
     "output_type": "execute_result"
    }
   ],
   "execution_count": 19
  },
  {
   "metadata": {},
   "cell_type": "markdown",
   "source": [
    "## 2.1.4 集合\n",
    "### 集合是一个无序不重复的元素序列"
   ],
   "id": "7b07a949cb1338a4"
  },
  {
   "metadata": {},
   "cell_type": "markdown",
   "source": [
    "#### 1. 创建集合\n",
    "##### 使用 {} 或者用 set() 函数"
   ],
   "id": "757007527ef6276f"
  },
  {
   "metadata": {
    "ExecuteTime": {
     "end_time": "2025-03-27T14:44:42.433030Z",
     "start_time": "2025-03-27T14:44:42.425297Z"
    }
   },
   "cell_type": "code",
   "source": [
    "set1 = {1, 2, 3, 4, 5}\n",
    "set1"
   ],
   "id": "ffd5b5f4624387ef",
   "outputs": [
    {
     "data": {
      "text/plain": [
       "{1, 2, 3, 4, 5}"
      ]
     },
     "execution_count": 20,
     "metadata": {},
     "output_type": "execute_result"
    }
   ],
   "execution_count": 20
  },
  {
   "metadata": {
    "ExecuteTime": {
     "end_time": "2025-03-27T14:45:05.375797Z",
     "start_time": "2025-03-27T14:45:05.369880Z"
    }
   },
   "cell_type": "code",
   "source": [
    "set2 = set([1, 2, 3, 4, 4, 5])\n",
    "set2"
   ],
   "id": "4db3a0d5f8f805b9",
   "outputs": [
    {
     "data": {
      "text/plain": [
       "{1, 2, 3, 4, 5}"
      ]
     },
     "execution_count": 23,
     "metadata": {},
     "output_type": "execute_result"
    }
   ],
   "execution_count": 23
  },
  {
   "metadata": {},
   "cell_type": "markdown",
   "source": [
    "#### 2. 添加元素\n",
    "##### 使用add() 添加单个, 使用update()添加多个"
   ],
   "id": "28f1aef867bd0d8b"
  },
  {
   "metadata": {
    "ExecuteTime": {
     "end_time": "2025-03-27T14:46:04.290033Z",
     "start_time": "2025-03-27T14:46:04.281863Z"
    }
   },
   "cell_type": "code",
   "source": [
    "set1.add(6)\n",
    "set1"
   ],
   "id": "6718d93f0964ac58",
   "outputs": [
    {
     "data": {
      "text/plain": [
       "{1, 2, 3, 4, 5, 6}"
      ]
     },
     "execution_count": 24,
     "metadata": {},
     "output_type": "execute_result"
    }
   ],
   "execution_count": 24
  },
  {
   "metadata": {
    "ExecuteTime": {
     "end_time": "2025-03-27T14:53:42.731042Z",
     "start_time": "2025-03-27T14:53:42.723843Z"
    }
   },
   "cell_type": "code",
   "source": [
    "set1.update([33, 12], [8, 0, 10])\n",
    "set1"
   ],
   "id": "ac87a754bbfa160b",
   "outputs": [
    {
     "data": {
      "text/plain": [
       "{0, 1, 2, 3, 4, 5, 6, 8, 10, 12, 33}"
      ]
     },
     "execution_count": 25,
     "metadata": {},
     "output_type": "execute_result"
    }
   ],
   "execution_count": 25
  },
  {
   "metadata": {},
   "cell_type": "markdown",
   "source": [
    "#### 3. 删除元素\n",
    "##### remove() 可以删除指定元素, 如果元素不存在会发生错误\n",
    "##### discard() 可以删除指定元素, 如果元素不存在不会发生错误\n",
    "##### pop() 随机删除集合中的一个元素\n",
    "##### clear() 清空集合"
   ],
   "id": "1af38eabcdef6bf6"
  },
  {
   "metadata": {
    "ExecuteTime": {
     "end_time": "2025-03-27T14:59:58.478208Z",
     "start_time": "2025-03-27T14:59:58.461751Z"
    }
   },
   "cell_type": "code",
   "source": [
    "set1.remove(1)\n",
    "set1"
   ],
   "id": "8cf3341d014990e9",
   "outputs": [
    {
     "ename": "KeyError",
     "evalue": "1",
     "output_type": "error",
     "traceback": [
      "\u001B[1;31m---------------------------------------------------------------------------\u001B[0m",
      "\u001B[1;31mKeyError\u001B[0m                                  Traceback (most recent call last)",
      "Cell \u001B[1;32mIn[27], line 1\u001B[0m\n\u001B[1;32m----> 1\u001B[0m \u001B[43mset1\u001B[49m\u001B[38;5;241;43m.\u001B[39;49m\u001B[43mremove\u001B[49m\u001B[43m(\u001B[49m\u001B[38;5;241;43m1\u001B[39;49m\u001B[43m)\u001B[49m\n\u001B[0;32m      2\u001B[0m set1\n",
      "\u001B[1;31mKeyError\u001B[0m: 1"
     ]
    }
   ],
   "execution_count": 27
  },
  {
   "metadata": {
    "ExecuteTime": {
     "end_time": "2025-03-27T15:00:15.571951Z",
     "start_time": "2025-03-27T15:00:15.568935Z"
    }
   },
   "cell_type": "code",
   "source": "set1.discard(1)",
   "id": "27d1189aef532463",
   "outputs": [],
   "execution_count": 28
  },
  {
   "metadata": {
    "ExecuteTime": {
     "end_time": "2025-03-27T15:00:30.046778Z",
     "start_time": "2025-03-27T15:00:30.042553Z"
    }
   },
   "cell_type": "code",
   "source": [
    "set1.pop()\n",
    "set1"
   ],
   "id": "ac4b749331aa3724",
   "outputs": [
    {
     "data": {
      "text/plain": [
       "{3, 4, 5, 6, 8, 10, 12, 33}"
      ]
     },
     "execution_count": 30,
     "metadata": {},
     "output_type": "execute_result"
    }
   ],
   "execution_count": 30
  },
  {
   "metadata": {
    "ExecuteTime": {
     "end_time": "2025-03-27T15:00:45.864051Z",
     "start_time": "2025-03-27T15:00:45.858841Z"
    }
   },
   "cell_type": "code",
   "source": [
    "set1.clear()\n",
    "set1"
   ],
   "id": "fd7906acde8a1e83",
   "outputs": [
    {
     "data": {
      "text/plain": [
       "set()"
      ]
     },
     "execution_count": 32,
     "metadata": {},
     "output_type": "execute_result"
    }
   ],
   "execution_count": 32
  },
  {
   "metadata": {},
   "cell_type": "markdown",
   "source": [
    "#### 4. 查找集合中的元素\n",
    "##### 判断元素是否在集合中, 可以使用in操作符"
   ],
   "id": "18e986a063f67aed"
  },
  {
   "metadata": {
    "ExecuteTime": {
     "end_time": "2025-03-27T15:03:52.878506Z",
     "start_time": "2025-03-27T15:03:52.873540Z"
    }
   },
   "cell_type": "code",
   "source": [
    "set1 = {1, 2, 3, 4, 5}\n",
    "1 in set1"
   ],
   "id": "3da3d6be8427a5c7",
   "outputs": [
    {
     "data": {
      "text/plain": [
       "True"
      ]
     },
     "execution_count": 33,
     "metadata": {},
     "output_type": "execute_result"
    }
   ],
   "execution_count": 33
  },
  {
   "metadata": {},
   "cell_type": "markdown",
   "source": "#### 5. 集合的差, 并, 交集",
   "id": "8b1153670fed5478"
  },
  {
   "metadata": {},
   "cell_type": "markdown",
   "source": "##### 差集, 使用 difference() 或者 减号",
   "id": "3dc47749356922af"
  },
  {
   "metadata": {
    "ExecuteTime": {
     "end_time": "2025-03-27T15:08:08.077269Z",
     "start_time": "2025-03-27T15:08:08.072673Z"
    }
   },
   "cell_type": "code",
   "source": [
    "set1 = {1, 2, 3, 4, 5}\n",
    "set2 = {2, 5, 8, 10}\n",
    "\n",
    "set1.difference(set2)"
   ],
   "id": "456c1b757d667969",
   "outputs": [
    {
     "data": {
      "text/plain": [
       "{1, 3, 4}"
      ]
     },
     "execution_count": 34,
     "metadata": {},
     "output_type": "execute_result"
    }
   ],
   "execution_count": 34
  },
  {
   "metadata": {
    "ExecuteTime": {
     "end_time": "2025-03-27T15:08:13.442450Z",
     "start_time": "2025-03-27T15:08:13.438157Z"
    }
   },
   "cell_type": "code",
   "source": "set1 - set2",
   "id": "7b7b3ddacacee125",
   "outputs": [
    {
     "data": {
      "text/plain": [
       "{1, 3, 4}"
      ]
     },
     "execution_count": 35,
     "metadata": {},
     "output_type": "execute_result"
    }
   ],
   "execution_count": 35
  },
  {
   "metadata": {},
   "cell_type": "markdown",
   "source": "##### 并集, 使用 union() 不能使用 加号",
   "id": "9878e83a37913e1b"
  },
  {
   "metadata": {
    "ExecuteTime": {
     "end_time": "2025-03-27T15:09:15.541232Z",
     "start_time": "2025-03-27T15:09:15.536885Z"
    }
   },
   "cell_type": "code",
   "source": "set1.union(set2)",
   "id": "ac26ed315ab9f55b",
   "outputs": [
    {
     "data": {
      "text/plain": [
       "{1, 2, 3, 4, 5, 8, 10}"
      ]
     },
     "execution_count": 36,
     "metadata": {},
     "output_type": "execute_result"
    }
   ],
   "execution_count": 36
  },
  {
   "metadata": {},
   "cell_type": "markdown",
   "source": "##### 交集, 使用intersection()",
   "id": "ade12e6169e04293"
  },
  {
   "metadata": {
    "ExecuteTime": {
     "end_time": "2025-03-27T15:09:56.615206Z",
     "start_time": "2025-03-27T15:09:56.609913Z"
    }
   },
   "cell_type": "code",
   "source": "set1.intersection(set2)",
   "id": "9a28a6143922f70d",
   "outputs": [
    {
     "data": {
      "text/plain": [
       "{2, 5}"
      ]
     },
     "execution_count": 37,
     "metadata": {},
     "output_type": "execute_result"
    }
   ],
   "execution_count": 37
  },
  {
   "metadata": {},
   "cell_type": "markdown",
   "source": [
    "## 2.1.4 字典\n",
    "### 字典常用于存放具有映射关系的数据"
   ],
   "id": "3ac4cc3c9fc3df5c"
  },
  {
   "metadata": {},
   "cell_type": "markdown",
   "source": [
    "#### 1. 创建字典\n",
    "##### 字典的一个标志为 {}"
   ],
   "id": "342f0212eaccab7"
  },
  {
   "metadata": {
    "ExecuteTime": {
     "end_time": "2025-03-27T15:20:44.277473Z",
     "start_time": "2025-03-27T15:20:44.271628Z"
    }
   },
   "cell_type": "code",
   "source": [
    "dict1 = {}\n",
    "dict1"
   ],
   "id": "7d8c7948f6248e2f",
   "outputs": [
    {
     "data": {
      "text/plain": [
       "{}"
      ]
     },
     "execution_count": 38,
     "metadata": {},
     "output_type": "execute_result"
    }
   ],
   "execution_count": 38
  },
  {
   "metadata": {
    "ExecuteTime": {
     "end_time": "2025-03-27T15:21:29.414027Z",
     "start_time": "2025-03-27T15:21:29.409178Z"
    }
   },
   "cell_type": "code",
   "source": [
    "dict2 = {'001': '张三', '002': '李四'}\n",
    "dict2"
   ],
   "id": "3c77b9a4cc267b21",
   "outputs": [
    {
     "data": {
      "text/plain": [
       "{'001': '张三', '002': '李四'}"
      ]
     },
     "execution_count": 39,
     "metadata": {},
     "output_type": "execute_result"
    }
   ],
   "execution_count": 39
  },
  {
   "metadata": {},
   "cell_type": "markdown",
   "source": [
    "#### 2. 增加元素\n",
    "##### 想要增加元素时, 只需将键放在方括号\"[]\"中"
   ],
   "id": "e12422e3819a014c"
  },
  {
   "metadata": {
    "ExecuteTime": {
     "end_time": "2025-03-27T15:23:59.577756Z",
     "start_time": "2025-03-27T15:23:59.573714Z"
    }
   },
   "cell_type": "code",
   "source": [
    "dict2['003'] = '王五'\n",
    "dict2"
   ],
   "id": "24177b853808f2e8",
   "outputs": [
    {
     "data": {
      "text/plain": [
       "{'001': '张三', '002': '李四', '003': '王五'}"
      ]
     },
     "execution_count": 43,
     "metadata": {},
     "output_type": "execute_result"
    }
   ],
   "execution_count": 43
  },
  {
   "metadata": {},
   "cell_type": "markdown",
   "source": [
    "#### 3. 删除元素\n",
    "##### 使用del删除"
   ],
   "id": "62014ab108601e7a"
  },
  {
   "metadata": {
    "ExecuteTime": {
     "end_time": "2025-03-27T15:24:01.675641Z",
     "start_time": "2025-03-27T15:24:01.671582Z"
    }
   },
   "cell_type": "code",
   "source": [
    "del dict2['003']\n",
    "dict2"
   ],
   "id": "e7a02e53d97ce683",
   "outputs": [
    {
     "data": {
      "text/plain": [
       "{'001': '张三', '002': '李四'}"
      ]
     },
     "execution_count": 44,
     "metadata": {},
     "output_type": "execute_result"
    }
   ],
   "execution_count": 44
  },
  {
   "metadata": {},
   "cell_type": "markdown",
   "source": "#### 4. 修改元素",
   "id": "22a0531348efb868"
  },
  {
   "metadata": {
    "ExecuteTime": {
     "end_time": "2025-03-27T15:30:53.381861Z",
     "start_time": "2025-03-27T15:30:53.376855Z"
    }
   },
   "cell_type": "code",
   "source": [
    "dict2['002'] = '王五'\n",
    "dict2"
   ],
   "id": "5c4c90c170d163b4",
   "outputs": [
    {
     "data": {
      "text/plain": [
       "{'001': '张三', '002': '王五'}"
      ]
     },
     "execution_count": 46,
     "metadata": {},
     "output_type": "execute_result"
    }
   ],
   "execution_count": 46
  },
  {
   "metadata": {},
   "cell_type": "markdown",
   "source": [
    "#### 5. 查找元素\n",
    "##### 查找字典时, 在字典名后的方括号\"[]\"中输入\"键值\", 没有的键值会报错"
   ],
   "id": "fa15d6cc2ac1f63"
  },
  {
   "metadata": {
    "ExecuteTime": {
     "end_time": "2025-03-27T15:33:21.620645Z",
     "start_time": "2025-03-27T15:33:21.616753Z"
    }
   },
   "cell_type": "code",
   "source": "dict2['001']",
   "id": "46697feaadab2d9",
   "outputs": [
    {
     "data": {
      "text/plain": [
       "'张三'"
      ]
     },
     "execution_count": 47,
     "metadata": {},
     "output_type": "execute_result"
    }
   ],
   "execution_count": 47
  },
  {
   "metadata": {
    "ExecuteTime": {
     "end_time": "2025-03-27T15:33:26.473113Z",
     "start_time": "2025-03-27T15:33:26.461750Z"
    }
   },
   "cell_type": "code",
   "source": "dict2['004']",
   "id": "8ef5a87099fbd226",
   "outputs": [
    {
     "ename": "KeyError",
     "evalue": "'004'",
     "output_type": "error",
     "traceback": [
      "\u001B[1;31m---------------------------------------------------------------------------\u001B[0m",
      "\u001B[1;31mKeyError\u001B[0m                                  Traceback (most recent call last)",
      "Cell \u001B[1;32mIn[48], line 1\u001B[0m\n\u001B[1;32m----> 1\u001B[0m \u001B[43mdict2\u001B[49m\u001B[43m[\u001B[49m\u001B[38;5;124;43m'\u001B[39;49m\u001B[38;5;124;43m004\u001B[39;49m\u001B[38;5;124;43m'\u001B[39;49m\u001B[43m]\u001B[49m\n",
      "\u001B[1;31mKeyError\u001B[0m: '004'"
     ]
    }
   ],
   "execution_count": 48
  },
  {
   "metadata": {},
   "cell_type": "markdown",
   "source": [
    "#### 6. 遍历字典\n",
    "##### 使用 for"
   ],
   "id": "103c03667276ce38"
  },
  {
   "metadata": {
    "ExecuteTime": {
     "end_time": "2025-03-27T15:34:34.653497Z",
     "start_time": "2025-03-27T15:34:34.650040Z"
    }
   },
   "cell_type": "code",
   "source": [
    "for key in dict2:\n",
    "    print(key, dict2[key])"
   ],
   "id": "70dde8076882e75d",
   "outputs": [
    {
     "name": "stdout",
     "output_type": "stream",
     "text": [
      "001 张三\n",
      "002 王五\n"
     ]
    }
   ],
   "execution_count": 49
  },
  {
   "metadata": {},
   "cell_type": "code",
   "outputs": [],
   "execution_count": null,
   "source": "",
   "id": "e66d209990e5f1b"
  }
 ],
 "metadata": {
  "kernelspec": {
   "display_name": "Python 3",
   "language": "python",
   "name": "python3"
  },
  "language_info": {
   "codemirror_mode": {
    "name": "ipython",
    "version": 2
   },
   "file_extension": ".py",
   "mimetype": "text/x-python",
   "name": "python",
   "nbconvert_exporter": "python",
   "pygments_lexer": "ipython2",
   "version": "2.7.6"
  }
 },
 "nbformat": 4,
 "nbformat_minor": 5
}
