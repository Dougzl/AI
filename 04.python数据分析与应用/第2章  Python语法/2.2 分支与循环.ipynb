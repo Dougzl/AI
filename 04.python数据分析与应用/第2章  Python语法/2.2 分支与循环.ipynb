{
 "cells": [
  {
   "metadata": {},
   "cell_type": "markdown",
   "source": "## 2.1 分支",
   "id": "6144b145ccfcba2"
  },
  {
   "metadata": {
    "ExecuteTime": {
     "end_time": "2025-03-27T15:41:14.462773Z",
     "start_time": "2025-03-27T15:41:10.369799Z"
    }
   },
   "cell_type": "code",
   "source": [
    "def branching1():\n",
    "    a = input('请输入一个数字:')\n",
    "    a = float(a)\n",
    "    sum = 50\n",
    "    sum += a\n",
    "    if sum > 50:\n",
    "        if sum > 150:\n",
    "            sum = 0\n",
    "        elif sum > 125:\n",
    "            sum = -1\n",
    "        else:\n",
    "            sum = -2\n",
    "    else:\n",
    "        sum = -3\n",
    "    print('sum=', sum)\n",
    "\n",
    "if __name__ == '__main__':\n",
    "    branching1()"
   ],
   "id": "5d1c1ffefb828bd8",
   "outputs": [
    {
     "name": "stdout",
     "output_type": "stream",
     "text": [
      "sum= -2\n"
     ]
    }
   ],
   "execution_count": 1
  },
  {
   "metadata": {},
   "cell_type": "markdown",
   "source": "## 2.2循环",
   "id": "cce555520e816a87"
  },
  {
   "metadata": {},
   "cell_type": "markdown",
   "source": "#### 通过for语句查找100以内所有的素数",
   "id": "cfc86859206bd821"
  },
  {
   "metadata": {
    "ExecuteTime": {
     "end_time": "2025-03-28T01:50:22.969627Z",
     "start_time": "2025-03-28T01:50:22.963885Z"
    }
   },
   "cell_type": "code",
   "source": [
    "def cycle1():\n",
    "    count = 0\n",
    "    for i in range(2, 100):\n",
    "        is_single = True\n",
    "        for j in range(2, i + 1):\n",
    "            if i % j == 0 and j != i:\n",
    "                is_single = False\n",
    "                break\n",
    "        if is_single:\n",
    "            count += 1\n",
    "            print(i)\n",
    "    print('100以内所有的素数有:' + str(count))\n",
    "\n",
    "if __name__ == '__main__':\n",
    "    cycle1()"
   ],
   "id": "d645eff59b53e452",
   "outputs": [
    {
     "name": "stdout",
     "output_type": "stream",
     "text": [
      "2\n",
      "3\n",
      "5\n",
      "7\n",
      "11\n",
      "13\n",
      "17\n",
      "19\n",
      "23\n",
      "29\n",
      "31\n",
      "37\n",
      "41\n",
      "43\n",
      "47\n",
      "53\n",
      "59\n",
      "61\n",
      "67\n",
      "71\n",
      "73\n",
      "79\n",
      "83\n",
      "89\n",
      "97\n",
      "100以内所有的素数有:25\n"
     ]
    }
   ],
   "execution_count": 1
  },
  {
   "metadata": {},
   "cell_type": "markdown",
   "source": "#### 通过while语句查找100以内的所有素数",
   "id": "30b866b270d7eb04"
  },
  {
   "metadata": {
    "ExecuteTime": {
     "end_time": "2025-03-28T01:50:34.220737Z",
     "start_time": "2025-03-28T01:50:34.215194Z"
    }
   },
   "cell_type": "code",
   "source": [
    "def cycle2():\n",
    "    count = 0\n",
    "    i = 2\n",
    "    while i < 100:\n",
    "        is_single = True\n",
    "        for j in range(2, i + 1):\n",
    "            if i % j == 0 and j != i:\n",
    "                is_single = False\n",
    "                break\n",
    "        if is_single:\n",
    "            count += 1\n",
    "            print(i)\n",
    "        i += 1\n",
    "    print('100以内所有的素数有:' + str(count))\n",
    "\n",
    "if __name__ == '__main__':\n",
    "    cycle2()"
   ],
   "id": "69343b1c470ca165",
   "outputs": [
    {
     "name": "stdout",
     "output_type": "stream",
     "text": [
      "2\n",
      "3\n",
      "5\n",
      "7\n",
      "11\n",
      "13\n",
      "17\n",
      "19\n",
      "23\n",
      "29\n",
      "31\n",
      "37\n",
      "41\n",
      "43\n",
      "47\n",
      "53\n",
      "59\n",
      "61\n",
      "67\n",
      "71\n",
      "73\n",
      "79\n",
      "83\n",
      "89\n",
      "97\n",
      "100以内所有的素数有:25\n"
     ]
    }
   ],
   "execution_count": 2
  },
  {
   "metadata": {},
   "cell_type": "markdown",
   "source": "#### 三目表达式",
   "id": "9d0d28ff6603758d"
  },
  {
   "metadata": {
    "ExecuteTime": {
     "end_time": "2025-03-27T15:57:19.585944Z",
     "start_time": "2025-03-27T15:57:12.189753Z"
    }
   },
   "cell_type": "code",
   "source": [
    "def assignment1():\n",
    "    a = int(input('请输入一个数字:'))\n",
    "    b = 10 if a > 10 else a\n",
    "    print(b)\n",
    "    return\n",
    "\n",
    "if __name__ == '__main__':\n",
    "    assignment1()\n"
   ],
   "id": "390fc99b634c64b",
   "outputs": [
    {
     "name": "stdout",
     "output_type": "stream",
     "text": [
      "10\n"
     ]
    }
   ],
   "execution_count": 7
  },
  {
   "metadata": {},
   "cell_type": "code",
   "outputs": [],
   "execution_count": null,
   "source": "",
   "id": "8230ed9be3026f0f"
  }
 ],
 "metadata": {
  "kernelspec": {
   "display_name": "Python 3",
   "language": "python",
   "name": "python3"
  },
  "language_info": {
   "codemirror_mode": {
    "name": "ipython",
    "version": 2
   },
   "file_extension": ".py",
   "mimetype": "text/x-python",
   "name": "python",
   "nbconvert_exporter": "python",
   "pygments_lexer": "ipython2",
   "version": "2.7.6"
  }
 },
 "nbformat": 4,
 "nbformat_minor": 5
}
