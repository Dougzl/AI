{
 "cells": [
  {
   "cell_type": "markdown",
   "id": "cdc0023c9932124",
   "metadata": {},
   "source": [
    "### 1. 位置函数"
   ]
  },
  {
   "cell_type": "code",
   "execution_count": 1,
   "id": "c7a460236be9418e",
   "metadata": {
    "ExecuteTime": {
     "end_time": "2025-03-27T16:05:45.308886Z",
     "start_time": "2025-03-27T16:05:45.304393Z"
    }
   },
   "outputs": [
    {
     "name": "stdout",
     "output_type": "stream",
     "text": [
      "-1\n"
     ]
    }
   ],
   "source": [
    "def minus1(a, b):\n",
    "    return a - b\n",
    "\n",
    "if __name__ == '__main__':\n",
    "    print(minus1(1, 2))"
   ]
  },
  {
   "cell_type": "markdown",
   "id": "73e43aa15b00618e",
   "metadata": {},
   "source": [
    "### 2. 关键字参数"
   ]
  },
  {
   "cell_type": "code",
   "execution_count": 3,
   "id": "e299a08a107e3f52",
   "metadata": {
    "ExecuteTime": {
     "end_time": "2025-03-27T16:07:41.852377Z",
     "start_time": "2025-03-27T16:07:41.848369Z"
    }
   },
   "outputs": [
    {
     "name": "stdout",
     "output_type": "stream",
     "text": [
      "1\n"
     ]
    }
   ],
   "source": [
    "def minus2(a, b):\n",
    "    return a - b\n",
    "\n",
    "if __name__ == '__main__':\n",
    "    print(minus2(b=1, a=2))"
   ]
  },
  {
   "cell_type": "markdown",
   "id": "6f03b73edf7317fd",
   "metadata": {},
   "source": [
    "### 3. 默认参数"
   ]
  },
  {
   "cell_type": "code",
   "execution_count": 4,
   "id": "9fc4e7d42651f290",
   "metadata": {
    "ExecuteTime": {
     "end_time": "2025-03-27T16:09:20.526194Z",
     "start_time": "2025-03-27T16:09:20.521727Z"
    }
   },
   "outputs": [
    {
     "name": "stdout",
     "output_type": "stream",
     "text": [
      "-11\n"
     ]
    }
   ],
   "source": [
    "def minus3(a, b, c=10):\n",
    "    return a - b -c\n",
    "if __name__ == '__main__':\n",
    "    print(minus3(1, b=2))"
   ]
  },
  {
   "cell_type": "markdown",
   "id": "b796e755b628fccb",
   "metadata": {},
   "source": [
    "### 4. 收集参数\n",
    "#### * args 收集的是位置参数\n",
    "#### ** args 收集的是关键字参数"
   ]
  },
  {
   "cell_type": "code",
   "execution_count": 5,
   "id": "d5e5a605b537a3a5",
   "metadata": {
    "ExecuteTime": {
     "end_time": "2025-03-27T16:12:18.690400Z",
     "start_time": "2025-03-27T16:12:18.686507Z"
    }
   },
   "outputs": [
    {
     "name": "stdout",
     "output_type": "stream",
     "text": [
      "add1()调用\n",
      "6\n"
     ]
    }
   ],
   "source": [
    "def add1( * args ):\n",
    "    print('add1()调用')\n",
    "    sum = 0\n",
    "    for arg in args:\n",
    "        sum += arg\n",
    "    print(sum)\n",
    "if __name__ == '__main__':\n",
    "    add1(1, 2, 3)"
   ]
  },
  {
   "cell_type": "code",
   "execution_count": 6,
   "id": "4333a46209ba1429",
   "metadata": {
    "ExecuteTime": {
     "end_time": "2025-03-27T16:16:10.019326Z",
     "start_time": "2025-03-27T16:16:10.015639Z"
    }
   },
   "outputs": [
    {
     "name": "stdout",
     "output_type": "stream",
     "text": [
      "add2()调用\n",
      "dict_keys(['a', 'b', 'c', 'd'])\n",
      "dict_values([1, 3, 5, 20])\n",
      "29\n"
     ]
    }
   ],
   "source": [
    "def add2( ** args ):\n",
    "    print('add2()调用')\n",
    "    sum = 0\n",
    "    print(args.keys())\n",
    "    print(args.values())\n",
    "\n",
    "    for arg in args.values():\n",
    "        sum += arg\n",
    "    return sum\n",
    "\n",
    "if __name__ == '__main__':\n",
    "    print(add2(a=1, b=3, c=5, d=20))"
   ]
  },
  {
   "cell_type": "code",
   "execution_count": null,
   "id": "a0fb1a5c29f23d4",
   "metadata": {},
   "outputs": [],
   "source": []
  }
 ],
 "metadata": {
  "kernelspec": {
   "display_name": "Python 3 (ipykernel)",
   "language": "python",
   "name": "python3"
  },
  "language_info": {
   "codemirror_mode": {
    "name": "ipython",
    "version": 3
   },
   "file_extension": ".py",
   "mimetype": "text/x-python",
   "name": "python",
   "nbconvert_exporter": "python",
   "pygments_lexer": "ipython3",
   "version": "3.12.7"
  }
 },
 "nbformat": 4,
 "nbformat_minor": 5
}
