{
 "cells": [
  {
   "metadata": {},
   "cell_type": "markdown",
   "source": "## 3.1.1 简单的 +-*/",
   "id": "5cabd434ef14b289"
  },
  {
   "metadata": {
    "ExecuteTime": {
     "end_time": "2025-03-28T15:05:10.842836Z",
     "start_time": "2025-03-28T15:05:10.834544Z"
    }
   },
   "cell_type": "code",
   "source": "110 + 200",
   "id": "af4f3be14b67a866",
   "outputs": [
    {
     "data": {
      "text/plain": [
       "310"
      ]
     },
     "execution_count": 1,
     "metadata": {},
     "output_type": "execute_result"
    }
   ],
   "execution_count": 1
  },
  {
   "metadata": {
    "ExecuteTime": {
     "end_time": "2025-03-28T15:05:25.518536Z",
     "start_time": "2025-03-28T15:05:25.512282Z"
    }
   },
   "cell_type": "code",
   "source": "'hello' + 'world'",
   "id": "13584805ebb43735",
   "outputs": [
    {
     "data": {
      "text/plain": [
       "'helloworld'"
      ]
     },
     "execution_count": 2,
     "metadata": {},
     "output_type": "execute_result"
    }
   ],
   "execution_count": 2
  },
  {
   "metadata": {
    "ExecuteTime": {
     "end_time": "2025-03-28T15:05:43.749440Z",
     "start_time": "2025-03-28T15:05:43.745072Z"
    }
   },
   "cell_type": "code",
   "source": "2020 - -1",
   "id": "5fb9b320c79caf17",
   "outputs": [
    {
     "data": {
      "text/plain": [
       "2021"
      ]
     },
     "execution_count": 3,
     "metadata": {},
     "output_type": "execute_result"
    }
   ],
   "execution_count": 3
  },
  {
   "metadata": {
    "ExecuteTime": {
     "end_time": "2025-03-28T15:05:51.142043Z",
     "start_time": "2025-03-28T15:05:51.136858Z"
    }
   },
   "cell_type": "code",
   "source": "20 * 30",
   "id": "4ab09986f3e6e897",
   "outputs": [
    {
     "data": {
      "text/plain": [
       "600"
      ]
     },
     "execution_count": 4,
     "metadata": {},
     "output_type": "execute_result"
    }
   ],
   "execution_count": 4
  },
  {
   "metadata": {
    "ExecuteTime": {
     "end_time": "2025-03-28T15:05:59.561914Z",
     "start_time": "2025-03-28T15:05:59.556878Z"
    }
   },
   "cell_type": "code",
   "source": "5 * 'hello_'",
   "id": "ab10d239df276999",
   "outputs": [
    {
     "data": {
      "text/plain": [
       "'hello_hello_hello_hello_hello_'"
      ]
     },
     "execution_count": 5,
     "metadata": {},
     "output_type": "execute_result"
    }
   ],
   "execution_count": 5
  },
  {
   "metadata": {
    "ExecuteTime": {
     "end_time": "2025-03-28T15:06:06.063541Z",
     "start_time": "2025-03-28T15:06:06.056548Z"
    }
   },
   "cell_type": "code",
   "source": "2020/5",
   "id": "71fc6c462ba9e798",
   "outputs": [
    {
     "data": {
      "text/plain": [
       "404.0"
      ]
     },
     "execution_count": 6,
     "metadata": {},
     "output_type": "execute_result"
    }
   ],
   "execution_count": 6
  },
  {
   "metadata": {},
   "cell_type": "markdown",
   "source": "#### // 表示两个数字的取整除, 通过 '//' 得到的为向下取整的整数",
   "id": "a3422f43774fc63c"
  },
  {
   "metadata": {
    "ExecuteTime": {
     "end_time": "2025-03-28T15:07:07.090212Z",
     "start_time": "2025-03-28T15:07:07.085810Z"
    }
   },
   "cell_type": "code",
   "source": "2020 // 5",
   "id": "3aab79fe2e524c66",
   "outputs": [
    {
     "data": {
      "text/plain": [
       "404"
      ]
     },
     "execution_count": 7,
     "metadata": {},
     "output_type": "execute_result"
    }
   ],
   "execution_count": 7
  },
  {
   "metadata": {
    "ExecuteTime": {
     "end_time": "2025-03-28T15:07:13.065855Z",
     "start_time": "2025-03-28T15:07:13.061019Z"
    }
   },
   "cell_type": "code",
   "source": "2020 // 6",
   "id": "60a3fa305adf314b",
   "outputs": [
    {
     "data": {
      "text/plain": [
       "336"
      ]
     },
     "execution_count": 8,
     "metadata": {},
     "output_type": "execute_result"
    }
   ],
   "execution_count": 8
  },
  {
   "metadata": {},
   "cell_type": "markdown",
   "source": "#### % 是取余数",
   "id": "235ffa7126c7e24a"
  },
  {
   "metadata": {
    "ExecuteTime": {
     "end_time": "2025-03-28T15:07:50.498546Z",
     "start_time": "2025-03-28T15:07:50.492908Z"
    }
   },
   "cell_type": "code",
   "source": "2020 % 6",
   "id": "2ee649af10e83a14",
   "outputs": [
    {
     "data": {
      "text/plain": [
       "4"
      ]
     },
     "execution_count": 10,
     "metadata": {},
     "output_type": "execute_result"
    }
   ],
   "execution_count": 10
  },
  {
   "metadata": {},
   "cell_type": "markdown",
   "source": "#### \"**\" 是幂运算操作符",
   "id": "55d57028609efb7f"
  },
  {
   "metadata": {
    "ExecuteTime": {
     "end_time": "2025-03-28T15:08:33.255434Z",
     "start_time": "2025-03-28T15:08:33.250424Z"
    }
   },
   "cell_type": "code",
   "source": "50 ** 4",
   "id": "8065ace945d7cbf7",
   "outputs": [
    {
     "data": {
      "text/plain": [
       "6250000"
      ]
     },
     "execution_count": 11,
     "metadata": {},
     "output_type": "execute_result"
    }
   ],
   "execution_count": 11
  },
  {
   "metadata": {},
   "cell_type": "markdown",
   "source": "## 3.1.2 比较运算",
   "id": "1c23aa15b49da05d"
  },
  {
   "metadata": {},
   "cell_type": "markdown",
   "source": [
    "#### == 等于\n",
    "#### != 不等于\n",
    "#### <> 不等于\n",
    "#### > 大于\n",
    "#### < 小于\n",
    "#### >= 大于等于\n",
    "#### <= 小于等于"
   ],
   "id": "181e6b750463f4c0"
  },
  {
   "metadata": {},
   "cell_type": "markdown",
   "source": "## 3.1.3 赋值运算",
   "id": "1fbd23ebca6a73fd"
  },
  {
   "metadata": {},
   "cell_type": "markdown",
   "source": [
    "#### = 赋值\n",
    "#### += 加法赋值\n",
    "#### -= 减法赋值\n",
    "#### *= 乘法赋值\n",
    "#### /= 除法赋值\n",
    "#### //= 取整除赋值\n",
    "#### %= 取余赋值\n",
    "#### **= 幂赋值"
   ],
   "id": "73491170bce850ba"
  },
  {
   "metadata": {},
   "cell_type": "markdown",
   "source": "## 3.1.4 逻辑运算",
   "id": "799d9b302397f6e2"
  },
  {
   "metadata": {},
   "cell_type": "markdown",
   "source": [
    "#### and 逻辑与\n",
    "#### or 逻辑或\n",
    "#### not 逻辑非"
   ],
   "id": "dde6f89bae021fff"
  },
  {
   "metadata": {},
   "cell_type": "markdown",
   "source": "## 3.1.5 成员运算",
   "id": "8c7ea6ad5136ed9b"
  },
  {
   "metadata": {},
   "cell_type": "markdown",
   "source": [
    "#### in 在可迭代的对象中找到则为 True\n",
    "#### not in 不在可迭代的对象中找到则为 True"
   ],
   "id": "f2f0947953a934b4"
  },
  {
   "metadata": {},
   "cell_type": "markdown",
   "source": "## 3.1.6 计算实例",
   "id": "2b5f1ecb5b0b3c0c"
  },
  {
   "metadata": {},
   "cell_type": "markdown",
   "source": "#### 求 \"鞍点\"",
   "id": "2b90c58aafe9db10"
  },
  {
   "metadata": {
    "ExecuteTime": {
     "end_time": "2025-03-28T15:26:04.250048Z",
     "start_time": "2025-03-28T15:25:35.893366Z"
    }
   },
   "cell_type": "code",
   "source": [
    "n = int(input())\n",
    "a = []\n",
    "for i in range(n):\n",
    "    a.append(list(map(int, input().split())))\n",
    "max_index_list = []\n",
    "for i in range(n):\n",
    "    for j in range(n):\n",
    "        if a[i][j] == max(a[i]):\n",
    "            max_index_list.append([i, j])\n",
    "t = False\n",
    "for i in max_index_list:\n",
    "    temp = a[0][i[1]]\n",
    "    for j in range(n):\n",
    "        if temp > a[j][i[1]]:\n",
    "            temp = a[j][i[1]]\n",
    "    if temp == a[i[0]][i[1]]:\n",
    "        print(i[0], i[1])\n",
    "        t = True\n",
    "if t == False:\n",
    "    print('NONE')"
   ],
   "id": "690b232915480f26",
   "outputs": [
    {
     "name": "stdout",
     "output_type": "stream",
     "text": [
      "0 2\n"
     ]
    }
   ],
   "execution_count": 17
  },
  {
   "metadata": {
    "ExecuteTime": {
     "end_time": "2025-03-28T15:29:36.934677Z",
     "start_time": "2025-03-28T15:29:14.610918Z"
    }
   },
   "cell_type": "code",
   "source": [
    "import numpy as np\n",
    "\n",
    "n = int(input())\n",
    "a = []\n",
    "for i in range(n):\n",
    "    a.append(list(map(int, input().split())))\n",
    "a = np.array(a)\n",
    "t = False\n",
    "max_columIndex = a.argmax(axis = 1)\n",
    "for row, col in enumerate(max_columIndex):\n",
    "    if row == a[:, col].argmin():\n",
    "        print(row, col)\n",
    "        t = True\n",
    "if t == False:\n",
    "    print('NONE')\n"
   ],
   "id": "58a9c1e4c66664a2",
   "outputs": [
    {
     "name": "stdout",
     "output_type": "stream",
     "text": [
      "0 2\n"
     ]
    }
   ],
   "execution_count": 19
  },
  {
   "metadata": {
    "jupyter": {
     "is_executing": true
    }
   },
   "cell_type": "code",
   "source": [
    "features = ['height', 'income', 'looks']\n",
    "df_train = {}"
   ],
   "id": "277b33ff7a59195f",
   "outputs": [],
   "execution_count": null
  },
  {
   "metadata": {},
   "cell_type": "code",
   "outputs": [],
   "execution_count": null,
   "source": "",
   "id": "103efad106572a9f"
  }
 ],
 "metadata": {
  "kernelspec": {
   "display_name": "Python 3",
   "language": "python",
   "name": "python3"
  },
  "language_info": {
   "codemirror_mode": {
    "name": "ipython",
    "version": 2
   },
   "file_extension": ".py",
   "mimetype": "text/x-python",
   "name": "python",
   "nbconvert_exporter": "python",
   "pygments_lexer": "ipython2",
   "version": "2.7.6"
  }
 },
 "nbformat": 4,
 "nbformat_minor": 5
}
