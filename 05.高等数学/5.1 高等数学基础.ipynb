{
 "cells": [
  {
   "metadata": {},
   "cell_type": "markdown",
   "source": [
    "## 函数\n",
    "### 函数的定义"
   ],
   "id": "60924c3e99971b55"
  },
  {
   "metadata": {},
   "cell_type": "markdown",
   "source": "## 极限",
   "id": "f8701f27488bbcd9"
  },
  {
   "metadata": {},
   "cell_type": "markdown",
   "source": "#### 使用Python 编程求 $$ \\lim_{x \\to oo} \\frac{ sin x } { x } $$",
   "id": "9a7767d15cfa2c53"
  },
  {
   "metadata": {
    "ExecuteTime": {
     "end_time": "2025-04-07T13:24:15.076747Z",
     "start_time": "2025-04-07T13:24:11.817190Z"
    }
   },
   "cell_type": "code",
   "source": [
    "import sympy\n",
    "from sympy import oo\n",
    "import numpy as np\n",
    "\n",
    "x = sympy.Symbol('x')\n",
    "f = sympy.sin(x)/x\n",
    "sympy.limit(f, x, oo)"
   ],
   "id": "53ec0c709e90d21c",
   "outputs": [
    {
     "data": {
      "text/plain": [
       "0"
      ],
      "text/latex": "$\\displaystyle 0$"
     },
     "execution_count": 2,
     "metadata": {},
     "output_type": "execute_result"
    }
   ],
   "execution_count": 2
  },
  {
   "metadata": {},
   "cell_type": "markdown",
   "source": "#### 使用Python编程求 $$ \\lim_{x \\to 1} \\frac{ x^{2}-1 } { x - 1 } $$",
   "id": "f503142c3f3a16bd"
  },
  {
   "metadata": {
    "ExecuteTime": {
     "end_time": "2025-04-07T13:27:16.587099Z",
     "start_time": "2025-04-07T13:27:16.565575Z"
    }
   },
   "cell_type": "code",
   "source": [
    "x = sympy.Symbol('x')\n",
    "f = (x**2 - 1)/(x - 1)\n",
    "sympy.limit(f, x, 1)"
   ],
   "id": "cba7230fa7bb7637",
   "outputs": [
    {
     "data": {
      "text/plain": [
       "2"
      ],
      "text/latex": "$\\displaystyle 2$"
     },
     "execution_count": 4,
     "metadata": {},
     "output_type": "execute_result"
    }
   ],
   "execution_count": 4
  },
  {
   "metadata": {},
   "cell_type": "markdown",
   "source": "## 连续性与导数",
   "id": "b7f57df45c05a1a1"
  }
 ],
 "metadata": {
  "kernelspec": {
   "display_name": "Python 3",
   "language": "python",
   "name": "python3"
  },
  "language_info": {
   "codemirror_mode": {
    "name": "ipython",
    "version": 2
   },
   "file_extension": ".py",
   "mimetype": "text/x-python",
   "name": "python",
   "nbconvert_exporter": "python",
   "pygments_lexer": "ipython2",
   "version": "2.7.6"
  }
 },
 "nbformat": 4,
 "nbformat_minor": 5
}
