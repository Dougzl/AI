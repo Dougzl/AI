{
 "cells": [
  {
   "metadata": {
    "ExecuteTime": {
     "end_time": "2024-07-14T03:01:11.708138Z",
     "start_time": "2024-07-14T03:01:06.433468Z"
    }
   },
   "cell_type": "code",
   "source": [
    "TemStr = input(\"请输入带有符号的温度值：\")\n",
    "\n",
    "if TemStr[-1] in ['F', 'f']:\n",
    "    C = (eval(TemStr[0:-1]) - 32) / 1.8\n",
    "    print(\"转换后的温度是{:.2f}C\".format(C))\n",
    "elif TemStr[-1] in ['C', 'c']:\n",
    "    F = eval(TemStr[0:-1]) * 1.8 + 32\n",
    "    print(\"转换后的温度是{:.2f}F\".format(F))\n",
    "else:\n",
    "    print(\"输入的格式错误\")"
   ],
   "id": "21878d7ab8524133",
   "outputs": [
    {
     "name": "stdout",
     "output_type": "stream",
     "text": [
      "转换后的温度是0.56C\n"
     ]
    }
   ],
   "execution_count": 1
  },
  {
   "metadata": {
    "ExecuteTime": {
     "end_time": "2024-07-14T03:50:23.026294Z",
     "start_time": "2024-07-14T03:50:22.994461Z"
    }
   },
   "cell_type": "code",
   "source": [
    "import turtle\n",
    "turtle.setup(650, 350, 200, 200)\n",
    "turtle.penup()\n",
    "turtle.bk(300)\n",
    "turtle.seth(-90)\n",
    "turtle.fd(150)\n",
    "turtle.pendown()\n",
    "turtle.pensize(5)\n",
    "turtle.pencolor(\"purple\")\n",
    "turtle.seth(90)\n",
    "for i in range(20):\n",
    "    turtle.circle(-i, i*10)\n",
    "    turtle.circle(i, i*10)\n",
    "turtle.circle(40, 80/2)\n",
    "turtle.fd(40)\n",
    "turtle.circle(6, 180)\n",
    "turtle.fd(40 * 2/3)\n",
    "turtle.done()"
   ],
   "id": "6145f554c776dba9",
   "outputs": [
    {
     "ename": "Terminator",
     "evalue": "",
     "output_type": "error",
     "traceback": [
      "\u001B[1;31m---------------------------------------------------------------------------\u001B[0m",
      "\u001B[1;31mTerminator\u001B[0m                                Traceback (most recent call last)",
      "Cell \u001B[1;32mIn[10], line 2\u001B[0m\n\u001B[0;32m      1\u001B[0m \u001B[38;5;28;01mimport\u001B[39;00m \u001B[38;5;21;01mturtle\u001B[39;00m\n\u001B[1;32m----> 2\u001B[0m \u001B[43mturtle\u001B[49m\u001B[38;5;241;43m.\u001B[39;49m\u001B[43msetup\u001B[49m\u001B[43m(\u001B[49m\u001B[38;5;241;43m650\u001B[39;49m\u001B[43m,\u001B[49m\u001B[43m \u001B[49m\u001B[38;5;241;43m350\u001B[39;49m\u001B[43m,\u001B[49m\u001B[43m \u001B[49m\u001B[38;5;241;43m200\u001B[39;49m\u001B[43m,\u001B[49m\u001B[43m \u001B[49m\u001B[38;5;241;43m200\u001B[39;49m\u001B[43m)\u001B[49m\n\u001B[0;32m      3\u001B[0m turtle\u001B[38;5;241m.\u001B[39mpenup()\n\u001B[0;32m      4\u001B[0m turtle\u001B[38;5;241m.\u001B[39mbk(\u001B[38;5;241m300\u001B[39m)\n",
      "File \u001B[1;32m<string>:5\u001B[0m, in \u001B[0;36msetup\u001B[1;34m(width, height, startx, starty)\u001B[0m\n",
      "\u001B[1;31mTerminator\u001B[0m: "
     ]
    }
   ],
   "execution_count": 10
  },
  {
   "metadata": {
    "ExecuteTime": {
     "end_time": "2024-07-14T03:51:30.661215Z",
     "start_time": "2024-07-14T03:51:27.411858Z"
    }
   },
   "cell_type": "code",
   "source": [
    "turtle.setup(650, 450, 200, 200)\n",
    "turtle.penup()\n",
    "turtle.pendown()\n",
    "turtle.pensize(15)\n",
    "turtle.pencolor('pink')\n",
    "turtle.left(45)\n",
    "turtle.fd(150)\n",
    "turtle.right(135)\n",
    "turtle.fd(300)\n",
    "turtle.left(135)\n",
    "turtle.fd(150)\n",
    "turtle.done()"
   ],
   "id": "45d19784d2693c36",
   "outputs": [],
   "execution_count": 17
  },
  {
   "metadata": {
    "ExecuteTime": {
     "end_time": "2024-07-14T03:56:14.370269Z",
     "start_time": "2024-07-14T03:55:47.089472Z"
    }
   },
   "cell_type": "code",
   "source": [
    "turtle.setup(650, 450, 100, 100)\n",
    "turtle.penup()\n",
    "turtle.pendown()\n",
    "turtle.pensize(5)\n",
    "turtle.pencolor('pink')\n",
    "for i in range(36):\n",
    "    turtle.circle(100, 10)\n",
    "turtle.done()\n"
   ],
   "id": "faafdb72ef6b589b",
   "outputs": [],
   "execution_count": 30
  },
  {
   "metadata": {
    "ExecuteTime": {
     "end_time": "2024-07-14T03:58:04.249454Z",
     "start_time": "2024-07-14T03:58:04.224740Z"
    }
   },
   "cell_type": "code",
   "source": [
    "def draw_snake(rad, angle, length, neckrad):\n",
    "    for i in range(length):\n",
    "        turtle.circle(rad, angle)\n",
    "        turtle.circle(-rad, angle)\n",
    "    turtle.circle(rad, angle/2)\n",
    "    turtle.forward(rad)\n",
    "    turtle.circle(neckrad+1, 180)\n",
    "    turtle.forward(rad*2/3)\n",
    "\n",
    "# 初始化 Turtle 环境\n",
    "turtle.setup(800, 600)\n",
    "turtle.penup()\n",
    "turtle.goto(-250, 0)\n",
    "turtle.pendown()\n",
    "turtle.pensize(25)\n",
    "turtle.pencolor(\"green\")\n",
    "\n",
    "# 画蟒蛇\n",
    "draw_snake(40, 80, 5, 15)\n",
    "\n",
    "# 完成绘图\n",
    "turtle.done()\n"
   ],
   "id": "f1cac9d97866f2b6",
   "outputs": [
    {
     "ename": "Terminator",
     "evalue": "",
     "output_type": "error",
     "traceback": [
      "\u001B[1;31m---------------------------------------------------------------------------\u001B[0m",
      "\u001B[1;31mTerminator\u001B[0m                                Traceback (most recent call last)",
      "Cell \u001B[1;32mIn[31], line 11\u001B[0m\n\u001B[0;32m      8\u001B[0m     turtle\u001B[38;5;241m.\u001B[39mforward(rad\u001B[38;5;241m*\u001B[39m\u001B[38;5;241m2\u001B[39m\u001B[38;5;241m/\u001B[39m\u001B[38;5;241m3\u001B[39m)\n\u001B[0;32m     10\u001B[0m \u001B[38;5;66;03m# 初始化 Turtle 环境\u001B[39;00m\n\u001B[1;32m---> 11\u001B[0m \u001B[43mturtle\u001B[49m\u001B[38;5;241;43m.\u001B[39;49m\u001B[43msetup\u001B[49m\u001B[43m(\u001B[49m\u001B[38;5;241;43m800\u001B[39;49m\u001B[43m,\u001B[49m\u001B[43m \u001B[49m\u001B[38;5;241;43m600\u001B[39;49m\u001B[43m)\u001B[49m\n\u001B[0;32m     12\u001B[0m turtle\u001B[38;5;241m.\u001B[39mpenup()\n\u001B[0;32m     13\u001B[0m turtle\u001B[38;5;241m.\u001B[39mgoto(\u001B[38;5;241m-\u001B[39m\u001B[38;5;241m250\u001B[39m, \u001B[38;5;241m0\u001B[39m)\n",
      "File \u001B[1;32m<string>:5\u001B[0m, in \u001B[0;36msetup\u001B[1;34m(width, height, startx, starty)\u001B[0m\n",
      "\u001B[1;31mTerminator\u001B[0m: "
     ]
    }
   ],
   "execution_count": 31
  },
  {
   "metadata": {
    "ExecuteTime": {
     "end_time": "2024-07-14T04:06:25.775649Z",
     "start_time": "2024-07-14T04:04:58.470118Z"
    }
   },
   "cell_type": "code",
   "source": [
    "import turtle as t\n",
    "\n",
    "def draw_circle(x, y, radius, color):\n",
    "    \"\"\"Helper function to draw a filled circle\"\"\"\n",
    "    t.penup()\n",
    "    t.goto(x, y - radius)\n",
    "    t.pendown()\n",
    "    t.color(color)\n",
    "    t.begin_fill()\n",
    "    t.circle(radius)\n",
    "    t.end_fill()\n",
    "\n",
    "def draw_face():\n",
    "    \"\"\"Draw Sun Wukong's face\"\"\"\n",
    "    draw_circle(0, 0, 100, \"gold\")\n",
    "\n",
    "def draw_eyes():\n",
    "    \"\"\"Draw Sun Wukong's eyes\"\"\"\n",
    "    draw_circle(-35, 30, 15, \"white\")\n",
    "    draw_circle(35, 30, 15, \"white\")\n",
    "    draw_circle(-35, 30, 7, \"black\")\n",
    "    draw_circle(35, 30, 7, \"black\")\n",
    "\n",
    "def draw_ears():\n",
    "    \"\"\"Draw Sun Wukong's ears\"\"\"\n",
    "    t.penup()\n",
    "    t.goto(-70, 50)\n",
    "    t.pendown()\n",
    "    t.setheading(90)\n",
    "    t.circle(30, 180)\n",
    "    t.penup()\n",
    "    t.goto(70, 50)\n",
    "    t.pendown()\n",
    "    t.setheading(90)\n",
    "    t.circle(-30, 180)\n",
    "\n",
    "def draw_mouth():\n",
    "    \"\"\"Draw Sun Wukong's mouth\"\"\"\n",
    "    t.penup()\n",
    "    t.goto(-40, -40)\n",
    "    t.setheading(-60)\n",
    "    t.pendown()\n",
    "    t.circle(40, 120)\n",
    "\n",
    "def draw_headband():\n",
    "    \"\"\"Draw Sun Wukong's headband\"\"\"\n",
    "    t.penup()\n",
    "    t.goto(-70, 60)\n",
    "    t.setheading(0)\n",
    "    t.pendown()\n",
    "    t.color(\"red\")\n",
    "    t.pensize(10)\n",
    "    t.forward(140)\n",
    "\n",
    "def setup():\n",
    "    \"\"\"Setup the turtle environment\"\"\"\n",
    "    t.speed(5)\n",
    "    t.hideturtle()\n",
    "    t.colormode(255)\n",
    "\n",
    "def main():\n",
    "    \"\"\"Main function to draw Sun Wukong\"\"\"\n",
    "    setup()\n",
    "    draw_face()\n",
    "    draw_eyes()\n",
    "    draw_ears()\n",
    "    draw_mouth()\n",
    "    draw_headband()\n",
    "    t.done()\n",
    "\n",
    "if __name__ == '__main__':\n",
    "    main()\n"
   ],
   "id": "6a2843f81b8adeec",
   "outputs": [],
   "execution_count": 40
  }
 ],
 "metadata": {
  "kernelspec": {
   "display_name": "Python 3",
   "language": "python",
   "name": "python3"
  },
  "language_info": {
   "codemirror_mode": {
    "name": "ipython",
    "version": 2
   },
   "file_extension": ".py",
   "mimetype": "text/x-python",
   "name": "python",
   "nbconvert_exporter": "python",
   "pygments_lexer": "ipython2",
   "version": "2.7.6"
  }
 },
 "nbformat": 4,
 "nbformat_minor": 5
}
