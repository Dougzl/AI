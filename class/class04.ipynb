{
 "cells": [
  {
   "metadata": {},
   "cell_type": "markdown",
   "source": "# 程序的分支结构",
   "id": "c4b83d253469c5e0"
  },
  {
   "metadata": {},
   "cell_type": "code",
   "source": [
    "score = eval(input())\n",
    "\n",
    "if score >= 60:\n",
    "    grade = \"D\"\n",
    "elif score >= 70:\n",
    "    grade = \"C\"\n",
    "elif score >= 80:\n",
    "    grade = \"B\"\n",
    "elif score >= 90:\n",
    "    grade = \"A\"\n",
    "\n",
    "print(\"输入成绩属于级别{}\".format(grade)) "
   ],
   "id": "4ccf7c23c8bebe23",
   "outputs": [],
   "execution_count": null
  },
  {
   "metadata": {},
   "cell_type": "code",
   "source": [
    "score = eval(input())\n",
    "\n",
    "if score >= 90:\n",
    "    grade = \"A\"\n",
    "elif score >= 80:\n",
    "    grade = \"B\"\n",
    "elif score >= 70:\n",
    "    grade = \"C\"\n",
    "elif score >= 60:\n",
    "    grade = \"D\"\n",
    "else:\n",
    "    grade = \"E\"\n",
    "\n",
    "print(\"输入成绩属于级别{}\".format(grade)) "
   ],
   "id": "e24aee9b6cdc354f",
   "outputs": [],
   "execution_count": null
  },
  {
   "metadata": {},
   "cell_type": "code",
   "source": [
    "def multi():\n",
    "    num = eval(input(\"请输入一个整数：\"))\n",
    "    print(num**2)\n",
    "    \n",
    "multi()"
   ],
   "id": "b6d9519a4a85e0c9",
   "outputs": [],
   "execution_count": null
  },
  {
   "metadata": {},
   "cell_type": "code",
   "source": [
    "try:\n",
    "    multi()\n",
    "except NameError:\n",
    "    print('请输入整数')\n",
    "    multi()\n"
   ],
   "id": "da0e36cede2d643b",
   "outputs": [],
   "execution_count": null
  },
  {
   "metadata": {},
   "cell_type": "markdown",
   "source": "### 身体质量指标 BMI",
   "id": "44307bf9c63995d9"
  },
  {
   "metadata": {},
   "cell_type": "code",
   "source": [
    "height, weight = eval(input(\"请输入身高（米）和体重（公斤）[逗号隔开]:\"))\n",
    "bmi = weight / pow(height, 2)\n",
    "print(\"BMI 数值为：{:.2f}\".format(bmi))\n",
    "\n",
    "who = \"\"\n",
    "if bmi < 18.5:\n",
    "    who = \"偏瘦\"\n",
    "elif bmi < 25:\n",
    "    who = \"正常\"\n",
    "elif bmi < 30:\n",
    "    who = \"偏胖\"\n",
    "else:\n",
    "    who = \"肥胖\"\n",
    "    \n",
    "print(\"BMI指标为：国际'{0}'\".format(who))"
   ],
   "id": "9e9e97c140afc410",
   "outputs": [],
   "execution_count": null
  },
  {
   "metadata": {},
   "cell_type": "code",
   "source": [
    "height, weight = eval(input(\"请输入身高（米）和体重（公斤）[逗号隔开]:\"))\n",
    "bmi = weight / pow(height, 2)\n",
    "print(\"BMI 数值为：{:.2f}\".format(bmi))\n",
    "\n",
    "who, nat = \"\", \"\"\n",
    "if bmi < 18.5:\n",
    "    who, nat = \"偏瘦\", \"偏瘦\"\n",
    "elif bmi < 24:\n",
    "    who, nat = \"正常\", \"正常\"\n",
    "elif bmi < 25:\n",
    "    who, nat = \"正常\", \"偏胖\"\n",
    "elif bmi < 28:\n",
    "    who, nat = \"偏胖\", \"偏胖\"\n",
    "elif bmi < 30:\n",
    "    who, nat = \"偏胖\", \"肥胖\"\n",
    "else:\n",
    "    who, nat = \"肥胖\", \"肥胖\"\n",
    "\n",
    "print(\"BMI指标为：国际'{0}', 国内'{0}'\".format(who, nat))"
   ],
   "id": "622e5867db408d3f",
   "outputs": [],
   "execution_count": null
  },
  {
   "metadata": {},
   "cell_type": "code",
   "source": [
    "for i in range(1, 10):\n",
    "    for j in range(1, i + 1):\n",
    "        print(f\"{j}x{i}={i*j}\", end=\"\\t\")\n",
    "    print(\"\\n\")"
   ],
   "id": "cf9a0ac7e2751b4d",
   "outputs": [],
   "execution_count": null
  },
  {
   "metadata": {},
   "cell_type": "code",
   "source": [
    "for i in range(1, 10):\n",
    "    for j in range(1, i + 1):\n",
    "        for k in range(1, j + 1):\n",
    "            print(f\"{k}x{j}x{i}={i*j*k}\", end=\"\\t\")\n",
    "    print(\"\\n\")"
   ],
   "id": "a3be529785019ba",
   "outputs": [],
   "execution_count": null
  },
  {
   "metadata": {},
   "cell_type": "code",
   "source": [
    "while False:\n",
    "    print('ddd')"
   ],
   "id": "3f33320b123f6e53",
   "outputs": [],
   "execution_count": null
  },
  {
   "metadata": {
    "ExecuteTime": {
     "end_time": "2024-07-20T03:31:07.633657Z",
     "start_time": "2024-07-20T03:31:07.617127Z"
    }
   },
   "cell_type": "code",
   "source": [
    "pi = 0\n",
    "N = 100\n",
    "\n",
    "for k in range(N):\n",
    "    pi += 1/pow(16, k) * (4/(8 * k + 1) - 2/(8 * k + 4) - 1/(8 * k + 5) - 1/(8 * k +6))\n",
    "    \n",
    "print(\"圆周率 π的值是： {}\", pi)"
   ],
   "id": "d233a64b5c6319b5",
   "outputs": [
    {
     "name": "stdout",
     "output_type": "stream",
     "text": [
      "圆周率 π的值是： {} 3.141592653589793\n"
     ]
    }
   ],
   "execution_count": 48
  },
  {
   "metadata": {
    "ExecuteTime": {
     "end_time": "2024-07-20T07:00:02.565596Z",
     "start_time": "2024-07-20T06:59:57.769123Z"
    }
   },
   "cell_type": "code",
   "source": [
    "from random import random\n",
    "from time import perf_counter\n",
    "\n",
    "DARTS = 1000*10000\n",
    "hits = 0.0\n",
    "\n",
    "start = perf_counter()\n",
    "\n",
    "for i in range(1, DARTS + 1):\n",
    "    x,y = random(), random()\n",
    "    dist = pow(x**2 + y**2, 0.5)\n",
    "    if dist <= 1.0:\n",
    "        hits += 1\n",
    "        \n",
    "pi = 4 * (hits/DARTS)\n",
    "print(\"圆周率 π的值是： {}\".format(pi))\n",
    "print(\"运行时间是:{:.5f}s\".format(perf_counter() - start))"
   ],
   "id": "866362c81c38daff",
   "outputs": [
    {
     "name": "stdout",
     "output_type": "stream",
     "text": [
      "圆周率 π的值是： 3.142066\n",
      "运行时间是:4.78376s\n"
     ]
    }
   ],
   "execution_count": 57
  },
  {
   "metadata": {
    "ExecuteTime": {
     "end_time": "2024-07-20T08:58:54.313224Z",
     "start_time": "2024-07-20T08:57:16.933226Z"
    }
   },
   "cell_type": "code",
   "source": [
    "import turtle as t\n",
    "import time\n",
    "\n",
    "def drawGap():\n",
    "    t.penup()\n",
    "    t.fd(5)\n",
    "\n",
    "def drawLine(draw):\n",
    "    drawGap()\n",
    "    t.pendown() if draw else t.penup()\n",
    "    t.fd(40)\n",
    "    drawGap()\n",
    "    t.right(90)\n",
    "    \n",
    "def drawDigit(digit):\n",
    "    drawLine(True) if digit in [2, 3, 4, 5, 6, 8, 9] else drawLine(False)\n",
    "    drawLine(True) if digit in [0, 1, 3, 4, 5, 6, 7, 8, 9] else drawLine(False)\n",
    "    drawLine(True) if digit in [0, 2, 3, 5, 6, 8, 9] else drawLine(False)\n",
    "    drawLine(True) if digit in [0, 2, 6, 8] else drawLine(False)\n",
    "    t.left(90)\n",
    "    drawLine(True) if digit in [0, 4, 5, 6, 8, 9] else drawLine(False)\n",
    "    drawLine(True) if digit in [0, 2, 3, 5, 6, 7, 8, 9] else drawLine(False)\n",
    "    drawLine(True) if digit in [0, 1, 2, 3, 4, 7, 8, 9] else drawLine(False)\n",
    "    t.left(180)\n",
    "    t.penup()\n",
    "    t.fd(20)\n",
    "    \n",
    "def drawDate(date):\n",
    "    for i in date:\n",
    "        if i.isdigit():\n",
    "            drawDigit(eval(i))\n",
    "        else:\n",
    "            t.pencolor('red')\n",
    "            t.write(i, font=('Arial', 18, 'normal'))\n",
    "            t.pencolor('black')\n",
    "            t.fd(40)\n",
    "    \n",
    "def main(): \n",
    "    t.setup(1500, 350, 200, 200)\n",
    "    t.penup()\n",
    "    t.fd(-630)\n",
    "    t.pensize(5)\n",
    "    drawDate(time.strftime(\"%Y年%m月%d日 %H时%M分%S秒\", time.localtime()))\n",
    "    t.hideturtle()\n",
    "    t.done()\n",
    "    \n",
    "main()\n"
   ],
   "id": "2eae810ec31b55b",
   "outputs": [],
   "execution_count": 10
  },
  {
   "metadata": {
    "jupyter": {
     "is_executing": true
    }
   },
   "cell_type": "code",
   "source": [
    "def factorial(num):\n",
    "    if num <= 2:\n",
    "        return 2 * 1\n",
    "    else:\n",
    "        return factorial(num - 1) * num\n",
    "    \n",
    "print(\"{}的阶乘为:{}\".format(10, factorial(10)))\n",
    "        "
   ],
   "id": "917bce99d45b6a9a",
   "outputs": [],
   "execution_count": null
  },
  {
   "metadata": {
    "ExecuteTime": {
     "end_time": "2024-07-20T09:29:35.740044Z",
     "start_time": "2024-07-20T09:29:35.733008Z"
    }
   },
   "cell_type": "code",
   "source": [
    "def fibonacci(num):\n",
    "    if num <=2:\n",
    "        return 1\n",
    "    else:\n",
    "        return fibonacci(num - 1) + fibonacci(num - 2)\n",
    "\n",
    "for i in range(1, 21):\n",
    "    print(\"{}的斐波那契数列为:{}\".format(i, fibonacci(i)))"
   ],
   "id": "96e5e91c7c9ffd01",
   "outputs": [
    {
     "name": "stdout",
     "output_type": "stream",
     "text": [
      "1的斐波那契数列为:1\n",
      "2的斐波那契数列为:1\n",
      "3的斐波那契数列为:2\n",
      "4的斐波那契数列为:3\n",
      "5的斐波那契数列为:5\n",
      "6的斐波那契数列为:8\n",
      "7的斐波那契数列为:13\n",
      "8的斐波那契数列为:21\n",
      "9的斐波那契数列为:34\n",
      "10的斐波那契数列为:55\n",
      "11的斐波那契数列为:89\n",
      "12的斐波那契数列为:144\n",
      "13的斐波那契数列为:233\n",
      "14的斐波那契数列为:377\n",
      "15的斐波那契数列为:610\n",
      "16的斐波那契数列为:987\n",
      "17的斐波那契数列为:1597\n",
      "18的斐波那契数列为:2584\n",
      "19的斐波那契数列为:4181\n",
      "20的斐波那契数列为:6765\n"
     ]
    }
   ],
   "execution_count": 10
  }
 ],
 "metadata": {
  "kernelspec": {
   "display_name": "Python 3",
   "language": "python",
   "name": "python3"
  },
  "language_info": {
   "codemirror_mode": {
    "name": "ipython",
    "version": 2
   },
   "file_extension": ".py",
   "mimetype": "text/x-python",
   "name": "python",
   "nbconvert_exporter": "python",
   "pygments_lexer": "ipython2",
   "version": "2.7.6"
  }
 },
 "nbformat": 4,
 "nbformat_minor": 5
}
