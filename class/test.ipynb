{
 "cells": [
  {
   "cell_type": "code",
   "id": "initial_id",
   "metadata": {
    "collapsed": true,
    "ExecuteTime": {
     "end_time": "2024-07-26T13:04:04.588925Z",
     "start_time": "2024-07-26T13:04:04.575480Z"
    }
   },
   "source": [
    "ls = [1, 3, 2, 5]\n",
    "\n",
    "ls.sort(reverse = True)\n",
    "\n",
    "ls"
   ],
   "outputs": [
    {
     "data": {
      "text/plain": [
       "[5, 3, 2, 1]"
      ]
     },
     "execution_count": 6,
     "metadata": {},
     "output_type": "execute_result"
    }
   ],
   "execution_count": 6
  },
  {
   "metadata": {
    "ExecuteTime": {
     "end_time": "2024-07-26T13:04:16.870008Z",
     "start_time": "2024-07-26T13:04:16.854222Z"
    }
   },
   "cell_type": "code",
   "source": "print(0o20)",
   "id": "381b35d2bb1a3e81",
   "outputs": [
    {
     "name": "stdout",
     "output_type": "stream",
     "text": [
      "16\n"
     ]
    }
   ],
   "execution_count": 8
  },
  {
   "metadata": {
    "ExecuteTime": {
     "end_time": "2024-07-26T13:05:07.428050Z",
     "start_time": "2024-07-26T13:05:07.411740Z"
    }
   },
   "cell_type": "code",
   "source": [
    "str='a\\rb\\r\\nc\\n'\n",
    "str.splitlines(True)"
   ],
   "id": "6df1f45ab3072b8",
   "outputs": [
    {
     "data": {
      "text/plain": [
       "['a\\r', 'b\\r\\n', 'c\\n']"
      ]
     },
     "execution_count": 10,
     "metadata": {},
     "output_type": "execute_result"
    }
   ],
   "execution_count": 10
  },
  {
   "metadata": {
    "ExecuteTime": {
     "end_time": "2024-07-26T13:05:17.133113Z",
     "start_time": "2024-07-26T13:05:17.118874Z"
    }
   },
   "cell_type": "code",
   "source": "str.splitlines()",
   "id": "74e5184438767de4",
   "outputs": [
    {
     "data": {
      "text/plain": [
       "['a', 'b', 'c']"
      ]
     },
     "execution_count": 12,
     "metadata": {},
     "output_type": "execute_result"
    }
   ],
   "execution_count": 12
  },
  {
   "metadata": {
    "ExecuteTime": {
     "end_time": "2024-07-26T13:05:25.718915Z",
     "start_time": "2024-07-26T13:05:25.702676Z"
    }
   },
   "cell_type": "code",
   "source": "str.split()",
   "id": "4b5a491755ad48b9",
   "outputs": [
    {
     "data": {
      "text/plain": [
       "['a', 'b', 'c']"
      ]
     },
     "execution_count": 14,
     "metadata": {},
     "output_type": "execute_result"
    }
   ],
   "execution_count": 14
  },
  {
   "metadata": {
    "ExecuteTime": {
     "end_time": "2024-07-27T02:44:32.042540Z",
     "start_time": "2024-07-27T02:44:32.027864Z"
    }
   },
   "cell_type": "code",
   "source": [
    "ls = [12, 34.5, True, 'test', 3+5j]\n",
    "ls[3:4]"
   ],
   "id": "fc6f66bd0ab959dd",
   "outputs": [
    {
     "data": {
      "text/plain": [
       "['test']"
      ]
     },
     "execution_count": 1,
     "metadata": {},
     "output_type": "execute_result"
    }
   ],
   "execution_count": 1
  },
  {
   "metadata": {
    "ExecuteTime": {
     "end_time": "2024-07-27T02:44:46.094646Z",
     "start_time": "2024-07-27T02:44:46.082763Z"
    }
   },
   "cell_type": "code",
   "source": [
    "a = 'a'\n",
    "a := '3322'\n",
    "print(a)"
   ],
   "id": "b35b9f2c0740948a",
   "outputs": [
    {
     "ename": "SyntaxError",
     "evalue": "invalid syntax (606036991.py, line 2)",
     "output_type": "error",
     "traceback": [
      "\u001B[1;36m  Cell \u001B[1;32mIn[2], line 2\u001B[1;36m\u001B[0m\n\u001B[1;33m    a := '3322'\u001B[0m\n\u001B[1;37m               ^\u001B[0m\n\u001B[1;31mSyntaxError\u001B[0m\u001B[1;31m:\u001B[0m invalid syntax\n"
     ]
    }
   ],
   "execution_count": 2
  },
  {
   "metadata": {
    "ExecuteTime": {
     "end_time": "2024-07-27T03:06:34.528098Z",
     "start_time": "2024-07-27T03:06:34.519664Z"
    }
   },
   "cell_type": "code",
   "source": [
    "items = list(range(1, 5))\n",
    "for idx,item in enumerate(items):\n",
    "    print(idx, item)\n",
    "    items.remove(item)\n",
    "    print(items)\n",
    "print(items)"
   ],
   "id": "b6442c9e25ecc0d",
   "outputs": [
    {
     "name": "stdout",
     "output_type": "stream",
     "text": [
      "0 1\n",
      "[2, 3, 4]\n",
      "1 3\n",
      "[2, 4]\n",
      "[2, 4]\n"
     ]
    }
   ],
   "execution_count": 21
  },
  {
   "metadata": {
    "ExecuteTime": {
     "end_time": "2024-07-27T02:48:50.813473Z",
     "start_time": "2024-07-27T02:48:50.801438Z"
    }
   },
   "cell_type": "code",
   "source": [
    "items = list(range(1, 5))\n",
    "items.remove(1)\n",
    "items"
   ],
   "id": "327a43fc21506d3d",
   "outputs": [
    {
     "data": {
      "text/plain": [
       "[2, 3, 4]"
      ]
     },
     "execution_count": 18,
     "metadata": {},
     "output_type": "execute_result"
    }
   ],
   "execution_count": 18
  },
  {
   "metadata": {
    "ExecuteTime": {
     "end_time": "2024-07-27T03:17:48.704560Z",
     "start_time": "2024-07-27T03:17:48.690565Z"
    }
   },
   "cell_type": "code",
   "source": "print(False == False in [False])",
   "id": "9becea8255a0b736",
   "outputs": [
    {
     "name": "stdout",
     "output_type": "stream",
     "text": [
      "True\n"
     ]
    }
   ],
   "execution_count": 31
  },
  {
   "metadata": {
    "ExecuteTime": {
     "end_time": "2024-07-27T03:21:43.825284Z",
     "start_time": "2024-07-27T03:21:43.810116Z"
    }
   },
   "cell_type": "code",
   "source": [
    "a = 'a', 'b'\n",
    "*b, = a\n",
    "print(a)\n",
    "print(b)"
   ],
   "id": "487ed755afc91c53",
   "outputs": [
    {
     "name": "stdout",
     "output_type": "stream",
     "text": [
      "('a', 'b')\n",
      "['a', 'b']\n"
     ]
    }
   ],
   "execution_count": 34
  },
  {
   "metadata": {
    "ExecuteTime": {
     "end_time": "2024-07-27T03:22:54.454839Z",
     "start_time": "2024-07-27T03:22:54.439028Z"
    }
   },
   "cell_type": "code",
   "source": [
    "d = {}\n",
    "d[1] = 'a'\n",
    "d[1.0] = 'b'\n",
    "print(d)"
   ],
   "id": "33cc97b7d136fd3d",
   "outputs": [
    {
     "name": "stdout",
     "output_type": "stream",
     "text": [
      "{1: 'b'}\n"
     ]
    }
   ],
   "execution_count": 36
  },
  {
   "metadata": {
    "ExecuteTime": {
     "end_time": "2024-07-27T03:23:12.590439Z",
     "start_time": "2024-07-27T03:23:12.582404Z"
    }
   },
   "cell_type": "code",
   "source": [
    "a,b = 6, 9\n",
    "(a, b := 16, 19)"
   ],
   "id": "d3086ceb7c52ec63",
   "outputs": [
    {
     "data": {
      "text/plain": [
       "(6, 16, 19)"
      ]
     },
     "execution_count": 37,
     "metadata": {},
     "output_type": "execute_result"
    }
   ],
   "execution_count": 37
  },
  {
   "metadata": {
    "ExecuteTime": {
     "end_time": "2024-07-27T05:01:31.336923Z",
     "start_time": "2024-07-27T05:01:31.332479Z"
    }
   },
   "cell_type": "code",
   "source": "print(a, b)",
   "id": "f2c310f1e5c8abf",
   "outputs": [
    {
     "name": "stdout",
     "output_type": "stream",
     "text": [
      "6 16\n"
     ]
    }
   ],
   "execution_count": 40
  },
  {
   "metadata": {
    "ExecuteTime": {
     "end_time": "2024-07-27T05:11:57.802834Z",
     "start_time": "2024-07-27T05:11:57.793205Z"
    }
   },
   "cell_type": "code",
   "source": [
    "class Student:\n",
    "    def __init__(self, name, score):\n",
    "        self.name = name\n",
    "        self.score = score\n",
    "\n",
    "    def __gt__(self, other):\n",
    "        if isinstance(other, Student):\n",
    "            print('ddd')\n",
    "            return self.score > other.score\n",
    "        return NotImplemented\n",
    "\n",
    "# 创建两个 Student 对象\n",
    "stu1 = Student('Alice', 85)\n",
    "stu2 = Student('Bob', 90)\n",
    "\n",
    "# 比较两个 Student 对象\n",
    "print(stu1 > stu2)  # 输出: False，因为 85 不大于 90\n"
   ],
   "id": "1159ad0d0e296786",
   "outputs": [
    {
     "name": "stdout",
     "output_type": "stream",
     "text": [
      "ddd\n",
      "False\n"
     ]
    }
   ],
   "execution_count": 47
  },
  {
   "metadata": {
    "ExecuteTime": {
     "end_time": "2024-07-27T05:14:19.115865Z",
     "start_time": "2024-07-27T05:14:19.103880Z"
    }
   },
   "cell_type": "code",
   "source": [
    "score=80\n",
    "if score<60:\n",
    "    print('成绩为%d'%score, end='，')\n",
    "print('不及格')\n"
   ],
   "id": "bdda5b17a53c8ad6",
   "outputs": [
    {
     "name": "stdout",
     "output_type": "stream",
     "text": [
      "不及格\n"
     ]
    }
   ],
   "execution_count": 49
  },
  {
   "metadata": {
    "ExecuteTime": {
     "end_time": "2024-07-27T05:15:19.535731Z",
     "start_time": "2024-07-27T05:15:19.518716Z"
    }
   },
   "cell_type": "code",
   "source": [
    "d = {'a': 1, 'b': 2}\n",
    "\n",
    "# 使用 'x' in d\n",
    "print('x' in d)  # 输出: False\n",
    "\n",
    "# print(d.has('x'))\n",
    "\n",
    "# 使用 d.get('x') != default，假设 default 是一个不会出现在字典中的值\n",
    "print(d.get('x') != None)  # 输出: False，因为 'x' 不在字典中\n",
    "\n",
    "# 若 default 为 'some_value'，且你知道字典中不会包含 'some_value'\n",
    "print(d.get('x') != 'some_value')  # 输出: True，因为 'x' 不在字典中"
   ],
   "id": "a4e7669d94acd520",
   "outputs": [
    {
     "name": "stdout",
     "output_type": "stream",
     "text": [
      "False\n"
     ]
    },
    {
     "ename": "AttributeError",
     "evalue": "'dict' object has no attribute 'has'",
     "output_type": "error",
     "traceback": [
      "\u001B[1;31m---------------------------------------------------------------------------\u001B[0m",
      "\u001B[1;31mAttributeError\u001B[0m                            Traceback (most recent call last)",
      "Cell \u001B[1;32mIn[53], line 6\u001B[0m\n\u001B[0;32m      3\u001B[0m \u001B[38;5;66;03m# 使用 'x' in d\u001B[39;00m\n\u001B[0;32m      4\u001B[0m \u001B[38;5;28mprint\u001B[39m(\u001B[38;5;124m'\u001B[39m\u001B[38;5;124mx\u001B[39m\u001B[38;5;124m'\u001B[39m \u001B[38;5;129;01min\u001B[39;00m d)  \u001B[38;5;66;03m# 输出: False\u001B[39;00m\n\u001B[1;32m----> 6\u001B[0m \u001B[38;5;28mprint\u001B[39m(\u001B[43md\u001B[49m\u001B[38;5;241;43m.\u001B[39;49m\u001B[43mhas\u001B[49m(\u001B[38;5;124m'\u001B[39m\u001B[38;5;124mx\u001B[39m\u001B[38;5;124m'\u001B[39m))\n\u001B[0;32m      8\u001B[0m \u001B[38;5;66;03m# 使用 d.get('x') != default，假设 default 是一个不会出现在字典中的值\u001B[39;00m\n\u001B[0;32m      9\u001B[0m \u001B[38;5;28mprint\u001B[39m(d\u001B[38;5;241m.\u001B[39mget(\u001B[38;5;124m'\u001B[39m\u001B[38;5;124mx\u001B[39m\u001B[38;5;124m'\u001B[39m) \u001B[38;5;241m!=\u001B[39m \u001B[38;5;28;01mNone\u001B[39;00m)  \u001B[38;5;66;03m# 输出: False，因为 'x' 不在字典中\u001B[39;00m\n",
      "\u001B[1;31mAttributeError\u001B[0m: 'dict' object has no attribute 'has'"
     ]
    }
   ],
   "execution_count": 53
  },
  {
   "metadata": {
    "ExecuteTime": {
     "end_time": "2024-07-27T05:28:11.464893Z",
     "start_time": "2024-07-27T05:28:11.456487Z"
    }
   },
   "cell_type": "code",
   "source": [
    "a,b = 10, 20\n",
    "\n",
    "a and b"
   ],
   "id": "7ce148b6d56eb025",
   "outputs": [
    {
     "data": {
      "text/plain": [
       "20"
      ]
     },
     "execution_count": 55,
     "metadata": {},
     "output_type": "execute_result"
    }
   ],
   "execution_count": 55
  },
  {
   "metadata": {
    "ExecuteTime": {
     "end_time": "2024-07-27T05:29:11.497582Z",
     "start_time": "2024-07-27T05:29:11.478583Z"
    }
   },
   "cell_type": "code",
   "source": [
    "s1 = {1, 2, 3}\n",
    "s2 = {3, 4, 5}\n",
    "result = s1.union(s2)\n",
    "print(result)  # 输出: {1, 2, 3, 4, 5}\n",
    "print(s1)      # 输出: {1, 2, 3}\n",
    "print(s2)      # 输出: {3, 4, 5}\n"
   ],
   "id": "85ec0e4f09590812",
   "outputs": [
    {
     "name": "stdout",
     "output_type": "stream",
     "text": [
      "{1, 2, 3, 4, 5}\n",
      "{1, 2, 3}\n",
      "{3, 4, 5}\n"
     ]
    }
   ],
   "execution_count": 57
  },
  {
   "metadata": {
    "ExecuteTime": {
     "end_time": "2024-07-27T05:31:04.095084Z",
     "start_time": "2024-07-27T05:31:04.087897Z"
    }
   },
   "cell_type": "code",
   "source": [
    "str = '{s1}的职业是{s2}'\n",
    "formatted_str = str.format(s2='教师', s1='李晓明')\n",
    "print(formatted_str)  # 输出: 李晓明的职业是教师\n"
   ],
   "id": "607e5e1b64126751",
   "outputs": [
    {
     "name": "stdout",
     "output_type": "stream",
     "text": [
      "李晓明的职业是教师\n"
     ]
    }
   ],
   "execution_count": 59
  },
  {
   "metadata": {
    "ExecuteTime": {
     "end_time": "2024-07-27T05:31:17.396487Z",
     "start_time": "2024-07-27T05:31:17.381977Z"
    }
   },
   "cell_type": "code",
   "source": [
    "def outer_function():\n",
    "    x = 10\n",
    "\n",
    "    def inner_function():\n",
    "        nonlocal x  # 声明 x 为外层函数中的变量\n",
    "        x = 20  # 修改 x 的值\n",
    "\n",
    "    inner_function()\n",
    "    print(x)  # 输出: 20\n",
    "\n",
    "outer_function()\n"
   ],
   "id": "5b17be87bfc55f8f",
   "outputs": [
    {
     "name": "stdout",
     "output_type": "stream",
     "text": [
      "20\n"
     ]
    }
   ],
   "execution_count": 62
  }
 ],
 "metadata": {
  "kernelspec": {
   "display_name": "Python 3",
   "language": "python",
   "name": "python3"
  },
  "language_info": {
   "codemirror_mode": {
    "name": "ipython",
    "version": 2
   },
   "file_extension": ".py",
   "mimetype": "text/x-python",
   "name": "python",
   "nbconvert_exporter": "python",
   "pygments_lexer": "ipython2",
   "version": "2.7.6"
  }
 },
 "nbformat": 4,
 "nbformat_minor": 5
}
